{
  "nbformat": 4,
  "nbformat_minor": 0,
  "metadata": {
    "accelerator": "GPU",
    "colab": {
      "name": "Task_2.ipynb",
      "provenance": [],
      "collapsed_sections": [],
      "machine_shape": "hm",
      "include_colab_link": true
    },
    "kernelspec": {
      "display_name": "Python 3",
      "language": "python",
      "name": "python3"
    },
    "language_info": {
      "codemirror_mode": {
        "name": "ipython",
        "version": 3
      },
      "file_extension": ".py",
      "mimetype": "text/x-python",
      "name": "python",
      "nbconvert_exporter": "python",
      "pygments_lexer": "ipython3",
      "version": "3.7.1"
    }
  },
  "cells": [
    {
      "cell_type": "markdown",
      "metadata": {
        "id": "view-in-github",
        "colab_type": "text"
      },
      "source": [
        "<a href=\"https://colab.research.google.com/github/Hamza1122/Deep-Learning-Ass/blob/master/Task_2.ipynb\" target=\"_parent\"><img src=\"https://colab.research.google.com/assets/colab-badge.svg\" alt=\"Open In Colab\"/></a>"
      ]
    },
    {
      "cell_type": "markdown",
      "metadata": {
        "colab_type": "text",
        "id": "wjif_5FsdOFz"
      },
      "source": [
        "<strong><h1>Efficient Training of Convolutional Neural Network </h1></strong>\n",
        "\n",
        "\n",
        "\n",
        "<h2> What to submit </h2>\n",
        "\n",
        "<ol>\n",
        "<li>\tYour Python notebook solution source file. </li>\n",
        "<li>\tThe output of your Python notebook solution <emph>exported</emph> in HTML format.</li>\n",
        "<li>\tExtra files needed to complete your task, if any (e.g., images used in your answers).</li>\n",
        "</ol>\n",
        "</p>\n",
        "\n",
        "\n",
        "<h2> Warning </h2>\n",
        "\n",
        "Some components of this task may involve heavy computation that runs for a long duration. Please start early to avoid missing the due date.\n",
        "\n",
        "<h2> Marking criteria </h2>\n",
        "\n",
        "<p>\n",
        "Your submission will be assessed using the following criteria.\n",
        "\n",
        "<ul>\n",
        "<li> Showing good effort through completed tasks.</li>\n",
        "<li> Applying deep learning theory to design suitable deep learning solutions for the tasks.</li>\n",
        "<li> Critically evaluating and reflecting on the pros and cons of various design decisions.</li>\n",
        "<li> Demonstrating creativity and resourcefulness in providing unique individual solutions.</li>\n",
        "<li> Showing attention to details through a good quality  report.</li>\n",
        "</ul>\n",
        "</p>\n",
        "\n",
        "<p>\n",
        "Indicative weights of various tasks are provided, but the task will be assessed by the overall quality per the above criteria.\n",
        "</p>\n",
        "</div>"
      ]
    },
    {
      "cell_type": "markdown",
      "metadata": {
        "colab_type": "text",
        "id": "twFQbltnm8da"
      },
      "source": [
        "## Task objective\n",
        "\n",
        "You will experience training a much deeper network on a large-scale dataset. "
      ]
    },
    {
      "cell_type": "markdown",
      "metadata": {
        "colab_type": "text",
        "id": "3ITc1hw_o7qV"
      },
      "source": [
        "## Task 1 Solving Fashion-MNIST with Convolutional Neural Networks\n",
        "\n",
        "\n",
        "In previous task, you tackled the image classification problem in Fashion-MNIST. There, you used a Densely Connected Neural Network. You should now know that is not an optimal model architecture for the problem. In this task, you will apply the best practices of deep-learning computer vision to improve the image classification performance."
      ]
    },
    {
      "cell_type": "markdown",
      "metadata": {
        "colab_type": "text",
        "id": "zdHwmgwOpEfx"
      },
      "source": [
        "### Task 1.1 Revisit Fashion-MNIST classification with DNN\n",
        "\n",
        "\n",
        "Review your previous tasks solution, and reproduce the experiment here. Try to improve the model without changing the model architecture.\n"
      ]
    },
    {
      "cell_type": "markdown",
      "metadata": {
        "id": "vXCFMPkGis13",
        "colab_type": "text"
      },
      "source": [
        ""
      ]
    },
    {
      "cell_type": "code",
      "metadata": {
        "id": "DaCzaqzc9dYN",
        "colab_type": "code",
        "colab": {
          "base_uri": "https://localhost:8080/",
          "height": 487
        },
        "outputId": "9e89e65f-a110-402d-9b32-ccce43550edf"
      },
      "source": [
        "# Loading the mnist dataset with Keras\n",
        "#importing libraries\n",
        "import numpy as np\n",
        "import time\n",
        "import datetime\n",
        "import keras\n",
        "import matplotlib.pyplot as plt\n",
        "import tensorflow.compat.v2 as tf\n",
        "import tensorflow_datasets as tfds\n",
        "from matplotlib import pyplot\n",
        "\n",
        "from keras.datasets import mnist\n",
        "from keras.models import Sequential\n",
        "from keras.utils import np_utils\n",
        "from keras import models, layers\n",
        "from keras.datasets import fashion_mnist\n",
        "from keras.utils import to_categorical\n",
        "from tensorflow.keras.callbacks import TensorBoard\n",
        "from keras.layers import Dense, Dropout, Conv2D, MaxPool2D\n",
        "from keras.layers import Activation, Dropout, Flatten, Dense\n",
        "from keras.applications.vgg16 import preprocess_input\n",
        "from keras.applications.vgg16 import VGG16, preprocess_input\n",
        "from keras import models\n",
        "from keras.models import Model\n",
        "from keras import layers\n",
        "from keras import optimizers\n",
        "from keras import callbacks\n",
        "from tensorflow.keras import regularizers\n",
        "from keras.layers.advanced_activations import LeakyReLU\n",
        "from sklearn.model_selection import train_test_split\n",
        "\n",
        "\n",
        "tfds.disable_progress_bar()\n",
        "tf.enable_v2_behavior()\n",
        "\n",
        "\n",
        "(ds_train, ds_test), ds_info = tfds.load(\n",
        "    'fashion_mnist',\n",
        "    split=['train', 'test'],\n",
        "    shuffle_files=True,\n",
        "    with_info=True,\n",
        ")\n",
        "class_names = ['T-shirt/top', 'Trouser', 'Pullover', 'Dress', 'Coat',\n",
        "               'Sandal',      'Shirt',   'Sneaker',  'Bag',   'Ankle boot']                  \n",
        "\n",
        "\n",
        "# preprocessing using pipelining\n",
        "def preprocess(features):\n",
        "    image = features['image']\n",
        "    image = tf.image.resize(image, (28,28))\n",
        "    image = image / 255.0\n",
        "    return image, features['label']  \n",
        "\n",
        "\n",
        "#creating input pipeline\n",
        "ds_train = ds_train.map(\n",
        "    preprocess, num_parallel_calls=tf.data.experimental.AUTOTUNE)\n",
        "\n",
        "\n",
        "#ds_train = ds_train.cache()\n",
        "ds_train = ds_train.shuffle(ds_info.splits['train'].num_examples)\n",
        "ds_train = ds_train.batch(128)\n",
        "ds_train = ds_train.prefetch(tf.data.experimental.AUTOTUNE)   \n",
        "\n",
        "\n",
        "\n",
        "#creating pipeling for test images\n",
        "ds_test = ds_test.map(\n",
        "    preprocess, num_parallel_calls=tf.data.experimental.AUTOTUNE)\n",
        "ds_test = ds_test.batch(128)\n",
        "ds_test = ds_test.prefetch(tf.data.experimental.AUTOTUNE)\n",
        "\n",
        "\n",
        "tbCallBack = keras.callbacks.TensorBoard(log_dir='./Graph', histogram_freq=0, write_graph=True, write_images=True)\n",
        "path=\"logs/fit/\" +datetime.datetime.now().strftime(\"%Y%m%d-%H%M%S\")\n",
        "callback=tf.keras.callbacks.TensorBoard(log_dir=path,histogram_freq=1,write_graph=True)\n",
        "\n",
        "\n",
        "#setting up a model for training\n",
        "#Now we are adding batch Normalization, Dropout, Regularization and learning Schedule of Optimzer\n",
        "model1 = tf.keras.models.Sequential([\n",
        "tf.keras.layers.Flatten(input_shape=(28, 28, 1)),\n",
        "tf.keras.layers.Dropout(.3),\n",
        "tf.keras.layers.BatchNormalization(),\n",
        "tf.keras.layers.Dense(128,activation='relu',activity_regularizer=regularizers.l1(1e-4)),\n",
        "tf.keras.layers.Dropout(.3),\n",
        "tf.keras.layers.BatchNormalization(),\n",
        "tf.keras.layers.Dense(128,activation='relu',activity_regularizer=regularizers.l1(1e-4)),\n",
        "tf.keras.layers.Dropout(.3),\n",
        "tf.keras.layers.BatchNormalization(),\n",
        "\n",
        "tf.keras.layers.Dense(10, activation='softmax')\n",
        "])\n",
        "initial_learning_rate = 0.1\n",
        "lr_schedule = keras.optimizers.schedules.ExponentialDecay(\n",
        "initial_learning_rate, decay_steps=100000, decay_rate=0.96, staircase=True\n",
        ")\n",
        "from keras.utils.vis_utils import plot_model\n",
        "model1.summary()\n",
        "#plot_model(model, to_file='model_plot.png', show_shapes=True, show_layer_names=True)"
      ],
      "execution_count": 58,
      "outputs": [
        {
          "output_type": "stream",
          "text": [
            "Model: \"sequential_15\"\n",
            "_________________________________________________________________\n",
            "Layer (type)                 Output Shape              Param #   \n",
            "=================================================================\n",
            "flatten_10 (Flatten)         (None, 784)               0         \n",
            "_________________________________________________________________\n",
            "dropout_9 (Dropout)          (None, 784)               0         \n",
            "_________________________________________________________________\n",
            "batch_normalization_9 (Batch (None, 784)               3136      \n",
            "_________________________________________________________________\n",
            "dense_25 (Dense)             (None, 128)               100480    \n",
            "_________________________________________________________________\n",
            "dropout_10 (Dropout)         (None, 128)               0         \n",
            "_________________________________________________________________\n",
            "batch_normalization_10 (Batc (None, 128)               512       \n",
            "_________________________________________________________________\n",
            "dense_26 (Dense)             (None, 128)               16512     \n",
            "_________________________________________________________________\n",
            "dropout_11 (Dropout)         (None, 128)               0         \n",
            "_________________________________________________________________\n",
            "batch_normalization_11 (Batc (None, 128)               512       \n",
            "_________________________________________________________________\n",
            "dense_27 (Dense)             (None, 10)                1290      \n",
            "=================================================================\n",
            "Total params: 122,442\n",
            "Trainable params: 120,362\n",
            "Non-trainable params: 2,080\n",
            "_________________________________________________________________\n"
          ],
          "name": "stdout"
        }
      ]
    },
    {
      "cell_type": "code",
      "metadata": {
        "id": "zpUQ0Yh69_Am",
        "colab_type": "code",
        "colab": {
          "base_uri": "https://localhost:8080/",
          "height": 1000
        },
        "outputId": "e145b6dc-1e0b-4b92-9b42-c8bcf27fdc8e"
      },
      "source": [
        "optimizer = keras.optimizers.RMSprop(learning_rate=lr_schedule)\n",
        "\n",
        "model1.compile(loss='sparse_categorical_crossentropy',optimizer=optimizer,metrics=['accuracy'])\n",
        "history=model1.fit(ds_train,epochs=100,validation_data=ds_test,callbacks=[tbCallBack])"
      ],
      "execution_count": 59,
      "outputs": [
        {
          "output_type": "stream",
          "text": [
            "Epoch 1/100\n",
            "      2/Unknown - 0s 97ms/step - loss: 4.1498 - accuracy: 0.1484 WARNING:tensorflow:Callbacks method `on_train_batch_end` is slow compared to the batch time (batch time: 0.0086s vs `on_train_batch_end` time: 0.1837s). Check your callbacks.\n"
          ],
          "name": "stdout"
        },
        {
          "output_type": "stream",
          "text": [
            "WARNING:tensorflow:Callbacks method `on_train_batch_end` is slow compared to the batch time (batch time: 0.0086s vs `on_train_batch_end` time: 0.1837s). Check your callbacks.\n"
          ],
          "name": "stderr"
        },
        {
          "output_type": "stream",
          "text": [
            "469/469 [==============================] - 3s 7ms/step - loss: 1.2522 - accuracy: 0.6629 - val_loss: 1.3030 - val_accuracy: 0.6621\n",
            "Epoch 2/100\n",
            "469/469 [==============================] - 3s 7ms/step - loss: 1.1340 - accuracy: 0.6952 - val_loss: 1.0360 - val_accuracy: 0.7419\n",
            "Epoch 3/100\n",
            "469/469 [==============================] - 3s 7ms/step - loss: 1.1330 - accuracy: 0.6983 - val_loss: 0.7966 - val_accuracy: 0.8121\n",
            "Epoch 4/100\n",
            "469/469 [==============================] - 3s 7ms/step - loss: 1.1714 - accuracy: 0.6859 - val_loss: 1.4498 - val_accuracy: 0.7493\n",
            "Epoch 5/100\n",
            "469/469 [==============================] - 3s 7ms/step - loss: 1.1566 - accuracy: 0.6955 - val_loss: 0.8695 - val_accuracy: 0.7649\n",
            "Epoch 6/100\n",
            "469/469 [==============================] - 3s 7ms/step - loss: 1.1498 - accuracy: 0.6938 - val_loss: 1.0295 - val_accuracy: 0.7157\n",
            "Epoch 7/100\n",
            "469/469 [==============================] - 3s 7ms/step - loss: 1.1327 - accuracy: 0.6996 - val_loss: 1.2236 - val_accuracy: 0.7398\n",
            "Epoch 8/100\n",
            "469/469 [==============================] - 3s 7ms/step - loss: 1.1674 - accuracy: 0.6927 - val_loss: 1.2697 - val_accuracy: 0.7428\n",
            "Epoch 9/100\n",
            "469/469 [==============================] - 3s 7ms/step - loss: 1.1589 - accuracy: 0.6927 - val_loss: 1.2336 - val_accuracy: 0.7149\n",
            "Epoch 10/100\n",
            "469/469 [==============================] - 3s 7ms/step - loss: 1.1554 - accuracy: 0.6916 - val_loss: 0.8535 - val_accuracy: 0.7745\n",
            "Epoch 11/100\n",
            "469/469 [==============================] - 3s 7ms/step - loss: 1.1535 - accuracy: 0.6916 - val_loss: 0.9343 - val_accuracy: 0.7357\n",
            "Epoch 12/100\n",
            "469/469 [==============================] - 3s 7ms/step - loss: 1.1606 - accuracy: 0.6902 - val_loss: 4.8109 - val_accuracy: 0.7499\n",
            "Epoch 13/100\n",
            "469/469 [==============================] - 3s 7ms/step - loss: 1.1541 - accuracy: 0.6904 - val_loss: 0.8904 - val_accuracy: 0.7986\n",
            "Epoch 14/100\n",
            "469/469 [==============================] - 3s 7ms/step - loss: 1.1590 - accuracy: 0.6900 - val_loss: 1.4442 - val_accuracy: 0.7150\n",
            "Epoch 15/100\n",
            "469/469 [==============================] - 3s 7ms/step - loss: 1.1575 - accuracy: 0.6905 - val_loss: 0.8677 - val_accuracy: 0.7780\n",
            "Epoch 16/100\n",
            "469/469 [==============================] - 3s 7ms/step - loss: 1.1497 - accuracy: 0.6918 - val_loss: 1.6519 - val_accuracy: 0.7464\n",
            "Epoch 17/100\n",
            "469/469 [==============================] - 3s 7ms/step - loss: 1.1896 - accuracy: 0.6753 - val_loss: 1.9173 - val_accuracy: 0.7809\n",
            "Epoch 18/100\n",
            "469/469 [==============================] - 3s 7ms/step - loss: 1.2067 - accuracy: 0.6758 - val_loss: 2.6489 - val_accuracy: 0.7554\n",
            "Epoch 19/100\n",
            "469/469 [==============================] - 3s 7ms/step - loss: 1.2161 - accuracy: 0.6723 - val_loss: 1.0067 - val_accuracy: 0.6339\n",
            "Epoch 20/100\n",
            "469/469 [==============================] - 3s 7ms/step - loss: 1.1881 - accuracy: 0.6838 - val_loss: 0.7928 - val_accuracy: 0.7934\n",
            "Epoch 21/100\n",
            "469/469 [==============================] - 3s 7ms/step - loss: 1.1645 - accuracy: 0.6872 - val_loss: 0.8482 - val_accuracy: 0.7169\n",
            "Epoch 22/100\n",
            "469/469 [==============================] - 3s 7ms/step - loss: 1.1690 - accuracy: 0.6872 - val_loss: 2.5187 - val_accuracy: 0.7582\n",
            "Epoch 23/100\n",
            "469/469 [==============================] - 3s 7ms/step - loss: 1.1735 - accuracy: 0.6810 - val_loss: 0.8305 - val_accuracy: 0.7443\n",
            "Epoch 24/100\n",
            "469/469 [==============================] - 3s 7ms/step - loss: 1.1635 - accuracy: 0.6850 - val_loss: 0.8063 - val_accuracy: 0.8021\n",
            "Epoch 25/100\n",
            "469/469 [==============================] - 3s 7ms/step - loss: 1.1563 - accuracy: 0.6866 - val_loss: 0.7300 - val_accuracy: 0.8136\n",
            "Epoch 26/100\n",
            "469/469 [==============================] - 3s 7ms/step - loss: 1.1598 - accuracy: 0.6875 - val_loss: 1.0210 - val_accuracy: 0.7946\n",
            "Epoch 27/100\n",
            "469/469 [==============================] - 3s 7ms/step - loss: 1.1564 - accuracy: 0.6898 - val_loss: 1.0407 - val_accuracy: 0.7421\n",
            "Epoch 28/100\n",
            "469/469 [==============================] - 3s 7ms/step - loss: 1.1554 - accuracy: 0.6935 - val_loss: 1.7074 - val_accuracy: 0.7451\n",
            "Epoch 29/100\n",
            "469/469 [==============================] - 3s 7ms/step - loss: 1.1757 - accuracy: 0.6858 - val_loss: 1.1373 - val_accuracy: 0.7904\n",
            "Epoch 30/100\n",
            "469/469 [==============================] - 3s 7ms/step - loss: 1.1835 - accuracy: 0.6829 - val_loss: 0.7342 - val_accuracy: 0.8088\n",
            "Epoch 31/100\n",
            "469/469 [==============================] - 3s 7ms/step - loss: 1.1980 - accuracy: 0.6715 - val_loss: 0.7637 - val_accuracy: 0.7871\n",
            "Epoch 32/100\n",
            "469/469 [==============================] - 3s 7ms/step - loss: 1.1833 - accuracy: 0.6768 - val_loss: 0.7834 - val_accuracy: 0.7938\n",
            "Epoch 33/100\n",
            "469/469 [==============================] - 3s 7ms/step - loss: 1.1686 - accuracy: 0.6825 - val_loss: 1.0008 - val_accuracy: 0.7793\n",
            "Epoch 34/100\n",
            "469/469 [==============================] - 3s 7ms/step - loss: 1.1824 - accuracy: 0.6769 - val_loss: 1.2079 - val_accuracy: 0.6186\n",
            "Epoch 35/100\n",
            "469/469 [==============================] - 3s 7ms/step - loss: 1.1748 - accuracy: 0.6734 - val_loss: 1.0427 - val_accuracy: 0.6975\n",
            "Epoch 36/100\n",
            "469/469 [==============================] - 3s 7ms/step - loss: 1.1976 - accuracy: 0.6702 - val_loss: 0.8429 - val_accuracy: 0.7498\n",
            "Epoch 37/100\n",
            "469/469 [==============================] - 3s 7ms/step - loss: 1.1805 - accuracy: 0.6761 - val_loss: 0.9298 - val_accuracy: 0.7371\n",
            "Epoch 38/100\n",
            "469/469 [==============================] - 3s 7ms/step - loss: 1.1981 - accuracy: 0.6754 - val_loss: 0.8793 - val_accuracy: 0.7077\n",
            "Epoch 39/100\n",
            "469/469 [==============================] - 3s 7ms/step - loss: 1.1976 - accuracy: 0.6742 - val_loss: 0.8111 - val_accuracy: 0.7773\n",
            "Epoch 40/100\n",
            "469/469 [==============================] - 3s 7ms/step - loss: 1.2091 - accuracy: 0.6710 - val_loss: 1.0855 - val_accuracy: 0.7250\n",
            "Epoch 41/100\n",
            "469/469 [==============================] - 3s 7ms/step - loss: 1.2040 - accuracy: 0.6636 - val_loss: 0.9032 - val_accuracy: 0.6852\n",
            "Epoch 42/100\n",
            "469/469 [==============================] - 3s 7ms/step - loss: 1.2197 - accuracy: 0.6568 - val_loss: 2.2223 - val_accuracy: 0.5173\n",
            "Epoch 43/100\n",
            "469/469 [==============================] - 3s 7ms/step - loss: 1.2157 - accuracy: 0.6566 - val_loss: 2.0837 - val_accuracy: 0.7645\n",
            "Epoch 44/100\n",
            "469/469 [==============================] - 3s 7ms/step - loss: 1.2422 - accuracy: 0.6528 - val_loss: 4.5327 - val_accuracy: 0.7555\n",
            "Epoch 45/100\n",
            "469/469 [==============================] - 3s 7ms/step - loss: 1.2244 - accuracy: 0.6581 - val_loss: 24.8487 - val_accuracy: 0.7145\n",
            "Epoch 46/100\n",
            "469/469 [==============================] - 3s 7ms/step - loss: 1.2225 - accuracy: 0.6573 - val_loss: 0.8953 - val_accuracy: 0.7960\n",
            "Epoch 47/100\n",
            "469/469 [==============================] - 3s 7ms/step - loss: 1.2289 - accuracy: 0.6551 - val_loss: 21.3506 - val_accuracy: 0.7795\n",
            "Epoch 48/100\n",
            "469/469 [==============================] - 3s 7ms/step - loss: 1.2189 - accuracy: 0.6573 - val_loss: 13.7021 - val_accuracy: 0.7856\n",
            "Epoch 49/100\n",
            "469/469 [==============================] - 3s 7ms/step - loss: 1.2316 - accuracy: 0.6528 - val_loss: 0.7786 - val_accuracy: 0.7717\n",
            "Epoch 50/100\n",
            "469/469 [==============================] - 3s 7ms/step - loss: 1.2210 - accuracy: 0.6530 - val_loss: 0.7554 - val_accuracy: 0.8008\n",
            "Epoch 51/100\n",
            "469/469 [==============================] - 3s 7ms/step - loss: 1.2316 - accuracy: 0.6464 - val_loss: 7.9603 - val_accuracy: 0.6274\n",
            "Epoch 52/100\n",
            "469/469 [==============================] - 3s 7ms/step - loss: 1.2312 - accuracy: 0.6487 - val_loss: 0.7426 - val_accuracy: 0.7968\n",
            "Epoch 53/100\n",
            "469/469 [==============================] - 3s 7ms/step - loss: 1.2433 - accuracy: 0.6453 - val_loss: 1.2438 - val_accuracy: 0.6046\n",
            "Epoch 54/100\n",
            "469/469 [==============================] - 3s 7ms/step - loss: 1.2474 - accuracy: 0.6420 - val_loss: 40.3811 - val_accuracy: 0.7625\n",
            "Epoch 55/100\n",
            "469/469 [==============================] - 3s 7ms/step - loss: 1.2389 - accuracy: 0.6435 - val_loss: 39.9137 - val_accuracy: 0.6897\n",
            "Epoch 56/100\n",
            "469/469 [==============================] - 3s 7ms/step - loss: 1.2244 - accuracy: 0.6507 - val_loss: 0.8118 - val_accuracy: 0.7314\n",
            "Epoch 57/100\n",
            "469/469 [==============================] - 3s 7ms/step - loss: 1.2415 - accuracy: 0.6467 - val_loss: 2.4052 - val_accuracy: 0.7543\n",
            "Epoch 58/100\n",
            "469/469 [==============================] - 3s 7ms/step - loss: 1.2672 - accuracy: 0.6405 - val_loss: 8.1667 - val_accuracy: 0.7016\n",
            "Epoch 59/100\n",
            "469/469 [==============================] - 3s 7ms/step - loss: 1.2417 - accuracy: 0.6479 - val_loss: 10.2378 - val_accuracy: 0.7024\n",
            "Epoch 60/100\n",
            "469/469 [==============================] - 3s 7ms/step - loss: 1.2340 - accuracy: 0.6492 - val_loss: 7.5980 - val_accuracy: 0.7788\n",
            "Epoch 61/100\n",
            "469/469 [==============================] - 3s 7ms/step - loss: 1.2524 - accuracy: 0.6411 - val_loss: 189.9280 - val_accuracy: 0.7389\n",
            "Epoch 62/100\n",
            "469/469 [==============================] - 3s 7ms/step - loss: 1.2406 - accuracy: 0.6459 - val_loss: 122.3362 - val_accuracy: 0.7436\n",
            "Epoch 63/100\n",
            "469/469 [==============================] - 3s 7ms/step - loss: 1.2299 - accuracy: 0.6496 - val_loss: 35.3291 - val_accuracy: 0.6967\n",
            "Epoch 64/100\n",
            "469/469 [==============================] - 3s 7ms/step - loss: 1.2384 - accuracy: 0.6464 - val_loss: 12.0996 - val_accuracy: 0.5199\n",
            "Epoch 65/100\n",
            "469/469 [==============================] - 3s 7ms/step - loss: 1.2520 - accuracy: 0.6468 - val_loss: 1.1200 - val_accuracy: 0.6618\n",
            "Epoch 66/100\n",
            "469/469 [==============================] - 3s 7ms/step - loss: 1.2226 - accuracy: 0.6555 - val_loss: 1.0205 - val_accuracy: 0.7522\n",
            "Epoch 67/100\n",
            "469/469 [==============================] - 3s 7ms/step - loss: 1.2158 - accuracy: 0.6561 - val_loss: 3.5452 - val_accuracy: 0.6569\n",
            "Epoch 68/100\n",
            "469/469 [==============================] - 3s 7ms/step - loss: 1.2167 - accuracy: 0.6575 - val_loss: 1.4710 - val_accuracy: 0.6009\n",
            "Epoch 69/100\n",
            "469/469 [==============================] - 3s 7ms/step - loss: 1.2090 - accuracy: 0.6581 - val_loss: 13.1032 - val_accuracy: 0.7541\n",
            "Epoch 70/100\n",
            "469/469 [==============================] - 3s 7ms/step - loss: 1.2130 - accuracy: 0.6593 - val_loss: 10.2097 - val_accuracy: 0.7020\n",
            "Epoch 71/100\n",
            "469/469 [==============================] - 3s 7ms/step - loss: 1.2174 - accuracy: 0.6534 - val_loss: 70.7527 - val_accuracy: 0.7315\n",
            "Epoch 72/100\n",
            "469/469 [==============================] - 3s 7ms/step - loss: 1.2277 - accuracy: 0.6533 - val_loss: 8.8996 - val_accuracy: 0.6003\n",
            "Epoch 73/100\n",
            "469/469 [==============================] - 3s 7ms/step - loss: 1.2411 - accuracy: 0.6502 - val_loss: 30.5025 - val_accuracy: 0.7241\n",
            "Epoch 74/100\n",
            "469/469 [==============================] - 3s 7ms/step - loss: 1.2152 - accuracy: 0.6549 - val_loss: 0.9810 - val_accuracy: 0.7207\n",
            "Epoch 75/100\n",
            "469/469 [==============================] - 3s 7ms/step - loss: 1.2162 - accuracy: 0.6523 - val_loss: 0.8949 - val_accuracy: 0.7439\n",
            "Epoch 76/100\n",
            "469/469 [==============================] - 3s 7ms/step - loss: 1.2149 - accuracy: 0.6500 - val_loss: 0.9604 - val_accuracy: 0.7428\n",
            "Epoch 77/100\n",
            "469/469 [==============================] - 3s 7ms/step - loss: 1.2128 - accuracy: 0.6551 - val_loss: 22.6069 - val_accuracy: 0.6719\n",
            "Epoch 78/100\n",
            "469/469 [==============================] - 3s 7ms/step - loss: 1.2378 - accuracy: 0.6377 - val_loss: 56.4078 - val_accuracy: 0.6151\n",
            "Epoch 79/100\n",
            "469/469 [==============================] - 3s 7ms/step - loss: 1.2501 - accuracy: 0.6424 - val_loss: 5.1740 - val_accuracy: 0.7994\n",
            "Epoch 80/100\n",
            "469/469 [==============================] - 3s 7ms/step - loss: 1.2196 - accuracy: 0.6511 - val_loss: 1.6875 - val_accuracy: 0.4887\n",
            "Epoch 81/100\n",
            "469/469 [==============================] - 3s 7ms/step - loss: 1.2199 - accuracy: 0.6453 - val_loss: 6.1734 - val_accuracy: 0.6639\n",
            "Epoch 82/100\n",
            "469/469 [==============================] - 3s 7ms/step - loss: 1.2158 - accuracy: 0.6498 - val_loss: 43.4674 - val_accuracy: 0.7058\n",
            "Epoch 83/100\n",
            "469/469 [==============================] - 3s 7ms/step - loss: 1.2142 - accuracy: 0.6547 - val_loss: 1.3541 - val_accuracy: 0.7617\n",
            "Epoch 84/100\n",
            "469/469 [==============================] - 3s 7ms/step - loss: 1.2192 - accuracy: 0.6499 - val_loss: 82.5380 - val_accuracy: 0.5730\n",
            "Epoch 85/100\n",
            "469/469 [==============================] - 3s 7ms/step - loss: 1.2292 - accuracy: 0.6530 - val_loss: 1.2814 - val_accuracy: 0.6656\n",
            "Epoch 86/100\n",
            "469/469 [==============================] - 3s 7ms/step - loss: 1.2161 - accuracy: 0.6522 - val_loss: 0.8560 - val_accuracy: 0.7694\n",
            "Epoch 87/100\n",
            "469/469 [==============================] - 3s 7ms/step - loss: 1.2250 - accuracy: 0.6525 - val_loss: 1.0429 - val_accuracy: 0.6389\n",
            "Epoch 88/100\n",
            "469/469 [==============================] - 3s 7ms/step - loss: 1.2027 - accuracy: 0.6532 - val_loss: 1.3581 - val_accuracy: 0.6960\n",
            "Epoch 89/100\n",
            "469/469 [==============================] - 3s 7ms/step - loss: 1.2287 - accuracy: 0.6558 - val_loss: 5.6309 - val_accuracy: 0.7355\n",
            "Epoch 90/100\n",
            "469/469 [==============================] - 3s 7ms/step - loss: 1.2153 - accuracy: 0.6531 - val_loss: 94.5586 - val_accuracy: 0.7601\n",
            "Epoch 91/100\n",
            "469/469 [==============================] - 3s 7ms/step - loss: 1.2241 - accuracy: 0.6492 - val_loss: 152.2000 - val_accuracy: 0.4784\n",
            "Epoch 92/100\n",
            "469/469 [==============================] - 3s 7ms/step - loss: 1.2175 - accuracy: 0.6566 - val_loss: 317.0087 - val_accuracy: 0.7959\n",
            "Epoch 93/100\n",
            "469/469 [==============================] - 3s 7ms/step - loss: 1.2176 - accuracy: 0.6526 - val_loss: 325.8722 - val_accuracy: 0.7199\n",
            "Epoch 94/100\n",
            "469/469 [==============================] - 3s 7ms/step - loss: 1.2140 - accuracy: 0.6504 - val_loss: 429.9212 - val_accuracy: 0.7187\n",
            "Epoch 95/100\n",
            "469/469 [==============================] - 3s 7ms/step - loss: 1.2180 - accuracy: 0.6536 - val_loss: 518.3181 - val_accuracy: 0.6941\n",
            "Epoch 96/100\n",
            "469/469 [==============================] - 3s 7ms/step - loss: 1.2175 - accuracy: 0.6487 - val_loss: 2.8769 - val_accuracy: 0.7390\n",
            "Epoch 97/100\n",
            "469/469 [==============================] - 3s 7ms/step - loss: 1.2182 - accuracy: 0.6545 - val_loss: 6.9090 - val_accuracy: 0.7566\n",
            "Epoch 98/100\n",
            "469/469 [==============================] - 3s 7ms/step - loss: 1.2209 - accuracy: 0.6528 - val_loss: 10.8812 - val_accuracy: 0.7451\n",
            "Epoch 99/100\n",
            "469/469 [==============================] - 3s 7ms/step - loss: 1.2212 - accuracy: 0.6544 - val_loss: 22.0889 - val_accuracy: 0.7317\n",
            "Epoch 100/100\n",
            "469/469 [==============================] - 3s 7ms/step - loss: 1.2229 - accuracy: 0.6491 - val_loss: 3.5107 - val_accuracy: 0.7260\n"
          ],
          "name": "stdout"
        }
      ]
    },
    {
      "cell_type": "markdown",
      "metadata": {
        "colab_type": "text",
        "id": "cfTL_5kPsl4j"
      },
      "source": [
        "### Task 1.2 Train a ConvNet from scratch\n",
        "\n",
        "\n",
        "Build a ConvNet to replace the densely connected network in Task 1.1. Report the classification accuracy on the test set. Aim to achieve higher accuracy. \n",
        "\n"
      ]
    },
    {
      "cell_type": "code",
      "metadata": {
        "id": "lHcl6HHi6yVv",
        "colab_type": "code",
        "colab": {}
      },
      "source": [
        "#Now Using CNN\n",
        "model = tf.keras.models.Sequential([\n",
        "    tf.keras.layers.Conv2D(64, (3, 3), activation='relu', input_shape=(28, 28, 1)),\n",
        "    tf.keras.layers.MaxPooling2D(2, 2),\n",
        "    tf.keras.layers.Conv2D(64, (3, 3), activation='relu'),\n",
        "    tf.keras.layers.MaxPooling2D(2, 2),\n",
        "    tf.keras.layers.Flatten(),\n",
        "    tf.keras.layers.Dense(128, activation='relu'),\n",
        "    tf.keras.layers.Dense(10, activation='softmax')\n",
        "])\n"
      ],
      "execution_count": 60,
      "outputs": []
    },
    {
      "cell_type": "code",
      "metadata": {
        "id": "QMkifrtN7vPV",
        "colab_type": "code",
        "colab": {
          "base_uri": "https://localhost:8080/",
          "height": 386
        },
        "outputId": "801555f1-90b3-4c43-883e-2f80b64243a6"
      },
      "source": [
        "from keras.utils.vis_utils import plot_model\n",
        "model.summary()\n",
        "#plot_model(model, to_file='model_plot.png', show_shapes=True, show_layer_names=True)"
      ],
      "execution_count": 61,
      "outputs": [
        {
          "output_type": "stream",
          "text": [
            "Model: \"sequential_16\"\n",
            "_________________________________________________________________\n",
            "Layer (type)                 Output Shape              Param #   \n",
            "=================================================================\n",
            "conv2d_10 (Conv2D)           (None, 26, 26, 64)        640       \n",
            "_________________________________________________________________\n",
            "max_pooling2d_10 (MaxPooling (None, 13, 13, 64)        0         \n",
            "_________________________________________________________________\n",
            "conv2d_11 (Conv2D)           (None, 11, 11, 64)        36928     \n",
            "_________________________________________________________________\n",
            "max_pooling2d_11 (MaxPooling (None, 5, 5, 64)          0         \n",
            "_________________________________________________________________\n",
            "flatten_11 (Flatten)         (None, 1600)              0         \n",
            "_________________________________________________________________\n",
            "dense_28 (Dense)             (None, 128)               204928    \n",
            "_________________________________________________________________\n",
            "dense_29 (Dense)             (None, 10)                1290      \n",
            "=================================================================\n",
            "Total params: 243,786\n",
            "Trainable params: 243,786\n",
            "Non-trainable params: 0\n",
            "_________________________________________________________________\n"
          ],
          "name": "stdout"
        }
      ]
    },
    {
      "cell_type": "code",
      "metadata": {
        "id": "SA2291387zeb",
        "colab_type": "code",
        "colab": {
          "base_uri": "https://localhost:8080/",
          "height": 1000
        },
        "outputId": "79d1dd6b-4ca3-4052-ccfe-0da0a64fdcfc"
      },
      "source": [
        "model.compile(loss='sparse_categorical_crossentropy',optimizer=tf.keras.optimizers.Adam(0.001,clipnorm=1.0),metrics=['accuracy'])\n",
        "history=model.fit(ds_train,epochs=100,validation_data=ds_test,callbacks=[callback])"
      ],
      "execution_count": 62,
      "outputs": [
        {
          "output_type": "stream",
          "text": [
            "Epoch 1/100\n",
            "      2/Unknown - 0s 38ms/step - loss: 2.2842 - accuracy: 0.1445 WARNING:tensorflow:Callbacks method `on_train_batch_end` is slow compared to the batch time (batch time: 0.0062s vs `on_train_batch_end` time: 0.0689s). Check your callbacks.\n"
          ],
          "name": "stdout"
        },
        {
          "output_type": "stream",
          "text": [
            "WARNING:tensorflow:Callbacks method `on_train_batch_end` is slow compared to the batch time (batch time: 0.0062s vs `on_train_batch_end` time: 0.0689s). Check your callbacks.\n"
          ],
          "name": "stderr"
        },
        {
          "output_type": "stream",
          "text": [
            "469/469 [==============================] - 3s 6ms/step - loss: 0.5159 - accuracy: 0.8131 - val_loss: 0.3819 - val_accuracy: 0.8650\n",
            "Epoch 2/100\n",
            "469/469 [==============================] - 3s 6ms/step - loss: 0.3300 - accuracy: 0.8800 - val_loss: 0.3227 - val_accuracy: 0.8828\n",
            "Epoch 3/100\n",
            "469/469 [==============================] - 3s 6ms/step - loss: 0.2850 - accuracy: 0.8959 - val_loss: 0.3307 - val_accuracy: 0.8794\n",
            "Epoch 4/100\n",
            "469/469 [==============================] - 3s 6ms/step - loss: 0.2545 - accuracy: 0.9053 - val_loss: 0.2829 - val_accuracy: 0.8962\n",
            "Epoch 5/100\n",
            "469/469 [==============================] - 3s 6ms/step - loss: 0.2308 - accuracy: 0.9160 - val_loss: 0.2713 - val_accuracy: 0.8993\n",
            "Epoch 6/100\n",
            "469/469 [==============================] - 3s 6ms/step - loss: 0.2105 - accuracy: 0.9225 - val_loss: 0.2553 - val_accuracy: 0.9072\n",
            "Epoch 7/100\n",
            "469/469 [==============================] - 3s 6ms/step - loss: 0.1951 - accuracy: 0.9275 - val_loss: 0.2609 - val_accuracy: 0.9064\n",
            "Epoch 8/100\n",
            "469/469 [==============================] - 3s 6ms/step - loss: 0.1806 - accuracy: 0.9326 - val_loss: 0.2572 - val_accuracy: 0.9074\n",
            "Epoch 9/100\n",
            "469/469 [==============================] - 3s 6ms/step - loss: 0.1629 - accuracy: 0.9391 - val_loss: 0.2456 - val_accuracy: 0.9148\n",
            "Epoch 10/100\n",
            "469/469 [==============================] - 3s 6ms/step - loss: 0.1494 - accuracy: 0.9452 - val_loss: 0.2602 - val_accuracy: 0.9095\n",
            "Epoch 11/100\n",
            "469/469 [==============================] - 3s 6ms/step - loss: 0.1373 - accuracy: 0.9491 - val_loss: 0.2581 - val_accuracy: 0.9130\n",
            "Epoch 12/100\n",
            "469/469 [==============================] - 3s 6ms/step - loss: 0.1240 - accuracy: 0.9534 - val_loss: 0.2622 - val_accuracy: 0.9108\n",
            "Epoch 13/100\n",
            "469/469 [==============================] - 3s 6ms/step - loss: 0.1148 - accuracy: 0.9562 - val_loss: 0.2650 - val_accuracy: 0.9152\n",
            "Epoch 14/100\n",
            "469/469 [==============================] - 3s 6ms/step - loss: 0.1026 - accuracy: 0.9625 - val_loss: 0.3117 - val_accuracy: 0.9066\n",
            "Epoch 15/100\n",
            "469/469 [==============================] - 3s 6ms/step - loss: 0.0931 - accuracy: 0.9657 - val_loss: 0.3032 - val_accuracy: 0.9117\n",
            "Epoch 16/100\n",
            "469/469 [==============================] - 3s 6ms/step - loss: 0.0850 - accuracy: 0.9692 - val_loss: 0.3066 - val_accuracy: 0.9122\n",
            "Epoch 17/100\n",
            "469/469 [==============================] - 3s 6ms/step - loss: 0.0744 - accuracy: 0.9730 - val_loss: 0.3101 - val_accuracy: 0.9127\n",
            "Epoch 18/100\n",
            "469/469 [==============================] - 3s 6ms/step - loss: 0.0700 - accuracy: 0.9742 - val_loss: 0.3316 - val_accuracy: 0.9104\n",
            "Epoch 19/100\n",
            "469/469 [==============================] - 3s 6ms/step - loss: 0.0595 - accuracy: 0.9788 - val_loss: 0.3527 - val_accuracy: 0.9070\n",
            "Epoch 20/100\n",
            "469/469 [==============================] - 3s 6ms/step - loss: 0.0551 - accuracy: 0.9794 - val_loss: 0.3901 - val_accuracy: 0.9060\n",
            "Epoch 21/100\n",
            "469/469 [==============================] - 3s 6ms/step - loss: 0.0491 - accuracy: 0.9817 - val_loss: 0.3703 - val_accuracy: 0.9127\n",
            "Epoch 22/100\n",
            "469/469 [==============================] - 3s 6ms/step - loss: 0.0433 - accuracy: 0.9841 - val_loss: 0.3838 - val_accuracy: 0.9129\n",
            "Epoch 23/100\n",
            "469/469 [==============================] - 3s 6ms/step - loss: 0.0450 - accuracy: 0.9836 - val_loss: 0.4018 - val_accuracy: 0.9135\n",
            "Epoch 24/100\n",
            "469/469 [==============================] - 3s 6ms/step - loss: 0.0357 - accuracy: 0.9870 - val_loss: 0.4364 - val_accuracy: 0.9073\n",
            "Epoch 25/100\n",
            "469/469 [==============================] - 3s 6ms/step - loss: 0.0311 - accuracy: 0.9890 - val_loss: 0.4400 - val_accuracy: 0.9128\n",
            "Epoch 26/100\n",
            "469/469 [==============================] - 3s 6ms/step - loss: 0.0303 - accuracy: 0.9896 - val_loss: 0.4512 - val_accuracy: 0.9127\n",
            "Epoch 27/100\n",
            "469/469 [==============================] - 3s 6ms/step - loss: 0.0286 - accuracy: 0.9899 - val_loss: 0.4533 - val_accuracy: 0.9120\n",
            "Epoch 28/100\n",
            "469/469 [==============================] - 3s 6ms/step - loss: 0.0299 - accuracy: 0.9893 - val_loss: 0.4878 - val_accuracy: 0.9090\n",
            "Epoch 29/100\n",
            "469/469 [==============================] - 3s 6ms/step - loss: 0.0239 - accuracy: 0.9916 - val_loss: 0.5147 - val_accuracy: 0.9080\n",
            "Epoch 30/100\n",
            "469/469 [==============================] - 3s 6ms/step - loss: 0.0233 - accuracy: 0.9919 - val_loss: 0.5198 - val_accuracy: 0.9116\n",
            "Epoch 31/100\n",
            "469/469 [==============================] - 3s 6ms/step - loss: 0.0219 - accuracy: 0.9920 - val_loss: 0.5245 - val_accuracy: 0.9103\n",
            "Epoch 32/100\n",
            "469/469 [==============================] - 3s 6ms/step - loss: 0.0265 - accuracy: 0.9905 - val_loss: 0.5610 - val_accuracy: 0.9110\n",
            "Epoch 33/100\n",
            "469/469 [==============================] - 3s 6ms/step - loss: 0.0175 - accuracy: 0.9940 - val_loss: 0.5671 - val_accuracy: 0.9097\n",
            "Epoch 34/100\n",
            "469/469 [==============================] - 3s 6ms/step - loss: 0.0144 - accuracy: 0.9951 - val_loss: 0.5757 - val_accuracy: 0.9101\n",
            "Epoch 35/100\n",
            "469/469 [==============================] - 3s 6ms/step - loss: 0.0202 - accuracy: 0.9929 - val_loss: 0.5800 - val_accuracy: 0.9092\n",
            "Epoch 36/100\n",
            "469/469 [==============================] - 3s 6ms/step - loss: 0.0220 - accuracy: 0.9922 - val_loss: 0.6179 - val_accuracy: 0.9068\n",
            "Epoch 37/100\n",
            "469/469 [==============================] - 3s 6ms/step - loss: 0.0172 - accuracy: 0.9940 - val_loss: 0.6092 - val_accuracy: 0.9017\n",
            "Epoch 38/100\n",
            "469/469 [==============================] - 3s 6ms/step - loss: 0.0243 - accuracy: 0.9910 - val_loss: 0.6292 - val_accuracy: 0.9100\n",
            "Epoch 39/100\n",
            "469/469 [==============================] - 3s 6ms/step - loss: 0.0119 - accuracy: 0.9960 - val_loss: 0.6429 - val_accuracy: 0.9092\n",
            "Epoch 40/100\n",
            "469/469 [==============================] - 3s 6ms/step - loss: 0.0210 - accuracy: 0.9925 - val_loss: 0.6212 - val_accuracy: 0.9107\n",
            "Epoch 41/100\n",
            "469/469 [==============================] - 3s 6ms/step - loss: 0.0131 - accuracy: 0.9954 - val_loss: 0.6848 - val_accuracy: 0.9116\n",
            "Epoch 42/100\n",
            "469/469 [==============================] - 3s 6ms/step - loss: 0.0076 - accuracy: 0.9973 - val_loss: 0.6871 - val_accuracy: 0.9125\n",
            "Epoch 43/100\n",
            "469/469 [==============================] - 3s 6ms/step - loss: 0.0175 - accuracy: 0.9941 - val_loss: 0.7477 - val_accuracy: 0.9004\n",
            "Epoch 44/100\n",
            "469/469 [==============================] - 3s 6ms/step - loss: 0.0179 - accuracy: 0.9938 - val_loss: 0.7039 - val_accuracy: 0.9104\n",
            "Epoch 45/100\n",
            "469/469 [==============================] - 3s 6ms/step - loss: 0.0206 - accuracy: 0.9929 - val_loss: 0.6544 - val_accuracy: 0.9114\n",
            "Epoch 46/100\n",
            "469/469 [==============================] - 3s 6ms/step - loss: 0.0120 - accuracy: 0.9961 - val_loss: 0.6934 - val_accuracy: 0.9096\n",
            "Epoch 47/100\n",
            "469/469 [==============================] - 3s 6ms/step - loss: 0.0103 - accuracy: 0.9962 - val_loss: 0.7203 - val_accuracy: 0.9093\n",
            "Epoch 48/100\n",
            "469/469 [==============================] - 3s 6ms/step - loss: 0.0189 - accuracy: 0.9935 - val_loss: 0.6928 - val_accuracy: 0.9071\n",
            "Epoch 49/100\n",
            "469/469 [==============================] - 3s 6ms/step - loss: 0.0105 - accuracy: 0.9963 - val_loss: 0.7800 - val_accuracy: 0.9104\n",
            "Epoch 50/100\n",
            "469/469 [==============================] - 3s 6ms/step - loss: 0.0145 - accuracy: 0.9948 - val_loss: 0.7437 - val_accuracy: 0.9065\n",
            "Epoch 51/100\n",
            "469/469 [==============================] - 3s 6ms/step - loss: 0.0130 - accuracy: 0.9954 - val_loss: 0.7097 - val_accuracy: 0.9078\n",
            "Epoch 52/100\n",
            "469/469 [==============================] - 3s 6ms/step - loss: 0.0142 - accuracy: 0.9954 - val_loss: 0.7827 - val_accuracy: 0.9092\n",
            "Epoch 53/100\n",
            "469/469 [==============================] - 3s 6ms/step - loss: 0.0157 - accuracy: 0.9944 - val_loss: 0.7776 - val_accuracy: 0.9083\n",
            "Epoch 54/100\n",
            "469/469 [==============================] - 3s 6ms/step - loss: 0.0087 - accuracy: 0.9969 - val_loss: 0.7537 - val_accuracy: 0.9106\n",
            "Epoch 55/100\n",
            "469/469 [==============================] - 3s 6ms/step - loss: 0.0088 - accuracy: 0.9973 - val_loss: 0.7594 - val_accuracy: 0.9106\n",
            "Epoch 56/100\n",
            "469/469 [==============================] - 3s 6ms/step - loss: 0.0089 - accuracy: 0.9971 - val_loss: 0.7668 - val_accuracy: 0.9107\n",
            "Epoch 57/100\n",
            "469/469 [==============================] - 3s 6ms/step - loss: 0.0171 - accuracy: 0.9943 - val_loss: 0.7883 - val_accuracy: 0.9102\n",
            "Epoch 58/100\n",
            "469/469 [==============================] - 3s 6ms/step - loss: 0.0121 - accuracy: 0.9956 - val_loss: 0.8587 - val_accuracy: 0.9047\n",
            "Epoch 59/100\n",
            "469/469 [==============================] - 3s 6ms/step - loss: 0.0103 - accuracy: 0.9965 - val_loss: 0.8382 - val_accuracy: 0.9096\n",
            "Epoch 60/100\n",
            "469/469 [==============================] - 3s 6ms/step - loss: 0.0131 - accuracy: 0.9952 - val_loss: 0.8673 - val_accuracy: 0.9072\n",
            "Epoch 61/100\n",
            "469/469 [==============================] - 3s 6ms/step - loss: 0.0110 - accuracy: 0.9961 - val_loss: 0.8073 - val_accuracy: 0.9106\n",
            "Epoch 62/100\n",
            "469/469 [==============================] - 3s 6ms/step - loss: 0.0104 - accuracy: 0.9964 - val_loss: 0.8033 - val_accuracy: 0.9064\n",
            "Epoch 63/100\n",
            "469/469 [==============================] - 3s 6ms/step - loss: 0.0070 - accuracy: 0.9977 - val_loss: 0.8284 - val_accuracy: 0.9115\n",
            "Epoch 64/100\n",
            "469/469 [==============================] - 3s 6ms/step - loss: 0.0166 - accuracy: 0.9943 - val_loss: 0.8034 - val_accuracy: 0.9109\n",
            "Epoch 65/100\n",
            "469/469 [==============================] - 3s 6ms/step - loss: 0.0139 - accuracy: 0.9953 - val_loss: 0.8243 - val_accuracy: 0.9107\n",
            "Epoch 66/100\n",
            "469/469 [==============================] - 3s 6ms/step - loss: 0.0076 - accuracy: 0.9973 - val_loss: 0.8093 - val_accuracy: 0.9065\n",
            "Epoch 67/100\n",
            "469/469 [==============================] - 3s 6ms/step - loss: 0.0096 - accuracy: 0.9968 - val_loss: 0.8144 - val_accuracy: 0.9123\n",
            "Epoch 68/100\n",
            "469/469 [==============================] - 3s 6ms/step - loss: 0.0091 - accuracy: 0.9970 - val_loss: 0.9438 - val_accuracy: 0.9055\n",
            "Epoch 69/100\n",
            "469/469 [==============================] - 3s 6ms/step - loss: 0.0124 - accuracy: 0.9958 - val_loss: 0.8664 - val_accuracy: 0.9090\n",
            "Epoch 70/100\n",
            "469/469 [==============================] - 3s 6ms/step - loss: 0.0097 - accuracy: 0.9966 - val_loss: 0.8802 - val_accuracy: 0.9081\n",
            "Epoch 71/100\n",
            "469/469 [==============================] - 3s 6ms/step - loss: 0.0115 - accuracy: 0.9960 - val_loss: 0.9118 - val_accuracy: 0.9102\n",
            "Epoch 72/100\n",
            "469/469 [==============================] - 3s 6ms/step - loss: 0.0091 - accuracy: 0.9971 - val_loss: 0.8826 - val_accuracy: 0.9110\n",
            "Epoch 73/100\n",
            "469/469 [==============================] - 3s 6ms/step - loss: 0.0099 - accuracy: 0.9967 - val_loss: 0.9626 - val_accuracy: 0.9068\n",
            "Epoch 74/100\n",
            "469/469 [==============================] - 3s 6ms/step - loss: 0.0118 - accuracy: 0.9961 - val_loss: 0.9322 - val_accuracy: 0.9082\n",
            "Epoch 75/100\n",
            "469/469 [==============================] - 3s 6ms/step - loss: 0.0115 - accuracy: 0.9963 - val_loss: 0.9549 - val_accuracy: 0.9073\n",
            "Epoch 76/100\n",
            "469/469 [==============================] - 3s 6ms/step - loss: 0.0068 - accuracy: 0.9977 - val_loss: 1.0140 - val_accuracy: 0.9071\n",
            "Epoch 77/100\n",
            "469/469 [==============================] - 3s 6ms/step - loss: 0.0119 - accuracy: 0.9960 - val_loss: 0.9629 - val_accuracy: 0.9094\n",
            "Epoch 78/100\n",
            "469/469 [==============================] - 3s 6ms/step - loss: 0.0115 - accuracy: 0.9962 - val_loss: 0.9524 - val_accuracy: 0.9079\n",
            "Epoch 79/100\n",
            "469/469 [==============================] - 3s 6ms/step - loss: 0.0115 - accuracy: 0.9963 - val_loss: 1.0000 - val_accuracy: 0.9099\n",
            "Epoch 80/100\n",
            "469/469 [==============================] - 3s 6ms/step - loss: 0.0068 - accuracy: 0.9978 - val_loss: 0.9324 - val_accuracy: 0.9092\n",
            "Epoch 81/100\n",
            "469/469 [==============================] - 3s 6ms/step - loss: 0.0128 - accuracy: 0.9956 - val_loss: 0.9850 - val_accuracy: 0.9082\n",
            "Epoch 82/100\n",
            "469/469 [==============================] - 3s 6ms/step - loss: 0.0086 - accuracy: 0.9973 - val_loss: 0.9972 - val_accuracy: 0.9110\n",
            "Epoch 83/100\n",
            "469/469 [==============================] - 3s 6ms/step - loss: 0.0071 - accuracy: 0.9976 - val_loss: 0.9722 - val_accuracy: 0.9074\n",
            "Epoch 84/100\n",
            "469/469 [==============================] - 3s 6ms/step - loss: 0.0087 - accuracy: 0.9971 - val_loss: 0.9447 - val_accuracy: 0.9106\n",
            "Epoch 85/100\n",
            "469/469 [==============================] - 3s 6ms/step - loss: 0.0092 - accuracy: 0.9968 - val_loss: 1.0236 - val_accuracy: 0.9073\n",
            "Epoch 86/100\n",
            "469/469 [==============================] - 3s 6ms/step - loss: 0.0092 - accuracy: 0.9969 - val_loss: 0.9993 - val_accuracy: 0.9113\n",
            "Epoch 87/100\n",
            "469/469 [==============================] - 3s 6ms/step - loss: 0.0130 - accuracy: 0.9956 - val_loss: 1.0184 - val_accuracy: 0.9060\n",
            "Epoch 88/100\n",
            "469/469 [==============================] - 3s 6ms/step - loss: 0.0078 - accuracy: 0.9976 - val_loss: 1.0067 - val_accuracy: 0.9111\n",
            "Epoch 89/100\n",
            "469/469 [==============================] - 3s 6ms/step - loss: 0.0047 - accuracy: 0.9985 - val_loss: 1.0204 - val_accuracy: 0.9080\n",
            "Epoch 90/100\n",
            "469/469 [==============================] - 3s 6ms/step - loss: 0.0120 - accuracy: 0.9965 - val_loss: 0.9745 - val_accuracy: 0.9074\n",
            "Epoch 91/100\n",
            "469/469 [==============================] - 3s 6ms/step - loss: 0.0122 - accuracy: 0.9963 - val_loss: 1.0344 - val_accuracy: 0.9070\n",
            "Epoch 92/100\n",
            "469/469 [==============================] - 3s 6ms/step - loss: 0.0078 - accuracy: 0.9973 - val_loss: 1.0773 - val_accuracy: 0.9090\n",
            "Epoch 93/100\n",
            "469/469 [==============================] - 3s 6ms/step - loss: 0.0092 - accuracy: 0.9970 - val_loss: 1.0373 - val_accuracy: 0.9081\n",
            "Epoch 94/100\n",
            "469/469 [==============================] - 3s 6ms/step - loss: 0.0045 - accuracy: 0.9985 - val_loss: 1.0648 - val_accuracy: 0.9080\n",
            "Epoch 95/100\n",
            "469/469 [==============================] - 3s 6ms/step - loss: 0.0077 - accuracy: 0.9975 - val_loss: 1.0902 - val_accuracy: 0.9091\n",
            "Epoch 96/100\n",
            "469/469 [==============================] - 3s 6ms/step - loss: 0.0091 - accuracy: 0.9971 - val_loss: 1.0182 - val_accuracy: 0.9088\n",
            "Epoch 97/100\n",
            "469/469 [==============================] - 3s 6ms/step - loss: 0.0097 - accuracy: 0.9969 - val_loss: 1.0948 - val_accuracy: 0.9029\n",
            "Epoch 98/100\n",
            "469/469 [==============================] - 3s 6ms/step - loss: 0.0144 - accuracy: 0.9957 - val_loss: 1.0369 - val_accuracy: 0.9093\n",
            "Epoch 99/100\n",
            "469/469 [==============================] - 3s 6ms/step - loss: 0.0068 - accuracy: 0.9978 - val_loss: 1.0564 - val_accuracy: 0.9105\n",
            "Epoch 100/100\n",
            "469/469 [==============================] - 3s 6ms/step - loss: 0.0026 - accuracy: 0.9992 - val_loss: 1.0964 - val_accuracy: 0.9084\n"
          ],
          "name": "stdout"
        }
      ]
    },
    {
      "cell_type": "code",
      "metadata": {
        "id": "H1ge04wD71nx",
        "colab_type": "code",
        "colab": {
          "base_uri": "https://localhost:8080/",
          "height": 590
        },
        "outputId": "b8873027-f9c3-42a2-9626-65ef09fddcb5"
      },
      "source": [
        "#Accuracy Report \n",
        "\n",
        "print(history.history.keys())\n",
        "# summarize history for accuracy\n",
        "plt.plot(history.history['accuracy'])\n",
        "plt.plot(history.history['val_accuracy'])\n",
        "plt.title('model accuracy')\n",
        "plt.ylabel('accuracy')\n",
        "plt.xlabel('epoch')\n",
        "plt.legend(['train', 'test'], loc='upper left')\n",
        "plt.show()\n",
        "# summarize history for loss\n",
        "plt.plot(history.history['loss'])\n",
        "plt.plot(history.history['val_loss'])\n",
        "plt.title('model loss')\n",
        "plt.ylabel('loss')\n",
        "plt.xlabel('epoch')\n",
        "plt.legend(['train', 'test'], loc='upper left')\n",
        "plt.show()"
      ],
      "execution_count": 63,
      "outputs": [
        {
          "output_type": "stream",
          "text": [
            "dict_keys(['loss', 'accuracy', 'val_loss', 'val_accuracy'])\n"
          ],
          "name": "stdout"
        },
        {
          "output_type": "display_data",
          "data": {
            "image/png": "[encoded data removed]",
            "text/plain": [
              "<Figure size 432x288 with 1 Axes>"
            ]
          },
          "metadata": {
            "tags": [],
            "needs_background": "light"
          }
        },
        {
          "output_type": "display_data",
          "data": {
            "image/png": "[encoded data removed]",
            "text/plain": [
              "<Figure size 432x288 with 1 Axes>"
            ]
          },
          "metadata": {
            "tags": [],
            "needs_background": "light"
          }
        }
      ]
    },
    {
      "cell_type": "markdown",
      "metadata": {
        "colab_type": "text",
        "id": "qbhr44DnMbKZ"
      },
      "source": [
        "\n",
        "### Task 1.3 Build an input pipeline for data augmentation\n",
        "\n",
        "\n",
        "Build a data preprocessing pipeline to perform data augmentation. (You may use Keras ImageDataGenerator or write your own transformations.)\n",
        "\n",
        "- Report the new classification accuracy. Make sure that you use the same number of training epochs as in Task 1.2.\n",
        "\n",
        "- Profile your input pipeline to identify the most time-consuming operation. What actions have you taken to address that slow operation? (*Hint: You may use the [TensorFlow Profiler](https://github.com/tensorflow/profiler).*)"
      ]
    },
    {
      "cell_type": "code",
      "metadata": {
        "id": "gymI-3NDAQwb",
        "colab_type": "code",
        "colab": {}
      },
      "source": [
        "#Data Augmentation Input Pipeline \n",
        "IMG_SIZE = 180\n",
        "\n",
        "resize_and_rescale = tf.keras.Sequential([\n",
        "  layers.experimental.preprocessing.Resizing(IMG_SIZE, IMG_SIZE),\n",
        "  layers.experimental.preprocessing.Rescaling(1./255)\n",
        "])\n",
        "\n",
        "data_augmentation = tf.keras.Sequential([\n",
        "  layers.experimental.preprocessing.RandomFlip(\"horizontal_and_vertical\"),\n",
        "  layers.experimental.preprocessing.RandomRotation(0.2),\n",
        "])\n",
        "\n",
        "\n",
        "#Now Using CNN\n",
        "model = tf.keras.models.Sequential([\n",
        "    resize_and_rescale,\n",
        "    data_augmentation,                                \n",
        "    tf.keras.layers.Conv2D(64, (3, 3), activation='relu', input_shape=(28, 28, 1)),\n",
        "    tf.keras.layers.MaxPooling2D(2, 2),\n",
        "    tf.keras.layers.Conv2D(64, (3, 3), activation='relu'),\n",
        "    tf.keras.layers.MaxPooling2D(2, 2),\n",
        "    tf.keras.layers.Flatten(),\n",
        "    tf.keras.layers.Dense(128, activation='relu'),\n",
        "    tf.keras.layers.Dense(10, activation='softmax')\n",
        "])\n",
        "\n",
        "\n"
      ],
      "execution_count": 64,
      "outputs": []
    },
    {
      "cell_type": "code",
      "metadata": {
        "id": "95HlzWcxBfL8",
        "colab_type": "code",
        "colab": {
          "base_uri": "https://localhost:8080/",
          "height": 1000
        },
        "outputId": "03f8e366-e5e4-4aae-dce3-e52e35d5ad07"
      },
      "source": [
        "model.compile(loss='sparse_categorical_crossentropy',optimizer=tf.keras.optimizers.Adam(0.001,clipnorm=1.0),metrics=['accuracy'])\n",
        "history=model.fit(ds_train,epochs=100,validation_data=ds_test,callbacks=[callback])"
      ],
      "execution_count": 65,
      "outputs": [
        {
          "output_type": "stream",
          "text": [
            "Epoch 1/100\n",
            "      2/Unknown - 0s 79ms/step - loss: 2.3022 - accuracy: 0.1562WARNING:tensorflow:Callbacks method `on_train_batch_end` is slow compared to the batch time (batch time: 0.0318s vs `on_train_batch_end` time: 0.0856s). Check your callbacks.\n"
          ],
          "name": "stdout"
        },
        {
          "output_type": "stream",
          "text": [
            "WARNING:tensorflow:Callbacks method `on_train_batch_end` is slow compared to the batch time (batch time: 0.0318s vs `on_train_batch_end` time: 0.0856s). Check your callbacks.\n"
          ],
          "name": "stderr"
        },
        {
          "output_type": "stream",
          "text": [
            "469/469 [==============================] - 39s 82ms/step - loss: 1.6205 - accuracy: 0.4153 - val_loss: 1.1305 - val_accuracy: 0.5943\n",
            "Epoch 2/100\n",
            "469/469 [==============================] - 39s 82ms/step - loss: 1.1273 - accuracy: 0.5996 - val_loss: 0.9448 - val_accuracy: 0.6644\n",
            "Epoch 3/100\n",
            "469/469 [==============================] - 39s 82ms/step - loss: 1.0065 - accuracy: 0.6365 - val_loss: 0.8766 - val_accuracy: 0.6880\n",
            "Epoch 4/100\n",
            "469/469 [==============================] - 38s 82ms/step - loss: 0.9451 - accuracy: 0.6575 - val_loss: 0.8302 - val_accuracy: 0.7055\n",
            "Epoch 5/100\n",
            "469/469 [==============================] - 38s 82ms/step - loss: 0.9139 - accuracy: 0.6686 - val_loss: 0.8000 - val_accuracy: 0.7111\n",
            "Epoch 6/100\n",
            "469/469 [==============================] - 39s 82ms/step - loss: 0.8899 - accuracy: 0.6780 - val_loss: 0.7967 - val_accuracy: 0.7086\n",
            "Epoch 7/100\n",
            "469/469 [==============================] - 38s 82ms/step - loss: 0.8635 - accuracy: 0.6873 - val_loss: 0.7634 - val_accuracy: 0.7276\n",
            "Epoch 8/100\n",
            "469/469 [==============================] - 38s 82ms/step - loss: 0.8473 - accuracy: 0.6942 - val_loss: 0.7491 - val_accuracy: 0.7321\n",
            "Epoch 9/100\n",
            "469/469 [==============================] - 38s 82ms/step - loss: 0.8275 - accuracy: 0.7036 - val_loss: 0.7577 - val_accuracy: 0.7178\n",
            "Epoch 10/100\n",
            "469/469 [==============================] - 38s 82ms/step - loss: 0.8133 - accuracy: 0.7093 - val_loss: 0.7335 - val_accuracy: 0.7286\n",
            "Epoch 11/100\n",
            "469/469 [==============================] - 38s 82ms/step - loss: 0.7951 - accuracy: 0.7151 - val_loss: 0.7176 - val_accuracy: 0.7445\n",
            "Epoch 12/100\n",
            "469/469 [==============================] - 38s 81ms/step - loss: 0.7873 - accuracy: 0.7175 - val_loss: 0.6968 - val_accuracy: 0.7514\n",
            "Epoch 13/100\n",
            "469/469 [==============================] - 38s 81ms/step - loss: 0.7704 - accuracy: 0.7249 - val_loss: 0.7046 - val_accuracy: 0.7483\n",
            "Epoch 14/100\n",
            "469/469 [==============================] - 38s 81ms/step - loss: 0.7629 - accuracy: 0.7279 - val_loss: 0.6919 - val_accuracy: 0.7517\n",
            "Epoch 15/100\n",
            "469/469 [==============================] - 38s 82ms/step - loss: 0.7488 - accuracy: 0.7351 - val_loss: 0.6755 - val_accuracy: 0.7583\n",
            "Epoch 16/100\n",
            "469/469 [==============================] - 38s 82ms/step - loss: 0.7343 - accuracy: 0.7364 - val_loss: 0.6997 - val_accuracy: 0.7493\n",
            "Epoch 17/100\n",
            "469/469 [==============================] - 38s 82ms/step - loss: 0.7293 - accuracy: 0.7390 - val_loss: 0.6750 - val_accuracy: 0.7554\n",
            "Epoch 18/100\n",
            "469/469 [==============================] - 38s 82ms/step - loss: 0.7216 - accuracy: 0.7426 - val_loss: 0.6618 - val_accuracy: 0.7672\n",
            "Epoch 19/100\n",
            "469/469 [==============================] - 38s 82ms/step - loss: 0.7171 - accuracy: 0.7441 - val_loss: 0.6714 - val_accuracy: 0.7675\n",
            "Epoch 20/100\n",
            "469/469 [==============================] - 38s 82ms/step - loss: 0.7101 - accuracy: 0.7467 - val_loss: 0.6956 - val_accuracy: 0.7400\n",
            "Epoch 21/100\n",
            "469/469 [==============================] - 38s 82ms/step - loss: 0.7009 - accuracy: 0.7484 - val_loss: 0.6675 - val_accuracy: 0.7545\n",
            "Epoch 22/100\n",
            "469/469 [==============================] - 38s 82ms/step - loss: 0.6975 - accuracy: 0.7523 - val_loss: 0.6716 - val_accuracy: 0.7562\n",
            "Epoch 23/100\n",
            "469/469 [==============================] - 38s 82ms/step - loss: 0.6914 - accuracy: 0.7524 - val_loss: 0.6604 - val_accuracy: 0.7628\n",
            "Epoch 24/100\n",
            "469/469 [==============================] - 38s 82ms/step - loss: 0.6900 - accuracy: 0.7546 - val_loss: 0.6603 - val_accuracy: 0.7727\n",
            "Epoch 25/100\n",
            "469/469 [==============================] - 38s 82ms/step - loss: 0.6873 - accuracy: 0.7553 - val_loss: 0.6414 - val_accuracy: 0.7679\n",
            "Epoch 26/100\n",
            "469/469 [==============================] - 38s 82ms/step - loss: 0.6817 - accuracy: 0.7577 - val_loss: 0.6289 - val_accuracy: 0.7716\n",
            "Epoch 27/100\n",
            "469/469 [==============================] - 38s 82ms/step - loss: 0.6779 - accuracy: 0.7575 - val_loss: 0.6389 - val_accuracy: 0.7731\n",
            "Epoch 28/100\n",
            "469/469 [==============================] - 38s 82ms/step - loss: 0.6733 - accuracy: 0.7607 - val_loss: 0.6163 - val_accuracy: 0.7799\n",
            "Epoch 29/100\n",
            "469/469 [==============================] - 38s 82ms/step - loss: 0.6717 - accuracy: 0.7617 - val_loss: 0.6321 - val_accuracy: 0.7745\n",
            "Epoch 30/100\n",
            "469/469 [==============================] - 38s 82ms/step - loss: 0.6649 - accuracy: 0.7623 - val_loss: 0.6429 - val_accuracy: 0.7667\n",
            "Epoch 31/100\n",
            "469/469 [==============================] - 38s 82ms/step - loss: 0.6633 - accuracy: 0.7647 - val_loss: 0.6356 - val_accuracy: 0.7758\n",
            "Epoch 32/100\n",
            "469/469 [==============================] - 38s 82ms/step - loss: 0.6615 - accuracy: 0.7639 - val_loss: 0.6250 - val_accuracy: 0.7742\n",
            "Epoch 33/100\n",
            "469/469 [==============================] - 38s 82ms/step - loss: 0.6567 - accuracy: 0.7656 - val_loss: 0.6436 - val_accuracy: 0.7701\n",
            "Epoch 34/100\n",
            "469/469 [==============================] - 38s 82ms/step - loss: 0.6552 - accuracy: 0.7661 - val_loss: 0.6181 - val_accuracy: 0.7814\n",
            "Epoch 35/100\n",
            "469/469 [==============================] - 38s 82ms/step - loss: 0.6512 - accuracy: 0.7683 - val_loss: 0.6281 - val_accuracy: 0.7819\n",
            "Epoch 36/100\n",
            "469/469 [==============================] - 38s 82ms/step - loss: 0.6515 - accuracy: 0.7680 - val_loss: 0.6110 - val_accuracy: 0.7820\n",
            "Epoch 37/100\n",
            "469/469 [==============================] - 38s 82ms/step - loss: 0.6521 - accuracy: 0.7671 - val_loss: 0.6252 - val_accuracy: 0.7796\n",
            "Epoch 38/100\n",
            "469/469 [==============================] - 38s 82ms/step - loss: 0.6470 - accuracy: 0.7680 - val_loss: 0.6181 - val_accuracy: 0.7796\n",
            "Epoch 39/100\n",
            "469/469 [==============================] - 38s 82ms/step - loss: 0.6452 - accuracy: 0.7688 - val_loss: 0.6426 - val_accuracy: 0.7724\n",
            "Epoch 40/100\n",
            "469/469 [==============================] - 38s 82ms/step - loss: 0.6410 - accuracy: 0.7717 - val_loss: 0.6243 - val_accuracy: 0.7745\n",
            "Epoch 41/100\n",
            "469/469 [==============================] - 38s 82ms/step - loss: 0.6388 - accuracy: 0.7724 - val_loss: 0.6101 - val_accuracy: 0.7776\n",
            "Epoch 42/100\n",
            "469/469 [==============================] - 38s 82ms/step - loss: 0.6394 - accuracy: 0.7714 - val_loss: 0.6159 - val_accuracy: 0.7816\n",
            "Epoch 43/100\n",
            "469/469 [==============================] - 38s 82ms/step - loss: 0.6359 - accuracy: 0.7742 - val_loss: 0.6214 - val_accuracy: 0.7730\n",
            "Epoch 44/100\n",
            "469/469 [==============================] - 38s 82ms/step - loss: 0.6313 - accuracy: 0.7758 - val_loss: 0.6371 - val_accuracy: 0.7716\n",
            "Epoch 45/100\n",
            "469/469 [==============================] - 38s 82ms/step - loss: 0.6345 - accuracy: 0.7745 - val_loss: 0.5945 - val_accuracy: 0.7881\n",
            "Epoch 46/100\n",
            "469/469 [==============================] - 38s 82ms/step - loss: 0.6310 - accuracy: 0.7753 - val_loss: 0.6067 - val_accuracy: 0.7821\n",
            "Epoch 47/100\n",
            "469/469 [==============================] - 38s 82ms/step - loss: 0.6260 - accuracy: 0.7776 - val_loss: 0.6012 - val_accuracy: 0.7871\n",
            "Epoch 48/100\n",
            "469/469 [==============================] - 38s 82ms/step - loss: 0.6247 - accuracy: 0.7771 - val_loss: 0.5987 - val_accuracy: 0.7866\n",
            "Epoch 49/100\n",
            "469/469 [==============================] - 38s 82ms/step - loss: 0.6255 - accuracy: 0.7794 - val_loss: 0.6062 - val_accuracy: 0.7779\n",
            "Epoch 50/100\n",
            "469/469 [==============================] - 38s 82ms/step - loss: 0.6253 - accuracy: 0.7769 - val_loss: 0.5918 - val_accuracy: 0.7889\n",
            "Epoch 51/100\n",
            "469/469 [==============================] - 38s 82ms/step - loss: 0.6212 - accuracy: 0.7779 - val_loss: 0.6183 - val_accuracy: 0.7836\n",
            "Epoch 52/100\n",
            "469/469 [==============================] - 38s 82ms/step - loss: 0.6238 - accuracy: 0.7786 - val_loss: 0.6258 - val_accuracy: 0.7770\n",
            "Epoch 53/100\n",
            "469/469 [==============================] - 38s 82ms/step - loss: 0.6183 - accuracy: 0.7811 - val_loss: 0.5891 - val_accuracy: 0.7864\n",
            "Epoch 54/100\n",
            "469/469 [==============================] - 38s 81ms/step - loss: 0.6192 - accuracy: 0.7813 - val_loss: 0.5802 - val_accuracy: 0.7919\n",
            "Epoch 55/100\n",
            "469/469 [==============================] - 38s 81ms/step - loss: 0.6163 - accuracy: 0.7821 - val_loss: 0.6064 - val_accuracy: 0.7780\n",
            "Epoch 56/100\n",
            "469/469 [==============================] - 38s 82ms/step - loss: 0.6140 - accuracy: 0.7812 - val_loss: 0.5998 - val_accuracy: 0.7777\n",
            "Epoch 57/100\n",
            "469/469 [==============================] - 38s 81ms/step - loss: 0.6121 - accuracy: 0.7827 - val_loss: 0.5889 - val_accuracy: 0.7897\n",
            "Epoch 58/100\n",
            "469/469 [==============================] - 38s 82ms/step - loss: 0.6095 - accuracy: 0.7833 - val_loss: 0.5775 - val_accuracy: 0.7923\n",
            "Epoch 59/100\n",
            "469/469 [==============================] - 38s 82ms/step - loss: 0.6095 - accuracy: 0.7829 - val_loss: 0.5928 - val_accuracy: 0.7856\n",
            "Epoch 60/100\n",
            "469/469 [==============================] - 38s 82ms/step - loss: 0.6055 - accuracy: 0.7848 - val_loss: 0.5845 - val_accuracy: 0.7911\n",
            "Epoch 61/100\n",
            "469/469 [==============================] - 38s 82ms/step - loss: 0.6051 - accuracy: 0.7847 - val_loss: 0.5767 - val_accuracy: 0.7921\n",
            "Epoch 62/100\n",
            "469/469 [==============================] - 38s 82ms/step - loss: 0.6053 - accuracy: 0.7851 - val_loss: 0.5796 - val_accuracy: 0.7926\n",
            "Epoch 63/100\n",
            "469/469 [==============================] - 38s 82ms/step - loss: 0.6010 - accuracy: 0.7865 - val_loss: 0.6186 - val_accuracy: 0.7902\n",
            "Epoch 64/100\n",
            "469/469 [==============================] - 38s 82ms/step - loss: 0.5998 - accuracy: 0.7876 - val_loss: 0.5713 - val_accuracy: 0.7952\n",
            "Epoch 65/100\n",
            "469/469 [==============================] - 38s 82ms/step - loss: 0.5996 - accuracy: 0.7867 - val_loss: 0.5690 - val_accuracy: 0.7985\n",
            "Epoch 66/100\n",
            "469/469 [==============================] - 38s 82ms/step - loss: 0.5968 - accuracy: 0.7876 - val_loss: 0.5672 - val_accuracy: 0.7964\n",
            "Epoch 67/100\n",
            "469/469 [==============================] - 38s 82ms/step - loss: 0.5989 - accuracy: 0.7868 - val_loss: 0.5731 - val_accuracy: 0.7930\n",
            "Epoch 68/100\n",
            "469/469 [==============================] - 38s 82ms/step - loss: 0.5934 - accuracy: 0.7867 - val_loss: 0.5774 - val_accuracy: 0.7976\n",
            "Epoch 69/100\n",
            "469/469 [==============================] - 38s 82ms/step - loss: 0.5916 - accuracy: 0.7898 - val_loss: 0.6000 - val_accuracy: 0.7824\n",
            "Epoch 70/100\n",
            "469/469 [==============================] - 38s 82ms/step - loss: 0.5941 - accuracy: 0.7886 - val_loss: 0.5862 - val_accuracy: 0.7910\n",
            "Epoch 71/100\n",
            "469/469 [==============================] - 38s 82ms/step - loss: 0.5885 - accuracy: 0.7907 - val_loss: 0.5596 - val_accuracy: 0.7960\n",
            "Epoch 72/100\n",
            "469/469 [==============================] - 38s 82ms/step - loss: 0.5910 - accuracy: 0.7910 - val_loss: 0.5724 - val_accuracy: 0.7942\n",
            "Epoch 73/100\n",
            "469/469 [==============================] - 38s 82ms/step - loss: 0.5872 - accuracy: 0.7919 - val_loss: 0.6205 - val_accuracy: 0.7827\n",
            "Epoch 74/100\n",
            "469/469 [==============================] - 38s 82ms/step - loss: 0.5854 - accuracy: 0.7913 - val_loss: 0.5807 - val_accuracy: 0.7927\n",
            "Epoch 75/100\n",
            "469/469 [==============================] - 38s 82ms/step - loss: 0.5851 - accuracy: 0.7917 - val_loss: 0.5556 - val_accuracy: 0.7996\n",
            "Epoch 76/100\n",
            "469/469 [==============================] - 38s 82ms/step - loss: 0.5829 - accuracy: 0.7919 - val_loss: 0.5667 - val_accuracy: 0.7954\n",
            "Epoch 77/100\n",
            "469/469 [==============================] - 38s 82ms/step - loss: 0.5882 - accuracy: 0.7910 - val_loss: 0.5571 - val_accuracy: 0.7997\n",
            "Epoch 78/100\n",
            "469/469 [==============================] - 38s 82ms/step - loss: 0.5815 - accuracy: 0.7945 - val_loss: 0.5527 - val_accuracy: 0.7978\n",
            "Epoch 79/100\n",
            "469/469 [==============================] - 38s 82ms/step - loss: 0.5831 - accuracy: 0.7934 - val_loss: 0.5574 - val_accuracy: 0.8004\n",
            "Epoch 80/100\n",
            "469/469 [==============================] - 38s 82ms/step - loss: 0.5846 - accuracy: 0.7912 - val_loss: 0.5557 - val_accuracy: 0.7990\n",
            "Epoch 81/100\n",
            "469/469 [==============================] - 38s 81ms/step - loss: 0.5779 - accuracy: 0.7943 - val_loss: 0.5706 - val_accuracy: 0.7965\n",
            "Epoch 82/100\n",
            "469/469 [==============================] - 38s 81ms/step - loss: 0.5832 - accuracy: 0.7916 - val_loss: 0.5937 - val_accuracy: 0.7790\n",
            "Epoch 83/100\n",
            "469/469 [==============================] - 38s 82ms/step - loss: 0.5805 - accuracy: 0.7941 - val_loss: 0.5519 - val_accuracy: 0.8000\n",
            "Epoch 84/100\n",
            "469/469 [==============================] - 38s 82ms/step - loss: 0.5814 - accuracy: 0.7940 - val_loss: 0.5504 - val_accuracy: 0.7998\n",
            "Epoch 85/100\n",
            "469/469 [==============================] - 38s 82ms/step - loss: 0.5749 - accuracy: 0.7947 - val_loss: 0.5679 - val_accuracy: 0.8027\n",
            "Epoch 86/100\n",
            "469/469 [==============================] - 38s 82ms/step - loss: 0.5749 - accuracy: 0.7964 - val_loss: 0.6004 - val_accuracy: 0.7871\n",
            "Epoch 87/100\n",
            "469/469 [==============================] - 38s 82ms/step - loss: 0.5742 - accuracy: 0.7976 - val_loss: 0.5642 - val_accuracy: 0.7974\n",
            "Epoch 88/100\n",
            "469/469 [==============================] - 38s 81ms/step - loss: 0.5738 - accuracy: 0.7972 - val_loss: 0.5579 - val_accuracy: 0.7993\n",
            "Epoch 89/100\n",
            "469/469 [==============================] - 38s 82ms/step - loss: 0.5734 - accuracy: 0.7943 - val_loss: 0.5738 - val_accuracy: 0.8009\n",
            "Epoch 90/100\n",
            "469/469 [==============================] - 38s 81ms/step - loss: 0.5724 - accuracy: 0.7969 - val_loss: 0.5387 - val_accuracy: 0.8046\n",
            "Epoch 91/100\n",
            "469/469 [==============================] - 38s 81ms/step - loss: 0.5711 - accuracy: 0.7977 - val_loss: 0.5394 - val_accuracy: 0.8065\n",
            "Epoch 92/100\n",
            "469/469 [==============================] - 38s 81ms/step - loss: 0.5673 - accuracy: 0.7987 - val_loss: 0.5471 - val_accuracy: 0.8040\n",
            "Epoch 93/100\n",
            "469/469 [==============================] - 38s 81ms/step - loss: 0.5686 - accuracy: 0.7978 - val_loss: 0.5484 - val_accuracy: 0.8059\n",
            "Epoch 94/100\n",
            "469/469 [==============================] - 38s 82ms/step - loss: 0.5721 - accuracy: 0.7975 - val_loss: 0.5455 - val_accuracy: 0.8017\n",
            "Epoch 95/100\n",
            "469/469 [==============================] - 38s 82ms/step - loss: 0.5697 - accuracy: 0.7966 - val_loss: 0.5458 - val_accuracy: 0.8025\n",
            "Epoch 96/100\n",
            "469/469 [==============================] - 38s 82ms/step - loss: 0.5688 - accuracy: 0.7989 - val_loss: 0.5578 - val_accuracy: 0.8054\n",
            "Epoch 97/100\n",
            "469/469 [==============================] - 38s 81ms/step - loss: 0.5670 - accuracy: 0.7985 - val_loss: 0.5562 - val_accuracy: 0.8028\n",
            "Epoch 98/100\n",
            "469/469 [==============================] - 38s 81ms/step - loss: 0.5672 - accuracy: 0.7984 - val_loss: 0.5487 - val_accuracy: 0.8049\n",
            "Epoch 99/100\n",
            "469/469 [==============================] - 38s 81ms/step - loss: 0.5679 - accuracy: 0.7990 - val_loss: 0.5351 - val_accuracy: 0.8053\n",
            "Epoch 100/100\n",
            "469/469 [==============================] - 38s 82ms/step - loss: 0.5663 - accuracy: 0.7989 - val_loss: 0.5401 - val_accuracy: 0.8063\n"
          ],
          "name": "stdout"
        }
      ]
    },
    {
      "cell_type": "markdown",
      "metadata": {
        "colab_type": "text",
        "id": "prctXU4BswKK"
      },
      "source": [
        "### Task 1.4 Fashion-MNIST with transfer learning\n",
        "\n",
        "\n",
        "\n",
        "Use a pretrained model as the convolutional base to improve the classification performance. (Hint: You may use models in Keras Applications or those in the TensorFlow Hub.)\n",
        "\n",
        "- Try both with fine-tuning and without fine-tuning.\n",
        "- Report the model performance as before.\n",
        "\n"
      ]
    },
    {
      "cell_type": "markdown",
      "metadata": {
        "id": "qIrSjFXZreQS",
        "colab_type": "text"
      },
      "source": [
        "Without Fine Tuning"
      ]
    },
    {
      "cell_type": "code",
      "metadata": {
        "id": "mAWxzCWWO7rQ",
        "colab_type": "code",
        "colab": {}
      },
      "source": [
        "#Loading the dataset and putting them into 3 channels\n",
        "((trainX, trainY), (testX, testY)) = fashion_mnist.load_data()\n",
        "X_train = np.dstack([trainX] * 3)\n",
        "X_test = np.dstack([testX]*3)"
      ],
      "execution_count": 66,
      "outputs": []
    },
    {
      "cell_type": "code",
      "metadata": {
        "id": "vqXciOcAjAbq",
        "colab_type": "code",
        "colab": {
          "base_uri": "https://localhost:8080/",
          "height": 34
        },
        "outputId": "125d166d-877b-499d-a403-63bbec0d5e47"
      },
      "source": [
        "#we are reshaping the images\n",
        "X_train = X_train.reshape(-1, 28,28,3)\n",
        "X_test= X_test.reshape (-1,28,28,3)\n",
        "\n",
        "# Display the new shape\n",
        "X_train.shape, X_test.shape"
      ],
      "execution_count": 67,
      "outputs": [
        {
          "output_type": "execute_result",
          "data": {
            "text/plain": [
              "((60000, 28, 28, 3), (10000, 28, 28, 3))"
            ]
          },
          "metadata": {
            "tags": []
          },
          "execution_count": 67
        }
      ]
    },
    {
      "cell_type": "code",
      "metadata": {
        "id": "Gcl5H_92mLAm",
        "colab_type": "code",
        "colab": {}
      },
      "source": [
        "#Normalizing the images\n",
        "train_X = X_train / 255.\n",
        "test_X = X_train / 255.\n",
        "train_X = train_X.astype('float32')\n",
        "test_X = test_X.astype('float32')"
      ],
      "execution_count": 68,
      "outputs": []
    },
    {
      "cell_type": "code",
      "metadata": {
        "id": "PmwmXu3znlmH",
        "colab_type": "code",
        "colab": {
          "base_uri": "https://localhost:8080/",
          "height": 34
        },
        "outputId": "3fde22c0-1c70-4120-c5c4-2822cf122b29"
      },
      "source": [
        "from keras.preprocessing.image import img_to_array, array_to_img\n",
        "\n",
        "#Converting them into numpy array with image size of 48X48\n",
        "train_X = np.asarray([img_to_array(array_to_img(im, scale=False).resize((48,48))) for im in train_X])\n",
        "test_X = np.asarray([img_to_array(array_to_img(im, scale=False).resize((48,48))) for im in test_X])\n",
        "#train_x = preprocess_input(x)\n",
        "train_X.shape, test_X.shape"
      ],
      "execution_count": 69,
      "outputs": [
        {
          "output_type": "execute_result",
          "data": {
            "text/plain": [
              "((60000, 48, 48, 3), (60000, 48, 48, 3))"
            ]
          },
          "metadata": {
            "tags": []
          },
          "execution_count": 69
        }
      ]
    },
    {
      "cell_type": "code",
      "metadata": {
        "id": "mkmUPY45mXIc",
        "colab_type": "code",
        "colab": {}
      },
      "source": [
        "# Normalise the data and change data type\n",
        "train_X = train_X / 255.\n",
        "test_X = test_X / 255.\n",
        "train_X = train_X.astype('float32')\n",
        "test_X = test_X.astype('float32')"
      ],
      "execution_count": 70,
      "outputs": []
    },
    {
      "cell_type": "code",
      "metadata": {
        "id": "WqPQymjOnThS",
        "colab_type": "code",
        "colab": {}
      },
      "source": [
        "#Converting the labels data into one hot encoding \n",
        "train_Y_one_hot = to_categorical(trainY)\n",
        "test_Y_one_hot = to_categorical(testY)"
      ],
      "execution_count": 71,
      "outputs": []
    },
    {
      "cell_type": "code",
      "metadata": {
        "id": "Rt4BGJtVRGsg",
        "colab_type": "code",
        "colab": {}
      },
      "source": [
        "#Splitting the dataset \n",
        "train_X,valid_X,train_label,valid_label = train_test_split(train_X,\n",
        "                                                           train_Y_one_hot,\n",
        "                                                           test_size=0.2,\n",
        "                                                           random_state=13\n",
        "                                                           )"
      ],
      "execution_count": 72,
      "outputs": []
    },
    {
      "cell_type": "code",
      "metadata": {
        "id": "g-9VGaFZ33Qx",
        "colab_type": "code",
        "colab": {
          "base_uri": "https://localhost:8080/",
          "height": 34
        },
        "outputId": "045b51b0-671e-4f08-d2d5-ebc729889ae5"
      },
      "source": [
        "train_X.shape,valid_X.shape,train_label.shape,valid_label.shape"
      ],
      "execution_count": 73,
      "outputs": [
        {
          "output_type": "execute_result",
          "data": {
            "text/plain": [
              "((48000, 48, 48, 3), (12000, 48, 48, 3), (48000, 10), (12000, 10))"
            ]
          },
          "metadata": {
            "tags": []
          },
          "execution_count": 73
        }
      ]
    },
    {
      "cell_type": "code",
      "metadata": {
        "id": "AFNfaHTU33eU",
        "colab_type": "code",
        "colab": {}
      },
      "source": [
        "IMG_WIDTH = 48\n",
        "IMG_HEIGHT = 48\n",
        "IMG_DEPTH = 3\n",
        "BATCH_SIZE = 16"
      ],
      "execution_count": 74,
      "outputs": []
    },
    {
      "cell_type": "code",
      "metadata": {
        "id": "sYcPZT3b33sV",
        "colab_type": "code",
        "colab": {
          "base_uri": "https://localhost:8080/",
          "height": 1000
        },
        "outputId": "d831b2e5-5b4a-4c0b-9545-7413ba774efa"
      },
      "source": [
        "train_X = preprocess_input(train_X)\n",
        "valid_X = preprocess_input(valid_X)\n",
        "test_X  = preprocess_input (test_X)\n",
        "train_X"
      ],
      "execution_count": 75,
      "outputs": [
        {
          "output_type": "execute_result",
          "data": {
            "text/plain": [
              "array([[[[-103.939, -116.779, -123.68 ],\n",
              "         [-103.939, -116.779, -123.68 ],\n",
              "         [-103.939, -116.779, -123.68 ],\n",
              "         ...,\n",
              "         [-103.939, -116.779, -123.68 ],\n",
              "         [-103.939, -116.779, -123.68 ],\n",
              "         [-103.939, -116.779, -123.68 ]],\n",
              "\n",
              "        [[-103.939, -116.779, -123.68 ],\n",
              "         [-103.939, -116.779, -123.68 ],\n",
              "         [-103.939, -116.779, -123.68 ],\n",
              "         ...,\n",
              "         [-103.939, -116.779, -123.68 ],\n",
              "         [-103.939, -116.779, -123.68 ],\n",
              "         [-103.939, -116.779, -123.68 ]],\n",
              "\n",
              "        [[-103.939, -116.779, -123.68 ],\n",
              "         [-103.939, -116.779, -123.68 ],\n",
              "         [-103.939, -116.779, -123.68 ],\n",
              "         ...,\n",
              "         [-103.939, -116.779, -123.68 ],\n",
              "         [-103.939, -116.779, -123.68 ],\n",
              "         [-103.939, -116.779, -123.68 ]],\n",
              "\n",
              "        ...,\n",
              "\n",
              "        [[-103.939, -116.779, -123.68 ],\n",
              "         [-103.939, -116.779, -123.68 ],\n",
              "         [-103.939, -116.779, -123.68 ],\n",
              "         ...,\n",
              "         [-103.939, -116.779, -123.68 ],\n",
              "         [-103.939, -116.779, -123.68 ],\n",
              "         [-103.939, -116.779, -123.68 ]],\n",
              "\n",
              "        [[-103.939, -116.779, -123.68 ],\n",
              "         [-103.939, -116.779, -123.68 ],\n",
              "         [-103.939, -116.779, -123.68 ],\n",
              "         ...,\n",
              "         [-103.939, -116.779, -123.68 ],\n",
              "         [-103.939, -116.779, -123.68 ],\n",
              "         [-103.939, -116.779, -123.68 ]],\n",
              "\n",
              "        [[-103.939, -116.779, -123.68 ],\n",
              "         [-103.939, -116.779, -123.68 ],\n",
              "         [-103.939, -116.779, -123.68 ],\n",
              "         ...,\n",
              "         [-103.939, -116.779, -123.68 ],\n",
              "         [-103.939, -116.779, -123.68 ],\n",
              "         [-103.939, -116.779, -123.68 ]]],\n",
              "\n",
              "\n",
              "       [[[-103.939, -116.779, -123.68 ],\n",
              "         [-103.939, -116.779, -123.68 ],\n",
              "         [-103.939, -116.779, -123.68 ],\n",
              "         ...,\n",
              "         [-103.939, -116.779, -123.68 ],\n",
              "         [-103.939, -116.779, -123.68 ],\n",
              "         [-103.939, -116.779, -123.68 ]],\n",
              "\n",
              "        [[-103.939, -116.779, -123.68 ],\n",
              "         [-103.939, -116.779, -123.68 ],\n",
              "         [-103.939, -116.779, -123.68 ],\n",
              "         ...,\n",
              "         [-103.939, -116.779, -123.68 ],\n",
              "         [-103.939, -116.779, -123.68 ],\n",
              "         [-103.939, -116.779, -123.68 ]],\n",
              "\n",
              "        [[-103.939, -116.779, -123.68 ],\n",
              "         [-103.939, -116.779, -123.68 ],\n",
              "         [-103.939, -116.779, -123.68 ],\n",
              "         ...,\n",
              "         [-103.939, -116.779, -123.68 ],\n",
              "         [-103.939, -116.779, -123.68 ],\n",
              "         [-103.939, -116.779, -123.68 ]],\n",
              "\n",
              "        ...,\n",
              "\n",
              "        [[-103.939, -116.779, -123.68 ],\n",
              "         [-103.939, -116.779, -123.68 ],\n",
              "         [-103.939, -116.779, -123.68 ],\n",
              "         ...,\n",
              "         [-103.939, -116.779, -123.68 ],\n",
              "         [-103.939, -116.779, -123.68 ],\n",
              "         [-103.939, -116.779, -123.68 ]],\n",
              "\n",
              "        [[-103.939, -116.779, -123.68 ],\n",
              "         [-103.939, -116.779, -123.68 ],\n",
              "         [-103.939, -116.779, -123.68 ],\n",
              "         ...,\n",
              "         [-103.939, -116.779, -123.68 ],\n",
              "         [-103.939, -116.779, -123.68 ],\n",
              "         [-103.939, -116.779, -123.68 ]],\n",
              "\n",
              "        [[-103.939, -116.779, -123.68 ],\n",
              "         [-103.939, -116.779, -123.68 ],\n",
              "         [-103.939, -116.779, -123.68 ],\n",
              "         ...,\n",
              "         [-103.939, -116.779, -123.68 ],\n",
              "         [-103.939, -116.779, -123.68 ],\n",
              "         [-103.939, -116.779, -123.68 ]]],\n",
              "\n",
              "\n",
              "       [[[-103.939, -116.779, -123.68 ],\n",
              "         [-103.939, -116.779, -123.68 ],\n",
              "         [-103.939, -116.779, -123.68 ],\n",
              "         ...,\n",
              "         [-103.939, -116.779, -123.68 ],\n",
              "         [-103.939, -116.779, -123.68 ],\n",
              "         [-103.939, -116.779, -123.68 ]],\n",
              "\n",
              "        [[-103.939, -116.779, -123.68 ],\n",
              "         [-103.939, -116.779, -123.68 ],\n",
              "         [-103.939, -116.779, -123.68 ],\n",
              "         ...,\n",
              "         [-103.939, -116.779, -123.68 ],\n",
              "         [-103.939, -116.779, -123.68 ],\n",
              "         [-103.939, -116.779, -123.68 ]],\n",
              "\n",
              "        [[-103.939, -116.779, -123.68 ],\n",
              "         [-103.939, -116.779, -123.68 ],\n",
              "         [-103.939, -116.779, -123.68 ],\n",
              "         ...,\n",
              "         [-103.939, -116.779, -123.68 ],\n",
              "         [-103.939, -116.779, -123.68 ],\n",
              "         [-103.939, -116.779, -123.68 ]],\n",
              "\n",
              "        ...,\n",
              "\n",
              "        [[-103.939, -116.779, -123.68 ],\n",
              "         [-103.939, -116.779, -123.68 ],\n",
              "         [-103.939, -116.779, -123.68 ],\n",
              "         ...,\n",
              "         [-103.939, -116.779, -123.68 ],\n",
              "         [-103.939, -116.779, -123.68 ],\n",
              "         [-103.939, -116.779, -123.68 ]],\n",
              "\n",
              "        [[-103.939, -116.779, -123.68 ],\n",
              "         [-103.939, -116.779, -123.68 ],\n",
              "         [-103.939, -116.779, -123.68 ],\n",
              "         ...,\n",
              "         [-103.939, -116.779, -123.68 ],\n",
              "         [-103.939, -116.779, -123.68 ],\n",
              "         [-103.939, -116.779, -123.68 ]],\n",
              "\n",
              "        [[-103.939, -116.779, -123.68 ],\n",
              "         [-103.939, -116.779, -123.68 ],\n",
              "         [-103.939, -116.779, -123.68 ],\n",
              "         ...,\n",
              "         [-103.939, -116.779, -123.68 ],\n",
              "         [-103.939, -116.779, -123.68 ],\n",
              "         [-103.939, -116.779, -123.68 ]]],\n",
              "\n",
              "\n",
              "       ...,\n",
              "\n",
              "\n",
              "       [[[-103.939, -116.779, -123.68 ],\n",
              "         [-103.939, -116.779, -123.68 ],\n",
              "         [-103.939, -116.779, -123.68 ],\n",
              "         ...,\n",
              "         [-103.939, -116.779, -123.68 ],\n",
              "         [-103.939, -116.779, -123.68 ],\n",
              "         [-103.939, -116.779, -123.68 ]],\n",
              "\n",
              "        [[-103.939, -116.779, -123.68 ],\n",
              "         [-103.939, -116.779, -123.68 ],\n",
              "         [-103.939, -116.779, -123.68 ],\n",
              "         ...,\n",
              "         [-103.939, -116.779, -123.68 ],\n",
              "         [-103.939, -116.779, -123.68 ],\n",
              "         [-103.939, -116.779, -123.68 ]],\n",
              "\n",
              "        [[-103.939, -116.779, -123.68 ],\n",
              "         [-103.939, -116.779, -123.68 ],\n",
              "         [-103.939, -116.779, -123.68 ],\n",
              "         ...,\n",
              "         [-103.939, -116.779, -123.68 ],\n",
              "         [-103.939, -116.779, -123.68 ],\n",
              "         [-103.939, -116.779, -123.68 ]],\n",
              "\n",
              "        ...,\n",
              "\n",
              "        [[-103.939, -116.779, -123.68 ],\n",
              "         [-103.939, -116.779, -123.68 ],\n",
              "         [-103.939, -116.779, -123.68 ],\n",
              "         ...,\n",
              "         [-103.939, -116.779, -123.68 ],\n",
              "         [-103.939, -116.779, -123.68 ],\n",
              "         [-103.939, -116.779, -123.68 ]],\n",
              "\n",
              "        [[-103.939, -116.779, -123.68 ],\n",
              "         [-103.939, -116.779, -123.68 ],\n",
              "         [-103.939, -116.779, -123.68 ],\n",
              "         ...,\n",
              "         [-103.939, -116.779, -123.68 ],\n",
              "         [-103.939, -116.779, -123.68 ],\n",
              "         [-103.939, -116.779, -123.68 ]],\n",
              "\n",
              "        [[-103.939, -116.779, -123.68 ],\n",
              "         [-103.939, -116.779, -123.68 ],\n",
              "         [-103.939, -116.779, -123.68 ],\n",
              "         ...,\n",
              "         [-103.939, -116.779, -123.68 ],\n",
              "         [-103.939, -116.779, -123.68 ],\n",
              "         [-103.939, -116.779, -123.68 ]]],\n",
              "\n",
              "\n",
              "       [[[-103.939, -116.779, -123.68 ],\n",
              "         [-103.939, -116.779, -123.68 ],\n",
              "         [-103.939, -116.779, -123.68 ],\n",
              "         ...,\n",
              "         [-103.939, -116.779, -123.68 ],\n",
              "         [-103.939, -116.779, -123.68 ],\n",
              "         [-103.939, -116.779, -123.68 ]],\n",
              "\n",
              "        [[-103.939, -116.779, -123.68 ],\n",
              "         [-103.939, -116.779, -123.68 ],\n",
              "         [-103.939, -116.779, -123.68 ],\n",
              "         ...,\n",
              "         [-103.939, -116.779, -123.68 ],\n",
              "         [-103.939, -116.779, -123.68 ],\n",
              "         [-103.939, -116.779, -123.68 ]],\n",
              "\n",
              "        [[-103.939, -116.779, -123.68 ],\n",
              "         [-103.939, -116.779, -123.68 ],\n",
              "         [-103.939, -116.779, -123.68 ],\n",
              "         ...,\n",
              "         [-103.939, -116.779, -123.68 ],\n",
              "         [-103.939, -116.779, -123.68 ],\n",
              "         [-103.939, -116.779, -123.68 ]],\n",
              "\n",
              "        ...,\n",
              "\n",
              "        [[-103.939, -116.779, -123.68 ],\n",
              "         [-103.939, -116.779, -123.68 ],\n",
              "         [-103.939, -116.779, -123.68 ],\n",
              "         ...,\n",
              "         [-103.939, -116.779, -123.68 ],\n",
              "         [-103.939, -116.779, -123.68 ],\n",
              "         [-103.939, -116.779, -123.68 ]],\n",
              "\n",
              "        [[-103.939, -116.779, -123.68 ],\n",
              "         [-103.939, -116.779, -123.68 ],\n",
              "         [-103.939, -116.779, -123.68 ],\n",
              "         ...,\n",
              "         [-103.939, -116.779, -123.68 ],\n",
              "         [-103.939, -116.779, -123.68 ],\n",
              "         [-103.939, -116.779, -123.68 ]],\n",
              "\n",
              "        [[-103.939, -116.779, -123.68 ],\n",
              "         [-103.939, -116.779, -123.68 ],\n",
              "         [-103.939, -116.779, -123.68 ],\n",
              "         ...,\n",
              "         [-103.939, -116.779, -123.68 ],\n",
              "         [-103.939, -116.779, -123.68 ],\n",
              "         [-103.939, -116.779, -123.68 ]]],\n",
              "\n",
              "\n",
              "       [[[-103.939, -116.779, -123.68 ],\n",
              "         [-103.939, -116.779, -123.68 ],\n",
              "         [-103.939, -116.779, -123.68 ],\n",
              "         ...,\n",
              "         [-103.939, -116.779, -123.68 ],\n",
              "         [-103.939, -116.779, -123.68 ],\n",
              "         [-103.939, -116.779, -123.68 ]],\n",
              "\n",
              "        [[-103.939, -116.779, -123.68 ],\n",
              "         [-103.939, -116.779, -123.68 ],\n",
              "         [-103.939, -116.779, -123.68 ],\n",
              "         ...,\n",
              "         [-103.939, -116.779, -123.68 ],\n",
              "         [-103.939, -116.779, -123.68 ],\n",
              "         [-103.939, -116.779, -123.68 ]],\n",
              "\n",
              "        [[-103.939, -116.779, -123.68 ],\n",
              "         [-103.939, -116.779, -123.68 ],\n",
              "         [-103.939, -116.779, -123.68 ],\n",
              "         ...,\n",
              "         [-103.939, -116.779, -123.68 ],\n",
              "         [-103.939, -116.779, -123.68 ],\n",
              "         [-103.939, -116.779, -123.68 ]],\n",
              "\n",
              "        ...,\n",
              "\n",
              "        [[-103.939, -116.779, -123.68 ],\n",
              "         [-103.939, -116.779, -123.68 ],\n",
              "         [-103.939, -116.779, -123.68 ],\n",
              "         ...,\n",
              "         [-103.939, -116.779, -123.68 ],\n",
              "         [-103.939, -116.779, -123.68 ],\n",
              "         [-103.939, -116.779, -123.68 ]],\n",
              "\n",
              "        [[-103.939, -116.779, -123.68 ],\n",
              "         [-103.939, -116.779, -123.68 ],\n",
              "         [-103.939, -116.779, -123.68 ],\n",
              "         ...,\n",
              "         [-103.939, -116.779, -123.68 ],\n",
              "         [-103.939, -116.779, -123.68 ],\n",
              "         [-103.939, -116.779, -123.68 ]],\n",
              "\n",
              "        [[-103.939, -116.779, -123.68 ],\n",
              "         [-103.939, -116.779, -123.68 ],\n",
              "         [-103.939, -116.779, -123.68 ],\n",
              "         ...,\n",
              "         [-103.939, -116.779, -123.68 ],\n",
              "         [-103.939, -116.779, -123.68 ],\n",
              "         [-103.939, -116.779, -123.68 ]]]], dtype=float32)"
            ]
          },
          "metadata": {
            "tags": []
          },
          "execution_count": 75
        }
      ]
    },
    {
      "cell_type": "code",
      "metadata": {
        "id": "44N5iHAs335w",
        "colab_type": "code",
        "colab": {
          "base_uri": "https://localhost:8080/",
          "height": 790
        },
        "outputId": "f9c1756a-8b05-4196-a0c2-a274554e64be"
      },
      "source": [
        "#We are using VGG 16 on the behalf og transfer learning as a predefined neural network\n",
        "conv_base = keras.applications.vgg16.VGG16(weights='imagenet',\n",
        "                  include_top=False, \n",
        "                  input_shape=(IMG_HEIGHT, IMG_WIDTH, IMG_DEPTH)  #input shapes are being passed\n",
        "                 )\n",
        "conv_base.summary()\n",
        "\n"
      ],
      "execution_count": 76,
      "outputs": [
        {
          "output_type": "stream",
          "text": [
            "Model: \"vgg16\"\n",
            "_________________________________________________________________\n",
            "Layer (type)                 Output Shape              Param #   \n",
            "=================================================================\n",
            "input_3 (InputLayer)         [(None, 48, 48, 3)]       0         \n",
            "_________________________________________________________________\n",
            "block1_conv1 (Conv2D)        (None, 48, 48, 64)        1792      \n",
            "_________________________________________________________________\n",
            "block1_conv2 (Conv2D)        (None, 48, 48, 64)        36928     \n",
            "_________________________________________________________________\n",
            "block1_pool (MaxPooling2D)   (None, 24, 24, 64)        0         \n",
            "_________________________________________________________________\n",
            "block2_conv1 (Conv2D)        (None, 24, 24, 128)       73856     \n",
            "_________________________________________________________________\n",
            "block2_conv2 (Conv2D)        (None, 24, 24, 128)       147584    \n",
            "_________________________________________________________________\n",
            "block2_pool (MaxPooling2D)   (None, 12, 12, 128)       0         \n",
            "_________________________________________________________________\n",
            "block3_conv1 (Conv2D)        (None, 12, 12, 256)       295168    \n",
            "_________________________________________________________________\n",
            "block3_conv2 (Conv2D)        (None, 12, 12, 256)       590080    \n",
            "_________________________________________________________________\n",
            "block3_conv3 (Conv2D)        (None, 12, 12, 256)       590080    \n",
            "_________________________________________________________________\n",
            "block3_pool (MaxPooling2D)   (None, 6, 6, 256)         0         \n",
            "_________________________________________________________________\n",
            "block4_conv1 (Conv2D)        (None, 6, 6, 512)         1180160   \n",
            "_________________________________________________________________\n",
            "block4_conv2 (Conv2D)        (None, 6, 6, 512)         2359808   \n",
            "_________________________________________________________________\n",
            "block4_conv3 (Conv2D)        (None, 6, 6, 512)         2359808   \n",
            "_________________________________________________________________\n",
            "block4_pool (MaxPooling2D)   (None, 3, 3, 512)         0         \n",
            "_________________________________________________________________\n",
            "block5_conv1 (Conv2D)        (None, 3, 3, 512)         2359808   \n",
            "_________________________________________________________________\n",
            "block5_conv2 (Conv2D)        (None, 3, 3, 512)         2359808   \n",
            "_________________________________________________________________\n",
            "block5_conv3 (Conv2D)        (None, 3, 3, 512)         2359808   \n",
            "_________________________________________________________________\n",
            "block5_pool (MaxPooling2D)   (None, 1, 1, 512)         0         \n",
            "=================================================================\n",
            "Total params: 14,714,688\n",
            "Trainable params: 14,714,688\n",
            "Non-trainable params: 0\n",
            "_________________________________________________________________\n"
          ],
          "name": "stdout"
        }
      ]
    },
    {
      "cell_type": "code",
      "metadata": {
        "id": "lXwlSI-u34JT",
        "colab_type": "code",
        "colab": {
          "base_uri": "https://localhost:8080/",
          "height": 188
        },
        "outputId": "6db26ab3-f27a-43f8-bf2b-4bb284022aac"
      },
      "source": [
        "# we are extracting the features\n",
        "train_features = conv_base.predict(np.array(train_X), batch_size=BATCH_SIZE, verbose=1)  \n",
        "test_features = conv_base.predict(np.array(test_X), batch_size=BATCH_SIZE, verbose=1)\n",
        "val_features = conv_base.predict(np.array(valid_X), batch_size=BATCH_SIZE, verbose=1)"
      ],
      "execution_count": 77,
      "outputs": [
        {
          "output_type": "stream",
          "text": [
            "\r   1/3000 [..............................] - ETA: 0sWARNING:tensorflow:Callbacks method `on_predict_batch_end` is slow compared to the batch time (batch time: 0.0015s vs `on_predict_batch_end` time: 0.0044s). Check your callbacks.\n"
          ],
          "name": "stdout"
        },
        {
          "output_type": "stream",
          "text": [
            "WARNING:tensorflow:Callbacks method `on_predict_batch_end` is slow compared to the batch time (batch time: 0.0015s vs `on_predict_batch_end` time: 0.0044s). Check your callbacks.\n"
          ],
          "name": "stderr"
        },
        {
          "output_type": "stream",
          "text": [
            "3000/3000 [==============================] - 17s 6ms/step\n",
            "   1/3750 [..............................] - ETA: 0sWARNING:tensorflow:Callbacks method `on_predict_batch_end` is slow compared to the batch time (batch time: 0.0015s vs `on_predict_batch_end` time: 0.0042s). Check your callbacks.\n"
          ],
          "name": "stdout"
        },
        {
          "output_type": "stream",
          "text": [
            "WARNING:tensorflow:Callbacks method `on_predict_batch_end` is slow compared to the batch time (batch time: 0.0015s vs `on_predict_batch_end` time: 0.0042s). Check your callbacks.\n"
          ],
          "name": "stderr"
        },
        {
          "output_type": "stream",
          "text": [
            "3750/3750 [==============================] - 21s 6ms/step\n",
            "  1/750 [..............................] - ETA: 0sWARNING:tensorflow:Callbacks method `on_predict_batch_end` is slow compared to the batch time (batch time: 0.0014s vs `on_predict_batch_end` time: 0.0041s). Check your callbacks.\n"
          ],
          "name": "stdout"
        },
        {
          "output_type": "stream",
          "text": [
            "WARNING:tensorflow:Callbacks method `on_predict_batch_end` is slow compared to the batch time (batch time: 0.0014s vs `on_predict_batch_end` time: 0.0041s). Check your callbacks.\n"
          ],
          "name": "stderr"
        },
        {
          "output_type": "stream",
          "text": [
            "750/750 [==============================] - 4s 6ms/step\n"
          ],
          "name": "stdout"
        }
      ]
    },
    {
      "cell_type": "code",
      "metadata": {
        "id": "lG9cdgPf34aB",
        "colab_type": "code",
        "colab": {}
      },
      "source": [
        "#saving the extracted features incase we can use later \n",
        "np.savez(\"train_features\", train_features, train_label)\n",
        "np.savez(\"test_features\", test_features, testY)\n",
        "np.savez(\"val_features\", val_features, valid_label)\n"
      ],
      "execution_count": 78,
      "outputs": []
    },
    {
      "cell_type": "code",
      "metadata": {
        "id": "5OXN6XVI34pj",
        "colab_type": "code",
        "colab": {
          "base_uri": "https://localhost:8080/",
          "height": 67
        },
        "outputId": "d4f6e90e-62d9-476b-adcc-9f11f323579e"
      },
      "source": [
        "print(train_features.shape, \"\\n\",  test_features.shape, \"\\n\", val_features.shape)"
      ],
      "execution_count": 79,
      "outputs": [
        {
          "output_type": "stream",
          "text": [
            "(48000, 1, 1, 512) \n",
            " (60000, 1, 1, 512) \n",
            " (12000, 1, 1, 512)\n"
          ],
          "name": "stdout"
        }
      ]
    },
    {
      "cell_type": "code",
      "metadata": {
        "id": "I0eC9Cmkb8ZP",
        "colab_type": "code",
        "colab": {}
      },
      "source": [
        "train_features_flat = np.reshape(train_features, (48000, 1*1*512))\n",
        "val_features_flat = np.reshape(val_features, (12000, 1*1*512))"
      ],
      "execution_count": 80,
      "outputs": []
    },
    {
      "cell_type": "code",
      "metadata": {
        "id": "DTL8dU1n4HvB",
        "colab_type": "code",
        "colab": {}
      },
      "source": [
        "NB_TRAIN_SAMPLES = train_features_flat.shape[0]\n",
        "NB_VALIDATION_SAMPLES = val_features_flat.shape[0]\n",
        "NB_EPOCHS = 100\n",
        "\n",
        "model = models.Sequential()\n",
        "model.add(layers.Dense(512, activation='relu', input_dim=(1*1*512)))\n",
        "model.add(layers.LeakyReLU(alpha=0.1))\n",
        "model.add(layers.Dense(10, activation='softmax'))"
      ],
      "execution_count": 81,
      "outputs": []
    },
    {
      "cell_type": "code",
      "metadata": {
        "id": "MFMattCw4H8U",
        "colab_type": "code",
        "colab": {}
      },
      "source": [
        "model.compile(\n",
        "    loss='categorical_crossentropy',\n",
        "    optimizer=optimizers.Adam(),\n",
        "  # optimizer=optimizers.RMSprop(lr=2e-5),\n",
        "    metrics=['acc'])"
      ],
      "execution_count": 82,
      "outputs": []
    },
    {
      "cell_type": "code",
      "metadata": {
        "id": "IXWge__J4ILi",
        "colab_type": "code",
        "colab": {
          "base_uri": "https://localhost:8080/",
          "height": 1000
        },
        "outputId": "393d6432-44fe-4a19-c5cf-a622bcdf9552"
      },
      "source": [
        "# Train the Model\n",
        "history = model.fit(\n",
        "    train_features_flat,\n",
        "    train_label,\n",
        "    epochs=100,\n",
        "    validation_data=(val_features_flat, valid_label),\n",
        "  # callbacks=callbacks\n",
        ")"
      ],
      "execution_count": 47,
      "outputs": [
        {
          "output_type": "stream",
          "text": [
            "Epoch 1/100\n",
            "1500/1500 [==============================] - 3s 2ms/step - loss: 2.3028 - acc: 0.1000 - val_loss: 2.3029 - val_acc: 0.1007\n",
            "Epoch 2/100\n",
            "1500/1500 [==============================] - 3s 2ms/step - loss: 2.3028 - acc: 0.0975 - val_loss: 2.3029 - val_acc: 0.0964\n",
            "Epoch 3/100\n",
            "1500/1500 [==============================] - 3s 2ms/step - loss: 2.3027 - acc: 0.0996 - val_loss: 2.3029 - val_acc: 0.0964\n",
            "Epoch 4/100\n",
            "1500/1500 [==============================] - 3s 2ms/step - loss: 2.3027 - acc: 0.0988 - val_loss: 2.3028 - val_acc: 0.0964\n",
            "Epoch 5/100\n",
            "1500/1500 [==============================] - 3s 2ms/step - loss: 2.3028 - acc: 0.0969 - val_loss: 2.3029 - val_acc: 0.0964\n",
            "Epoch 6/100\n",
            "1500/1500 [==============================] - 3s 2ms/step - loss: 2.3028 - acc: 0.0981 - val_loss: 2.3028 - val_acc: 0.0993\n",
            "Epoch 7/100\n",
            "1500/1500 [==============================] - 3s 2ms/step - loss: 2.3027 - acc: 0.0967 - val_loss: 2.3029 - val_acc: 0.0964\n",
            "Epoch 8/100\n",
            "1500/1500 [==============================] - 3s 2ms/step - loss: 2.3028 - acc: 0.0989 - val_loss: 2.3029 - val_acc: 0.0980\n",
            "Epoch 9/100\n",
            "1500/1500 [==============================] - 3s 2ms/step - loss: 2.3028 - acc: 0.0987 - val_loss: 2.3029 - val_acc: 0.0980\n",
            "Epoch 10/100\n",
            "1500/1500 [==============================] - 3s 2ms/step - loss: 2.3028 - acc: 0.0986 - val_loss: 2.3029 - val_acc: 0.0964\n",
            "Epoch 11/100\n",
            "1500/1500 [==============================] - 3s 2ms/step - loss: 2.3027 - acc: 0.0989 - val_loss: 2.3027 - val_acc: 0.1007\n",
            "Epoch 12/100\n",
            "1500/1500 [==============================] - 3s 2ms/step - loss: 2.3028 - acc: 0.0969 - val_loss: 2.3028 - val_acc: 0.0964\n",
            "Epoch 13/100\n",
            "1500/1500 [==============================] - 3s 2ms/step - loss: 2.3027 - acc: 0.0992 - val_loss: 2.3029 - val_acc: 0.0990\n",
            "Epoch 14/100\n",
            "1500/1500 [==============================] - 3s 2ms/step - loss: 2.3028 - acc: 0.0995 - val_loss: 2.3028 - val_acc: 0.0964\n",
            "Epoch 15/100\n",
            "1500/1500 [==============================] - 3s 2ms/step - loss: 2.3028 - acc: 0.0988 - val_loss: 2.3027 - val_acc: 0.1028\n",
            "Epoch 16/100\n",
            "1500/1500 [==============================] - 3s 2ms/step - loss: 2.3027 - acc: 0.1014 - val_loss: 2.3029 - val_acc: 0.0983\n",
            "Epoch 17/100\n",
            "1500/1500 [==============================] - 3s 2ms/step - loss: 2.3028 - acc: 0.0988 - val_loss: 2.3028 - val_acc: 0.0990\n",
            "Epoch 18/100\n",
            "1500/1500 [==============================] - 3s 2ms/step - loss: 2.3028 - acc: 0.0991 - val_loss: 2.3028 - val_acc: 0.0980\n",
            "Epoch 19/100\n",
            "1500/1500 [==============================] - 3s 2ms/step - loss: 2.3028 - acc: 0.0987 - val_loss: 2.3027 - val_acc: 0.0992\n",
            "Epoch 20/100\n",
            "1500/1500 [==============================] - 3s 2ms/step - loss: 2.3028 - acc: 0.0970 - val_loss: 2.3029 - val_acc: 0.0964\n",
            "Epoch 21/100\n",
            "1500/1500 [==============================] - 3s 2ms/step - loss: 2.3028 - acc: 0.0978 - val_loss: 2.3027 - val_acc: 0.0964\n",
            "Epoch 22/100\n",
            "1500/1500 [==============================] - 3s 2ms/step - loss: 2.3028 - acc: 0.1001 - val_loss: 2.3028 - val_acc: 0.0983\n",
            "Epoch 23/100\n",
            "1500/1500 [==============================] - 3s 2ms/step - loss: 2.3027 - acc: 0.0995 - val_loss: 2.3027 - val_acc: 0.0990\n",
            "Epoch 24/100\n",
            "1500/1500 [==============================] - 3s 2ms/step - loss: 2.3027 - acc: 0.0986 - val_loss: 2.3027 - val_acc: 0.0992\n",
            "Epoch 25/100\n",
            "1500/1500 [==============================] - 3s 2ms/step - loss: 2.3028 - acc: 0.0970 - val_loss: 2.3028 - val_acc: 0.0990\n",
            "Epoch 26/100\n",
            "1500/1500 [==============================] - 3s 2ms/step - loss: 2.3028 - acc: 0.0970 - val_loss: 2.3027 - val_acc: 0.0983\n",
            "Epoch 27/100\n",
            "1500/1500 [==============================] - 3s 2ms/step - loss: 2.3028 - acc: 0.0994 - val_loss: 2.3027 - val_acc: 0.0993\n",
            "Epoch 28/100\n",
            "1500/1500 [==============================] - 3s 2ms/step - loss: 2.3028 - acc: 0.0986 - val_loss: 2.3029 - val_acc: 0.0964\n",
            "Epoch 29/100\n",
            "1500/1500 [==============================] - 3s 2ms/step - loss: 2.3028 - acc: 0.0968 - val_loss: 2.3028 - val_acc: 0.0980\n",
            "Epoch 30/100\n",
            "1500/1500 [==============================] - 3s 2ms/step - loss: 2.3028 - acc: 0.0985 - val_loss: 2.3028 - val_acc: 0.0983\n",
            "Epoch 31/100\n",
            "1500/1500 [==============================] - 3s 2ms/step - loss: 2.3028 - acc: 0.0966 - val_loss: 2.3028 - val_acc: 0.0964\n",
            "Epoch 32/100\n",
            "1500/1500 [==============================] - 3s 2ms/step - loss: 2.3028 - acc: 0.0989 - val_loss: 2.3028 - val_acc: 0.0964\n",
            "Epoch 33/100\n",
            "1500/1500 [==============================] - 3s 2ms/step - loss: 2.3027 - acc: 0.1005 - val_loss: 2.3028 - val_acc: 0.0992\n",
            "Epoch 34/100\n",
            "1500/1500 [==============================] - 3s 2ms/step - loss: 2.3028 - acc: 0.0976 - val_loss: 2.3027 - val_acc: 0.0964\n",
            "Epoch 35/100\n",
            "1500/1500 [==============================] - 3s 2ms/step - loss: 2.3027 - acc: 0.0975 - val_loss: 2.3028 - val_acc: 0.0990\n",
            "Epoch 36/100\n",
            "1500/1500 [==============================] - 3s 2ms/step - loss: 2.3028 - acc: 0.0987 - val_loss: 2.3028 - val_acc: 0.0990\n",
            "Epoch 37/100\n",
            "1500/1500 [==============================] - 3s 2ms/step - loss: 2.3028 - acc: 0.0977 - val_loss: 2.3027 - val_acc: 0.0964\n",
            "Epoch 38/100\n",
            "1500/1500 [==============================] - 3s 2ms/step - loss: 2.3028 - acc: 0.0981 - val_loss: 2.3028 - val_acc: 0.0993\n",
            "Epoch 39/100\n",
            "1500/1500 [==============================] - 3s 2ms/step - loss: 2.3027 - acc: 0.0997 - val_loss: 2.3029 - val_acc: 0.0980\n",
            "Epoch 40/100\n",
            "1500/1500 [==============================] - 3s 2ms/step - loss: 2.3028 - acc: 0.0979 - val_loss: 2.3030 - val_acc: 0.0983\n",
            "Epoch 41/100\n",
            "1500/1500 [==============================] - 3s 2ms/step - loss: 2.3027 - acc: 0.0998 - val_loss: 2.3028 - val_acc: 0.0964\n",
            "Epoch 42/100\n",
            "1500/1500 [==============================] - 3s 2ms/step - loss: 2.3028 - acc: 0.0989 - val_loss: 2.3029 - val_acc: 0.0980\n",
            "Epoch 43/100\n",
            "1500/1500 [==============================] - 3s 2ms/step - loss: 2.3028 - acc: 0.0982 - val_loss: 2.3028 - val_acc: 0.0992\n",
            "Epoch 44/100\n",
            "1500/1500 [==============================] - 3s 2ms/step - loss: 2.3027 - acc: 0.0999 - val_loss: 2.3027 - val_acc: 0.0964\n",
            "Epoch 45/100\n",
            "1500/1500 [==============================] - 3s 2ms/step - loss: 2.3028 - acc: 0.0997 - val_loss: 2.3028 - val_acc: 0.0983\n",
            "Epoch 46/100\n",
            "1500/1500 [==============================] - 3s 2ms/step - loss: 2.3028 - acc: 0.0976 - val_loss: 2.3028 - val_acc: 0.0980\n",
            "Epoch 47/100\n",
            "1500/1500 [==============================] - 3s 2ms/step - loss: 2.3027 - acc: 0.1002 - val_loss: 2.3030 - val_acc: 0.0964\n",
            "Epoch 48/100\n",
            "1500/1500 [==============================] - 3s 2ms/step - loss: 2.3027 - acc: 0.0981 - val_loss: 2.3028 - val_acc: 0.0992\n",
            "Epoch 49/100\n",
            "1500/1500 [==============================] - 3s 2ms/step - loss: 2.3028 - acc: 0.0980 - val_loss: 2.3026 - val_acc: 0.0992\n",
            "Epoch 50/100\n",
            "1500/1500 [==============================] - 3s 2ms/step - loss: 2.3028 - acc: 0.0972 - val_loss: 2.3028 - val_acc: 0.0964\n",
            "Epoch 51/100\n",
            "1500/1500 [==============================] - 3s 2ms/step - loss: 2.3027 - acc: 0.0987 - val_loss: 2.3028 - val_acc: 0.0980\n",
            "Epoch 52/100\n",
            "1500/1500 [==============================] - 3s 2ms/step - loss: 2.3028 - acc: 0.0995 - val_loss: 2.3030 - val_acc: 0.0993\n",
            "Epoch 53/100\n",
            "1500/1500 [==============================] - 3s 2ms/step - loss: 2.3028 - acc: 0.0981 - val_loss: 2.3030 - val_acc: 0.0964\n",
            "Epoch 54/100\n",
            "1500/1500 [==============================] - 3s 2ms/step - loss: 2.3028 - acc: 0.0969 - val_loss: 2.3028 - val_acc: 0.0964\n",
            "Epoch 55/100\n",
            "1500/1500 [==============================] - 3s 2ms/step - loss: 2.3028 - acc: 0.0991 - val_loss: 2.3028 - val_acc: 0.0992\n",
            "Epoch 56/100\n",
            "1500/1500 [==============================] - 3s 2ms/step - loss: 2.3028 - acc: 0.0971 - val_loss: 2.3027 - val_acc: 0.0964\n",
            "Epoch 57/100\n",
            "1500/1500 [==============================] - 3s 2ms/step - loss: 2.3027 - acc: 0.1002 - val_loss: 2.3028 - val_acc: 0.0980\n",
            "Epoch 58/100\n",
            "1500/1500 [==============================] - 3s 2ms/step - loss: 2.3028 - acc: 0.0969 - val_loss: 2.3027 - val_acc: 0.0990\n",
            "Epoch 59/100\n",
            "1500/1500 [==============================] - 3s 2ms/step - loss: 2.3027 - acc: 0.0992 - val_loss: 2.3028 - val_acc: 0.0964\n",
            "Epoch 60/100\n",
            "1500/1500 [==============================] - 3s 2ms/step - loss: 2.3028 - acc: 0.0998 - val_loss: 2.3027 - val_acc: 0.0983\n",
            "Epoch 61/100\n",
            "1500/1500 [==============================] - 3s 2ms/step - loss: 2.3028 - acc: 0.0978 - val_loss: 2.3027 - val_acc: 0.0990\n",
            "Epoch 62/100\n",
            "1500/1500 [==============================] - 3s 2ms/step - loss: 2.3028 - acc: 0.0976 - val_loss: 2.3029 - val_acc: 0.0964\n",
            "Epoch 63/100\n",
            "1500/1500 [==============================] - 3s 2ms/step - loss: 2.3028 - acc: 0.0995 - val_loss: 2.3027 - val_acc: 0.0980\n",
            "Epoch 64/100\n",
            "1500/1500 [==============================] - 3s 2ms/step - loss: 2.3027 - acc: 0.0995 - val_loss: 2.3028 - val_acc: 0.0992\n",
            "Epoch 65/100\n",
            "1500/1500 [==============================] - 3s 2ms/step - loss: 2.3028 - acc: 0.0964 - val_loss: 2.3028 - val_acc: 0.0980\n",
            "Epoch 66/100\n",
            "1500/1500 [==============================] - 3s 2ms/step - loss: 2.3028 - acc: 0.0965 - val_loss: 2.3028 - val_acc: 0.0990\n",
            "Epoch 67/100\n",
            "1500/1500 [==============================] - 3s 2ms/step - loss: 2.3027 - acc: 0.0984 - val_loss: 2.3029 - val_acc: 0.1016\n",
            "Epoch 68/100\n",
            "1500/1500 [==============================] - 3s 2ms/step - loss: 2.3028 - acc: 0.0977 - val_loss: 2.3028 - val_acc: 0.0964\n",
            "Epoch 69/100\n",
            "1500/1500 [==============================] - 3s 2ms/step - loss: 2.3028 - acc: 0.0956 - val_loss: 2.3029 - val_acc: 0.0983\n",
            "Epoch 70/100\n",
            "1500/1500 [==============================] - 3s 2ms/step - loss: 2.3028 - acc: 0.0976 - val_loss: 2.3027 - val_acc: 0.0964\n",
            "Epoch 71/100\n",
            "1500/1500 [==============================] - 3s 2ms/step - loss: 2.3027 - acc: 0.0996 - val_loss: 2.3028 - val_acc: 0.0983\n",
            "Epoch 72/100\n",
            "1500/1500 [==============================] - 3s 2ms/step - loss: 2.3028 - acc: 0.0984 - val_loss: 2.3026 - val_acc: 0.0990\n",
            "Epoch 73/100\n",
            "1500/1500 [==============================] - 3s 2ms/step - loss: 2.3028 - acc: 0.0993 - val_loss: 2.3029 - val_acc: 0.0964\n",
            "Epoch 74/100\n",
            "1500/1500 [==============================] - 3s 2ms/step - loss: 2.3028 - acc: 0.0984 - val_loss: 2.3027 - val_acc: 0.0964\n",
            "Epoch 75/100\n",
            "1500/1500 [==============================] - 3s 2ms/step - loss: 2.3028 - acc: 0.1001 - val_loss: 2.3027 - val_acc: 0.0980\n",
            "Epoch 76/100\n",
            "1500/1500 [==============================] - 3s 2ms/step - loss: 2.3028 - acc: 0.0960 - val_loss: 2.3027 - val_acc: 0.0992\n",
            "Epoch 77/100\n",
            "1500/1500 [==============================] - 3s 2ms/step - loss: 2.3028 - acc: 0.0982 - val_loss: 2.3029 - val_acc: 0.0993\n",
            "Epoch 78/100\n",
            "1500/1500 [==============================] - 3s 2ms/step - loss: 2.3028 - acc: 0.1001 - val_loss: 2.3027 - val_acc: 0.0964\n",
            "Epoch 79/100\n",
            "1500/1500 [==============================] - 3s 2ms/step - loss: 2.3028 - acc: 0.0962 - val_loss: 2.3026 - val_acc: 0.1016\n",
            "Epoch 80/100\n",
            "1500/1500 [==============================] - 3s 2ms/step - loss: 2.3027 - acc: 0.1007 - val_loss: 2.3028 - val_acc: 0.1007\n",
            "Epoch 81/100\n",
            "1500/1500 [==============================] - 3s 2ms/step - loss: 2.3028 - acc: 0.0979 - val_loss: 2.3027 - val_acc: 0.0980\n",
            "Epoch 82/100\n",
            "1500/1500 [==============================] - 3s 2ms/step - loss: 2.3028 - acc: 0.0994 - val_loss: 2.3028 - val_acc: 0.0964\n",
            "Epoch 83/100\n",
            "1500/1500 [==============================] - 3s 2ms/step - loss: 2.3028 - acc: 0.0989 - val_loss: 2.3028 - val_acc: 0.0964\n",
            "Epoch 84/100\n",
            "1500/1500 [==============================] - 3s 2ms/step - loss: 2.3028 - acc: 0.0985 - val_loss: 2.3027 - val_acc: 0.0983\n",
            "Epoch 85/100\n",
            "1500/1500 [==============================] - 3s 2ms/step - loss: 2.3028 - acc: 0.0984 - val_loss: 2.3028 - val_acc: 0.1028\n",
            "Epoch 86/100\n",
            "1500/1500 [==============================] - 3s 2ms/step - loss: 2.3028 - acc: 0.0973 - val_loss: 2.3027 - val_acc: 0.0964\n",
            "Epoch 87/100\n",
            "1500/1500 [==============================] - 3s 2ms/step - loss: 2.3028 - acc: 0.0989 - val_loss: 2.3028 - val_acc: 0.0990\n",
            "Epoch 88/100\n",
            "1500/1500 [==============================] - 3s 2ms/step - loss: 2.3028 - acc: 0.0992 - val_loss: 2.3029 - val_acc: 0.0964\n",
            "Epoch 89/100\n",
            "1500/1500 [==============================] - 3s 2ms/step - loss: 2.3028 - acc: 0.0968 - val_loss: 2.3028 - val_acc: 0.1016\n",
            "Epoch 90/100\n",
            "1500/1500 [==============================] - 3s 2ms/step - loss: 2.3028 - acc: 0.0995 - val_loss: 2.3028 - val_acc: 0.0993\n",
            "Epoch 91/100\n",
            "1500/1500 [==============================] - 3s 2ms/step - loss: 2.3028 - acc: 0.0981 - val_loss: 2.3028 - val_acc: 0.0990\n",
            "Epoch 92/100\n",
            "1500/1500 [==============================] - 3s 2ms/step - loss: 2.3027 - acc: 0.0996 - val_loss: 2.3029 - val_acc: 0.0980\n",
            "Epoch 93/100\n",
            "1500/1500 [==============================] - 3s 2ms/step - loss: 2.3028 - acc: 0.0995 - val_loss: 2.3029 - val_acc: 0.0993\n",
            "Epoch 94/100\n",
            "1500/1500 [==============================] - 3s 2ms/step - loss: 2.3028 - acc: 0.0972 - val_loss: 2.3028 - val_acc: 0.0964\n",
            "Epoch 95/100\n",
            "1500/1500 [==============================] - 3s 2ms/step - loss: 2.3027 - acc: 0.0992 - val_loss: 2.3029 - val_acc: 0.0992\n",
            "Epoch 96/100\n",
            "1500/1500 [==============================] - 3s 2ms/step - loss: 2.3028 - acc: 0.0973 - val_loss: 2.3027 - val_acc: 0.0992\n",
            "Epoch 97/100\n",
            "1500/1500 [==============================] - 3s 2ms/step - loss: 2.3028 - acc: 0.0990 - val_loss: 2.3027 - val_acc: 0.0964\n",
            "Epoch 98/100\n",
            "1500/1500 [==============================] - 3s 2ms/step - loss: 2.3027 - acc: 0.0984 - val_loss: 2.3030 - val_acc: 0.0980\n",
            "Epoch 99/100\n",
            "1500/1500 [==============================] - 3s 2ms/step - loss: 2.3028 - acc: 0.0982 - val_loss: 2.3027 - val_acc: 0.0980\n",
            "Epoch 100/100\n",
            "1500/1500 [==============================] - 3s 2ms/step - loss: 2.3027 - acc: 0.0981 - val_loss: 2.3026 - val_acc: 0.0992\n"
          ],
          "name": "stdout"
        }
      ]
    },
    {
      "cell_type": "code",
      "metadata": {
        "id": "1araMEKw4Icu",
        "colab_type": "code",
        "colab": {
          "base_uri": "https://localhost:8080/",
          "height": 545
        },
        "outputId": "da256c86-53bb-4205-bd4c-8d6a402f3a60"
      },
      "source": [
        "acc = history.history['acc']\n",
        "val_acc = history.history['val_acc']\n",
        "loss = history.history['loss']\n",
        "val_loss = history.history['val_loss']\n",
        "epochs = range(1, len(acc) + 1)\n",
        "\n",
        "plt.title('Training and validation accuracy')\n",
        "plt.plot(epochs, acc, 'green', label='Training acc')\n",
        "plt.plot(epochs, val_acc, 'blue', label='Validation acc')\n",
        "plt.legend()\n",
        "\n",
        "plt.figure()\n",
        "plt.title('Training and validation loss')\n",
        "plt.plot(epochs, loss, 'green', label='Training loss')\n",
        "plt.plot(epochs, val_loss, 'blue', label='Validation loss')\n",
        "\n",
        "plt.legend()\n",
        "\n",
        "plt.show()"
      ],
      "execution_count": 48,
      "outputs": [
        {
          "output_type": "display_data",
          "data": {
            "image/png": "[encoded data removed]",
            "text/plain": [
              "<Figure size 432x288 with 1 Axes>"
            ]
          },
          "metadata": {
            "tags": [],
            "needs_background": "light"
          }
        },
        {
          "output_type": "display_data",
          "data": {
            "image/png": "[encoded data removed]",
            "text/plain": [
              "<Figure size 432x288 with 1 Axes>"
            ]
          },
          "metadata": {
            "tags": [],
            "needs_background": "light"
          }
        }
      ]
    },
    {
      "cell_type": "markdown",
      "metadata": {
        "id": "-2cDSWH3twvz",
        "colab_type": "text"
      },
      "source": [
        "With Fine-Tuning"
      ]
    },
    {
      "cell_type": "code",
      "metadata": {
        "id": "c7KHdGJQb9IB",
        "colab_type": "code",
        "colab": {
          "base_uri": "https://localhost:8080/",
          "height": 353
        },
        "outputId": "70aa9e8e-3f80-425d-a9cc-478ac26b6d7b"
      },
      "source": [
        "# Let's take a look to see how many layers are in the base model\n",
        "print(\"Number of layers in the base model: \", len(conv_base.layers))\n",
        "\n",
        "# Fine-tune from this layer onwards\n",
        "fine_tune_at = 100\n",
        "\n",
        "# Freeze all the layers before the `fine_tune_at` layer\n",
        "for layer in conv_base.layers[:fine_tune_at]:\n",
        "  layer.trainable =  False\n",
        "\n",
        "\n",
        "for layer in conv_base.layers:\n",
        "    print(layer, layer.trainable)\n"
      ],
      "execution_count": 49,
      "outputs": [
        {
          "output_type": "stream",
          "text": [
            "Number of layers in the base model:  19\n",
            "<tensorflow.python.keras.engine.input_layer.InputLayer object at 0x7f18300ce0f0> False\n",
            "<tensorflow.python.keras.layers.convolutional.Conv2D object at 0x7f18300ced68> False\n",
            "<tensorflow.python.keras.layers.convolutional.Conv2D object at 0x7f18300ceac8> False\n",
            "<tensorflow.python.keras.layers.pooling.MaxPooling2D object at 0x7f18300ce5f8> False\n",
            "<tensorflow.python.keras.layers.convolutional.Conv2D object at 0x7f18300bf828> False\n",
            "<tensorflow.python.keras.layers.convolutional.Conv2D object at 0x7f18300f6588> False\n",
            "<tensorflow.python.keras.layers.pooling.MaxPooling2D object at 0x7f18300f6da0> False\n",
            "<tensorflow.python.keras.layers.convolutional.Conv2D object at 0x7f18300f6e80> False\n",
            "<tensorflow.python.keras.layers.convolutional.Conv2D object at 0x7f18300dcd68> False\n",
            "<tensorflow.python.keras.layers.convolutional.Conv2D object at 0x7f18300e6748> False\n",
            "<tensorflow.python.keras.layers.pooling.MaxPooling2D object at 0x7f18300e6a58> False\n",
            "<tensorflow.python.keras.layers.convolutional.Conv2D object at 0x7f18300e0588> False\n",
            "<tensorflow.python.keras.layers.convolutional.Conv2D object at 0x7f1820127400> False\n",
            "<tensorflow.python.keras.layers.convolutional.Conv2D object at 0x7f1820127828> False\n",
            "<tensorflow.python.keras.layers.pooling.MaxPooling2D object at 0x7f18200fe400> False\n",
            "<tensorflow.python.keras.layers.convolutional.Conv2D object at 0x7f18200febe0> False\n",
            "<tensorflow.python.keras.layers.convolutional.Conv2D object at 0x7f182010fa58> False\n",
            "<tensorflow.python.keras.layers.convolutional.Conv2D object at 0x7f182010fb00> False\n",
            "<tensorflow.python.keras.layers.pooling.MaxPooling2D object at 0x7f1820128748> False\n"
          ],
          "name": "stdout"
        }
      ]
    },
    {
      "cell_type": "code",
      "metadata": {
        "id": "oTAS_yfxvSEh",
        "colab_type": "code",
        "colab": {
          "base_uri": "https://localhost:8080/",
          "height": 188
        },
        "outputId": "a1714422-6ee9-491b-92dc-f1e8818ffe0b"
      },
      "source": [
        "#Same with-tuning features are being extract\n",
        "train_features = conv_base.predict(np.array(train_X), batch_size=BATCH_SIZE, verbose=1)\n",
        "test_features = conv_base.predict(np.array(test_X), batch_size=BATCH_SIZE, verbose=1)\n",
        "val_features = conv_base.predict(np.array(valid_X), batch_size=BATCH_SIZE, verbose=1)\n",
        "train_features_flat = np.reshape(train_features, (48000, 1*1*512))\n",
        "val_features_flat = np.reshape(val_features, (12000, 1*1*512))\n"
      ],
      "execution_count": 50,
      "outputs": [
        {
          "output_type": "stream",
          "text": [
            "\r   1/3000 [..............................] - ETA: 0sWARNING:tensorflow:Callbacks method `on_predict_batch_end` is slow compared to the batch time (batch time: 0.0015s vs `on_predict_batch_end` time: 0.0043s). Check your callbacks.\n"
          ],
          "name": "stdout"
        },
        {
          "output_type": "stream",
          "text": [
            "WARNING:tensorflow:Callbacks method `on_predict_batch_end` is slow compared to the batch time (batch time: 0.0015s vs `on_predict_batch_end` time: 0.0043s). Check your callbacks.\n"
          ],
          "name": "stderr"
        },
        {
          "output_type": "stream",
          "text": [
            "3000/3000 [==============================] - 17s 6ms/step\n",
            "   1/3750 [..............................] - ETA: 0sWARNING:tensorflow:Callbacks method `on_predict_batch_end` is slow compared to the batch time (batch time: 0.0018s vs `on_predict_batch_end` time: 0.0038s). Check your callbacks.\n"
          ],
          "name": "stdout"
        },
        {
          "output_type": "stream",
          "text": [
            "WARNING:tensorflow:Callbacks method `on_predict_batch_end` is slow compared to the batch time (batch time: 0.0018s vs `on_predict_batch_end` time: 0.0038s). Check your callbacks.\n"
          ],
          "name": "stderr"
        },
        {
          "output_type": "stream",
          "text": [
            "3750/3750 [==============================] - 21s 6ms/step\n",
            "  1/750 [..............................] - ETA: 0sWARNING:tensorflow:Callbacks method `on_predict_batch_end` is slow compared to the batch time (batch time: 0.0015s vs `on_predict_batch_end` time: 0.0042s). Check your callbacks.\n"
          ],
          "name": "stdout"
        },
        {
          "output_type": "stream",
          "text": [
            "WARNING:tensorflow:Callbacks method `on_predict_batch_end` is slow compared to the batch time (batch time: 0.0015s vs `on_predict_batch_end` time: 0.0042s). Check your callbacks.\n"
          ],
          "name": "stderr"
        },
        {
          "output_type": "stream",
          "text": [
            "750/750 [==============================] - 4s 6ms/step\n"
          ],
          "name": "stdout"
        }
      ]
    },
    {
      "cell_type": "code",
      "metadata": {
        "id": "nCj8dj3M6p6U",
        "colab_type": "code",
        "colab": {}
      },
      "source": [
        "#Now we are trainig model with fine-tune\n",
        "NB_TRAIN_SAMPLES = train_features_flat.shape[0]\n",
        "NB_VALIDATION_SAMPLES = val_features_flat.shape[0]\n",
        "NB_EPOCHS = 100\n",
        "\n",
        "model2 = models.Sequential()\n",
        "model2.add(Flatten())\n",
        "model2.add(layers.Dense(512, activation='relu', input_dim=(1*1*512)))\n",
        "model2.add(layers.LeakyReLU(alpha=0.1))\n",
        "model2.add(layers.Dense(10, activation='softmax'))"
      ],
      "execution_count": 55,
      "outputs": []
    },
    {
      "cell_type": "code",
      "metadata": {
        "id": "eBL2i32x6qIl",
        "colab_type": "code",
        "colab": {}
      },
      "source": [
        "model2.compile(loss='categorical_crossentropy',\n",
        "               optimizer=optimizers.RMSprop(lr=1e-4),\n",
        "               metrics=['acc'])\n",
        " \n"
      ],
      "execution_count": 56,
      "outputs": []
    },
    {
      "cell_type": "code",
      "metadata": {
        "id": "pwmkGHCRBRDP",
        "colab_type": "code",
        "colab": {}
      },
      "source": [
        "#fine_tune_epochs = 10\n",
        "#total_epochs =  1 + fine_tune_epochs"
      ],
      "execution_count": 53,
      "outputs": []
    },
    {
      "cell_type": "code",
      "metadata": {
        "id": "67RVZnjdBUcy",
        "colab_type": "code",
        "colab": {
          "base_uri": "https://localhost:8080/",
          "height": 1000
        },
        "outputId": "a0fbf47e-eca6-4e42-bd0b-66c6bedff65d"
      },
      "source": [
        "history = model2.fit(train_features_flat,\n",
        "                        train_label,\n",
        "                         epochs=100,\n",
        "                       #  initial_epoch=history.epoch[-1],\n",
        "                         validation_data=(val_features_flat, valid_label),\n",
        "                         )"
      ],
      "execution_count": 57,
      "outputs": [
        {
          "output_type": "stream",
          "text": [
            "Epoch 1/100\n",
            "1500/1500 [==============================] - 3s 2ms/step - loss: 2.3614 - acc: 0.1018 - val_loss: 2.3307 - val_acc: 0.0992\n",
            "Epoch 2/100\n",
            "1500/1500 [==============================] - 3s 2ms/step - loss: 2.3293 - acc: 0.1002 - val_loss: 2.3456 - val_acc: 0.1007\n",
            "Epoch 3/100\n",
            "1500/1500 [==============================] - 3s 2ms/step - loss: 2.3283 - acc: 0.1003 - val_loss: 2.3151 - val_acc: 0.1049\n",
            "Epoch 4/100\n",
            "1500/1500 [==============================] - 3s 2ms/step - loss: 2.3282 - acc: 0.1005 - val_loss: 2.3168 - val_acc: 0.0990\n",
            "Epoch 5/100\n",
            "1500/1500 [==============================] - 3s 2ms/step - loss: 2.3278 - acc: 0.0991 - val_loss: 2.3344 - val_acc: 0.0980\n",
            "Epoch 6/100\n",
            "1500/1500 [==============================] - 3s 2ms/step - loss: 2.3280 - acc: 0.0979 - val_loss: 2.3111 - val_acc: 0.1016\n",
            "Epoch 7/100\n",
            "1500/1500 [==============================] - 3s 2ms/step - loss: 2.3273 - acc: 0.0984 - val_loss: 2.3143 - val_acc: 0.1016\n",
            "Epoch 8/100\n",
            "1500/1500 [==============================] - 3s 2ms/step - loss: 2.3260 - acc: 0.1020 - val_loss: 2.3374 - val_acc: 0.0983\n",
            "Epoch 9/100\n",
            "1500/1500 [==============================] - 3s 2ms/step - loss: 2.3261 - acc: 0.1014 - val_loss: 2.3181 - val_acc: 0.1028\n",
            "Epoch 10/100\n",
            "1500/1500 [==============================] - 3s 2ms/step - loss: 2.3250 - acc: 0.1027 - val_loss: 2.3295 - val_acc: 0.0993\n",
            "Epoch 11/100\n",
            "1500/1500 [==============================] - 3s 2ms/step - loss: 2.3261 - acc: 0.0995 - val_loss: 2.3344 - val_acc: 0.1049\n",
            "Epoch 12/100\n",
            "1500/1500 [==============================] - 3s 2ms/step - loss: 2.3245 - acc: 0.1018 - val_loss: 2.3222 - val_acc: 0.0983\n",
            "Epoch 13/100\n",
            "1500/1500 [==============================] - 3s 2ms/step - loss: 2.3252 - acc: 0.0983 - val_loss: 2.3122 - val_acc: 0.0993\n",
            "Epoch 14/100\n",
            "1500/1500 [==============================] - 3s 2ms/step - loss: 2.3230 - acc: 0.1013 - val_loss: 2.3659 - val_acc: 0.0990\n",
            "Epoch 15/100\n",
            "1500/1500 [==============================] - 3s 2ms/step - loss: 2.3236 - acc: 0.1004 - val_loss: 2.3343 - val_acc: 0.0993\n",
            "Epoch 16/100\n",
            "1500/1500 [==============================] - 3s 2ms/step - loss: 2.3241 - acc: 0.1003 - val_loss: 2.3380 - val_acc: 0.0980\n",
            "Epoch 17/100\n",
            "1500/1500 [==============================] - 3s 2ms/step - loss: 2.3228 - acc: 0.1012 - val_loss: 2.3198 - val_acc: 0.0980\n",
            "Epoch 18/100\n",
            "1500/1500 [==============================] - 3s 2ms/step - loss: 2.3219 - acc: 0.1018 - val_loss: 2.3120 - val_acc: 0.1049\n",
            "Epoch 19/100\n",
            "1500/1500 [==============================] - 3s 2ms/step - loss: 2.3221 - acc: 0.0989 - val_loss: 2.3245 - val_acc: 0.0983\n",
            "Epoch 20/100\n",
            "1500/1500 [==============================] - 3s 2ms/step - loss: 2.3225 - acc: 0.0971 - val_loss: 2.3125 - val_acc: 0.1049\n",
            "Epoch 21/100\n",
            "1500/1500 [==============================] - 3s 2ms/step - loss: 2.3204 - acc: 0.1011 - val_loss: 2.3509 - val_acc: 0.0980\n",
            "Epoch 22/100\n",
            "1500/1500 [==============================] - 3s 2ms/step - loss: 2.3209 - acc: 0.1007 - val_loss: 2.3219 - val_acc: 0.0980\n",
            "Epoch 23/100\n",
            "1500/1500 [==============================] - 3s 2ms/step - loss: 2.3207 - acc: 0.1010 - val_loss: 2.3315 - val_acc: 0.0983\n",
            "Epoch 24/100\n",
            "1500/1500 [==============================] - 3s 2ms/step - loss: 2.3201 - acc: 0.0998 - val_loss: 2.3199 - val_acc: 0.1049\n",
            "Epoch 25/100\n",
            "1500/1500 [==============================] - 3s 2ms/step - loss: 2.3204 - acc: 0.0988 - val_loss: 2.3220 - val_acc: 0.0964\n",
            "Epoch 26/100\n",
            "1500/1500 [==============================] - 3s 2ms/step - loss: 2.3198 - acc: 0.1003 - val_loss: 2.3129 - val_acc: 0.1016\n",
            "Epoch 27/100\n",
            "1500/1500 [==============================] - 4s 2ms/step - loss: 2.3196 - acc: 0.0995 - val_loss: 2.3185 - val_acc: 0.0990\n",
            "Epoch 28/100\n",
            "1500/1500 [==============================] - 3s 2ms/step - loss: 2.3194 - acc: 0.1009 - val_loss: 2.3236 - val_acc: 0.1049\n",
            "Epoch 29/100\n",
            "1500/1500 [==============================] - 3s 2ms/step - loss: 2.3193 - acc: 0.0999 - val_loss: 2.3273 - val_acc: 0.0993\n",
            "Epoch 30/100\n",
            "1500/1500 [==============================] - 3s 2ms/step - loss: 2.3181 - acc: 0.1007 - val_loss: 2.3176 - val_acc: 0.1016\n",
            "Epoch 31/100\n",
            "1500/1500 [==============================] - 3s 2ms/step - loss: 2.3186 - acc: 0.1007 - val_loss: 2.3080 - val_acc: 0.0980\n",
            "Epoch 32/100\n",
            "1500/1500 [==============================] - 3s 2ms/step - loss: 2.3179 - acc: 0.0995 - val_loss: 2.3166 - val_acc: 0.0992\n",
            "Epoch 33/100\n",
            "1500/1500 [==============================] - 3s 2ms/step - loss: 2.3172 - acc: 0.0999 - val_loss: 2.3068 - val_acc: 0.0992\n",
            "Epoch 34/100\n",
            "1500/1500 [==============================] - 3s 2ms/step - loss: 2.3172 - acc: 0.1008 - val_loss: 2.3165 - val_acc: 0.0980\n",
            "Epoch 35/100\n",
            "1500/1500 [==============================] - 3s 2ms/step - loss: 2.3165 - acc: 0.1014 - val_loss: 2.3294 - val_acc: 0.1028\n",
            "Epoch 36/100\n",
            "1500/1500 [==============================] - 3s 2ms/step - loss: 2.3169 - acc: 0.1010 - val_loss: 2.3129 - val_acc: 0.0993\n",
            "Epoch 37/100\n",
            "1500/1500 [==============================] - 3s 2ms/step - loss: 2.3170 - acc: 0.0975 - val_loss: 2.3145 - val_acc: 0.1028\n",
            "Epoch 38/100\n",
            "1500/1500 [==============================] - 3s 2ms/step - loss: 2.3162 - acc: 0.0995 - val_loss: 2.3179 - val_acc: 0.0964\n",
            "Epoch 39/100\n",
            "1500/1500 [==============================] - 3s 2ms/step - loss: 2.3157 - acc: 0.0999 - val_loss: 2.3059 - val_acc: 0.1049\n",
            "Epoch 40/100\n",
            "1500/1500 [==============================] - 3s 2ms/step - loss: 2.3144 - acc: 0.1016 - val_loss: 2.3080 - val_acc: 0.0990\n",
            "Epoch 41/100\n",
            "1500/1500 [==============================] - 3s 2ms/step - loss: 2.3140 - acc: 0.0996 - val_loss: 2.3095 - val_acc: 0.1028\n",
            "Epoch 42/100\n",
            "1500/1500 [==============================] - 3s 2ms/step - loss: 2.3144 - acc: 0.0990 - val_loss: 2.3075 - val_acc: 0.1028\n",
            "Epoch 43/100\n",
            "1500/1500 [==============================] - 3s 2ms/step - loss: 2.3135 - acc: 0.1013 - val_loss: 2.3209 - val_acc: 0.0964\n",
            "Epoch 44/100\n",
            "1500/1500 [==============================] - 3s 2ms/step - loss: 2.3138 - acc: 0.0995 - val_loss: 2.3115 - val_acc: 0.0992\n",
            "Epoch 45/100\n",
            "1500/1500 [==============================] - 3s 2ms/step - loss: 2.3133 - acc: 0.1007 - val_loss: 2.3081 - val_acc: 0.1007\n",
            "Epoch 46/100\n",
            "1500/1500 [==============================] - 3s 2ms/step - loss: 2.3135 - acc: 0.0989 - val_loss: 2.3076 - val_acc: 0.0964\n",
            "Epoch 47/100\n",
            "1500/1500 [==============================] - 3s 2ms/step - loss: 2.3128 - acc: 0.1000 - val_loss: 2.3164 - val_acc: 0.0964\n",
            "Epoch 48/100\n",
            "1500/1500 [==============================] - 3s 2ms/step - loss: 2.3127 - acc: 0.0993 - val_loss: 2.3183 - val_acc: 0.0983\n",
            "Epoch 49/100\n",
            "1500/1500 [==============================] - 3s 2ms/step - loss: 2.3120 - acc: 0.1012 - val_loss: 2.3078 - val_acc: 0.1028\n",
            "Epoch 50/100\n",
            "1500/1500 [==============================] - 3s 2ms/step - loss: 2.3114 - acc: 0.1006 - val_loss: 2.3214 - val_acc: 0.0990\n",
            "Epoch 51/100\n",
            "1500/1500 [==============================] - 3s 2ms/step - loss: 2.3120 - acc: 0.0996 - val_loss: 2.3200 - val_acc: 0.1016\n",
            "Epoch 52/100\n",
            "1500/1500 [==============================] - 3s 2ms/step - loss: 2.3112 - acc: 0.0997 - val_loss: 2.3075 - val_acc: 0.0964\n",
            "Epoch 53/100\n",
            "1500/1500 [==============================] - 3s 2ms/step - loss: 2.3109 - acc: 0.0989 - val_loss: 2.3128 - val_acc: 0.0990\n",
            "Epoch 54/100\n",
            "1500/1500 [==============================] - 3s 2ms/step - loss: 2.3106 - acc: 0.1002 - val_loss: 2.3136 - val_acc: 0.1016\n",
            "Epoch 55/100\n",
            "1500/1500 [==============================] - 3s 2ms/step - loss: 2.3111 - acc: 0.0975 - val_loss: 2.3075 - val_acc: 0.0964\n",
            "Epoch 56/100\n",
            "1500/1500 [==============================] - 3s 2ms/step - loss: 2.3109 - acc: 0.0994 - val_loss: 2.3099 - val_acc: 0.1049\n",
            "Epoch 57/100\n",
            "1500/1500 [==============================] - 3s 2ms/step - loss: 2.3104 - acc: 0.1002 - val_loss: 2.3116 - val_acc: 0.1016\n",
            "Epoch 58/100\n",
            "1500/1500 [==============================] - 3s 2ms/step - loss: 2.3098 - acc: 0.1005 - val_loss: 2.3062 - val_acc: 0.0993\n",
            "Epoch 59/100\n",
            "1500/1500 [==============================] - 3s 2ms/step - loss: 2.3095 - acc: 0.1013 - val_loss: 2.3099 - val_acc: 0.0993\n",
            "Epoch 60/100\n",
            "1500/1500 [==============================] - 3s 2ms/step - loss: 2.3094 - acc: 0.1002 - val_loss: 2.3119 - val_acc: 0.0993\n",
            "Epoch 61/100\n",
            "1500/1500 [==============================] - 3s 2ms/step - loss: 2.3094 - acc: 0.0998 - val_loss: 2.3092 - val_acc: 0.0983\n",
            "Epoch 62/100\n",
            "1500/1500 [==============================] - 3s 2ms/step - loss: 2.3095 - acc: 0.0998 - val_loss: 2.3078 - val_acc: 0.1049\n",
            "Epoch 63/100\n",
            "1500/1500 [==============================] - 3s 2ms/step - loss: 2.3091 - acc: 0.1007 - val_loss: 2.3113 - val_acc: 0.1028\n",
            "Epoch 64/100\n",
            "1500/1500 [==============================] - 3s 2ms/step - loss: 2.3090 - acc: 0.0998 - val_loss: 2.3111 - val_acc: 0.0983\n",
            "Epoch 65/100\n",
            "1500/1500 [==============================] - 3s 2ms/step - loss: 2.3088 - acc: 0.0987 - val_loss: 2.3058 - val_acc: 0.0992\n",
            "Epoch 66/100\n",
            "1500/1500 [==============================] - 3s 2ms/step - loss: 2.3084 - acc: 0.0997 - val_loss: 2.3078 - val_acc: 0.0990\n",
            "Epoch 67/100\n",
            "1500/1500 [==============================] - 3s 2ms/step - loss: 2.3084 - acc: 0.0993 - val_loss: 2.3063 - val_acc: 0.1007\n",
            "Epoch 68/100\n",
            "1500/1500 [==============================] - 3s 2ms/step - loss: 2.3086 - acc: 0.0979 - val_loss: 2.3120 - val_acc: 0.0990\n",
            "Epoch 69/100\n",
            "1500/1500 [==============================] - 3s 2ms/step - loss: 2.3083 - acc: 0.0998 - val_loss: 2.3104 - val_acc: 0.0990\n",
            "Epoch 70/100\n",
            "1500/1500 [==============================] - 3s 2ms/step - loss: 2.3080 - acc: 0.1030 - val_loss: 2.3058 - val_acc: 0.1007\n",
            "Epoch 71/100\n",
            "1500/1500 [==============================] - 3s 2ms/step - loss: 2.3080 - acc: 0.0994 - val_loss: 2.3065 - val_acc: 0.0993\n",
            "Epoch 72/100\n",
            "1500/1500 [==============================] - 3s 2ms/step - loss: 2.3078 - acc: 0.0983 - val_loss: 2.3088 - val_acc: 0.0993\n",
            "Epoch 73/100\n",
            "1500/1500 [==============================] - 3s 2ms/step - loss: 2.3074 - acc: 0.1006 - val_loss: 2.3118 - val_acc: 0.0964\n",
            "Epoch 74/100\n",
            "1500/1500 [==============================] - 3s 2ms/step - loss: 2.3079 - acc: 0.0984 - val_loss: 2.3109 - val_acc: 0.1049\n",
            "Epoch 75/100\n",
            "1500/1500 [==============================] - 3s 2ms/step - loss: 2.3072 - acc: 0.0988 - val_loss: 2.3086 - val_acc: 0.0993\n",
            "Epoch 76/100\n",
            "1500/1500 [==============================] - 3s 2ms/step - loss: 2.3073 - acc: 0.0999 - val_loss: 2.3081 - val_acc: 0.1028\n",
            "Epoch 77/100\n",
            "1500/1500 [==============================] - 3s 2ms/step - loss: 2.3075 - acc: 0.0999 - val_loss: 2.3031 - val_acc: 0.1049\n",
            "Epoch 78/100\n",
            "1500/1500 [==============================] - 3s 2ms/step - loss: 2.3073 - acc: 0.0984 - val_loss: 2.3034 - val_acc: 0.0964\n",
            "Epoch 79/100\n",
            "1500/1500 [==============================] - 3s 2ms/step - loss: 2.3070 - acc: 0.0993 - val_loss: 2.3084 - val_acc: 0.0964\n",
            "Epoch 80/100\n",
            "1500/1500 [==============================] - 3s 2ms/step - loss: 2.3069 - acc: 0.0996 - val_loss: 2.3067 - val_acc: 0.0980\n",
            "Epoch 81/100\n",
            "1500/1500 [==============================] - 3s 2ms/step - loss: 2.3064 - acc: 0.1017 - val_loss: 2.3044 - val_acc: 0.0990\n",
            "Epoch 82/100\n",
            "1500/1500 [==============================] - 3s 2ms/step - loss: 2.3063 - acc: 0.1016 - val_loss: 2.3073 - val_acc: 0.1007\n",
            "Epoch 83/100\n",
            "1500/1500 [==============================] - 3s 2ms/step - loss: 2.3069 - acc: 0.0999 - val_loss: 2.3085 - val_acc: 0.0964\n",
            "Epoch 84/100\n",
            "1500/1500 [==============================] - 3s 2ms/step - loss: 2.3066 - acc: 0.1000 - val_loss: 2.3050 - val_acc: 0.1049\n",
            "Epoch 85/100\n",
            "1500/1500 [==============================] - 3s 2ms/step - loss: 2.3065 - acc: 0.0978 - val_loss: 2.3060 - val_acc: 0.0983\n",
            "Epoch 86/100\n",
            "1500/1500 [==============================] - 3s 2ms/step - loss: 2.3060 - acc: 0.1009 - val_loss: 2.3075 - val_acc: 0.1028\n",
            "Epoch 87/100\n",
            "1500/1500 [==============================] - 3s 2ms/step - loss: 2.3061 - acc: 0.1002 - val_loss: 2.3050 - val_acc: 0.1049\n",
            "Epoch 88/100\n",
            "1500/1500 [==============================] - 3s 2ms/step - loss: 2.3059 - acc: 0.1017 - val_loss: 2.3051 - val_acc: 0.0980\n",
            "Epoch 89/100\n",
            "1500/1500 [==============================] - 3s 2ms/step - loss: 2.3060 - acc: 0.1016 - val_loss: 2.3059 - val_acc: 0.0964\n",
            "Epoch 90/100\n",
            "1500/1500 [==============================] - 3s 2ms/step - loss: 2.3059 - acc: 0.0981 - val_loss: 2.3076 - val_acc: 0.0993\n",
            "Epoch 91/100\n",
            "1500/1500 [==============================] - 3s 2ms/step - loss: 2.3060 - acc: 0.0985 - val_loss: 2.3060 - val_acc: 0.1007\n",
            "Epoch 92/100\n",
            "1500/1500 [==============================] - 3s 2ms/step - loss: 2.3055 - acc: 0.1034 - val_loss: 2.3075 - val_acc: 0.1007\n",
            "Epoch 93/100\n",
            "1500/1500 [==============================] - 3s 2ms/step - loss: 2.3059 - acc: 0.0995 - val_loss: 2.3091 - val_acc: 0.0983\n",
            "Epoch 94/100\n",
            "1500/1500 [==============================] - 3s 2ms/step - loss: 2.3059 - acc: 0.1001 - val_loss: 2.3040 - val_acc: 0.0992\n",
            "Epoch 95/100\n",
            "1500/1500 [==============================] - 3s 2ms/step - loss: 2.3057 - acc: 0.0972 - val_loss: 2.3040 - val_acc: 0.0983\n",
            "Epoch 96/100\n",
            "1500/1500 [==============================] - 3s 2ms/step - loss: 2.3056 - acc: 0.1009 - val_loss: 2.3047 - val_acc: 0.0964\n",
            "Epoch 97/100\n",
            "1500/1500 [==============================] - 3s 2ms/step - loss: 2.3056 - acc: 0.0989 - val_loss: 2.3053 - val_acc: 0.0992\n",
            "Epoch 98/100\n",
            "1500/1500 [==============================] - 3s 2ms/step - loss: 2.3059 - acc: 0.0989 - val_loss: 2.3062 - val_acc: 0.1028\n",
            "Epoch 99/100\n",
            "1500/1500 [==============================] - 3s 2ms/step - loss: 2.3056 - acc: 0.1013 - val_loss: 2.3040 - val_acc: 0.1016\n",
            "Epoch 100/100\n",
            "1500/1500 [==============================] - 3s 2ms/step - loss: 2.3056 - acc: 0.0990 - val_loss: 2.3049 - val_acc: 0.1028\n"
          ],
          "name": "stdout"
        }
      ]
    },
    {
      "cell_type": "code",
      "metadata": {
        "id": "lYAsBDaKrfQ7",
        "colab_type": "code",
        "colab": {
          "base_uri": "https://localhost:8080/",
          "height": 229
        },
        "outputId": "36b69f41-6f78-4bde-b881-d9f093db3ab2"
      },
      "source": [
        "acc = history.history['acc']\n",
        "val_acc = history.history['val_acc']\n",
        "loss = history.history['loss']\n",
        "val_loss = history.history['val_loss']\n",
        "epochs = range(1, len(acc) + 1)\n",
        "\n",
        "plt.title('Training and validation accuracy')\n",
        "plt.plot(epochs, acc, 'green', label='Training acc')\n",
        "plt.plot(epochs, val_acc, 'blue', label='Validation acc')\n",
        "plt.legend()\n",
        "\n",
        "plt.figure()\n",
        "plt.title('Training and validation loss')\n",
        "plt.plot(epochs, loss, 'green', label='Training loss')\n",
        "plt.plot(epochs, val_loss, 'blue', label='Validation loss')\n",
        "\n",
        "plt.legend()\n",
        "\n",
        "plt.show()"
      ],
      "execution_count": 83,
      "outputs": [
        {
          "output_type": "error",
          "ename": "KeyError",
          "evalue": "ignored",
          "traceback": [
            "\u001b[0;31m---------------------------------------------------------------------------\u001b[0m",
            "\u001b[0;31mKeyError\u001b[0m                                  Traceback (most recent call last)",
            "\u001b[0;32m<ipython-input-83-0dfddaf54e53>\u001b[0m in \u001b[0;36m<module>\u001b[0;34m()\u001b[0m\n\u001b[0;32m----> 1\u001b[0;31m \u001b[0macc\u001b[0m \u001b[0;34m=\u001b[0m \u001b[0mhistory\u001b[0m\u001b[0;34m.\u001b[0m\u001b[0mhistory\u001b[0m\u001b[0;34m[\u001b[0m\u001b[0;34m'acc'\u001b[0m\u001b[0;34m]\u001b[0m\u001b[0;34m\u001b[0m\u001b[0;34m\u001b[0m\u001b[0m\n\u001b[0m\u001b[1;32m      2\u001b[0m \u001b[0mval_acc\u001b[0m \u001b[0;34m=\u001b[0m \u001b[0mhistory\u001b[0m\u001b[0;34m.\u001b[0m\u001b[0mhistory\u001b[0m\u001b[0;34m[\u001b[0m\u001b[0;34m'val_acc'\u001b[0m\u001b[0;34m]\u001b[0m\u001b[0;34m\u001b[0m\u001b[0;34m\u001b[0m\u001b[0m\n\u001b[1;32m      3\u001b[0m \u001b[0mloss\u001b[0m \u001b[0;34m=\u001b[0m \u001b[0mhistory\u001b[0m\u001b[0;34m.\u001b[0m\u001b[0mhistory\u001b[0m\u001b[0;34m[\u001b[0m\u001b[0;34m'loss'\u001b[0m\u001b[0;34m]\u001b[0m\u001b[0;34m\u001b[0m\u001b[0;34m\u001b[0m\u001b[0m\n\u001b[1;32m      4\u001b[0m \u001b[0mval_loss\u001b[0m \u001b[0;34m=\u001b[0m \u001b[0mhistory\u001b[0m\u001b[0;34m.\u001b[0m\u001b[0mhistory\u001b[0m\u001b[0;34m[\u001b[0m\u001b[0;34m'val_loss'\u001b[0m\u001b[0;34m]\u001b[0m\u001b[0;34m\u001b[0m\u001b[0;34m\u001b[0m\u001b[0m\n\u001b[1;32m      5\u001b[0m \u001b[0mepochs\u001b[0m \u001b[0;34m=\u001b[0m \u001b[0mrange\u001b[0m\u001b[0;34m(\u001b[0m\u001b[0;36m1\u001b[0m\u001b[0;34m,\u001b[0m \u001b[0mlen\u001b[0m\u001b[0;34m(\u001b[0m\u001b[0macc\u001b[0m\u001b[0;34m)\u001b[0m \u001b[0;34m+\u001b[0m \u001b[0;36m1\u001b[0m\u001b[0;34m)\u001b[0m\u001b[0;34m\u001b[0m\u001b[0;34m\u001b[0m\u001b[0m\n",
            "\u001b[0;31mKeyError\u001b[0m: 'acc'"
          ]
        }
      ]
    },
    {
      "cell_type": "markdown",
      "metadata": {
        "colab_type": "text",
        "id": "UaHLKDLas_dF"
      },
      "source": [
        "### Task 1.5 Performance comparison\n",
        "\n",
        "\n",
        "Record the test accuracy achieved at different training configurations above. Which method achieved the highest accuracy? Why did it work better for this problem?\n"
      ]
    },
    {
      "cell_type": "markdown",
      "metadata": {
        "id": "kvmVcw7fvWm9",
        "colab_type": "text"
      },
      "source": [
        "\n",
        "| Task |Epochs |Test Accuracy\n",
        "|-------|---------|----------|\n",
        "|   1.1 (With DenseLayers)  | 100 | RMSprop  \n",
        "|   1.2( With CNN)  | 100 | RMSprop  \n",
        "|   1.3(With Data Augmentation | 100 | RMSprop  \n",
        "|   1.4(without fine tune)  | 100 | RMSprop\n",
        "|   1.4(fine-tine)  | 100 | RMSprop  \n",
        "\n"
      ]
    },
    {
      "cell_type": "code",
      "metadata": {
        "id": "XU-5eIgrD-c4",
        "colab_type": "code",
        "colab": {}
      },
      "source": [
        ""
      ],
      "execution_count": null,
      "outputs": []
    },
    {
      "cell_type": "markdown",
      "metadata": {
        "colab_type": "text",
        "id": "ouK5NY-_pLDK"
      },
      "source": [
        "## Task 2 Fast training of deep networks"
      ]
    },
    {
      "cell_type": "markdown",
      "metadata": {
        "colab_type": "text",
        "id": "LgoOE2W1pdfN"
      },
      "source": [
        "###### Task 2.1 Train a highly accurate network for CIFAR10\n",
        "\n",
        "\n",
        "In this task, you will train deep neural networks on the [CIFAR10 dataset](https://www.cs.toronto.edu/~kriz/cifar.html). Compared with the datasets that you have worked on so far, CIFAR10 represents a relatively larger multi-class classification problem and presents a great opportunity for you to solve a \"harder\" problem.\n",
        "\n"
      ]
    },
    {
      "cell_type": "markdown",
      "metadata": {
        "colab_type": "text",
        "id": "IaD5oqj3lhuI"
      },
      "source": [
        "#### Task 2.1.1 Document the hardware used\n",
        "\n",
        "Before you start, write down your hardware specifications, including \n",
        "\n",
        "- the GPU model, the number of GPUs, and the GPU memory\n",
        "- the CPU model, the number of CPUs, and the CPU clock speed\n",
        "\n",
        "(Hint: you may find commands like `nvidia-smi`, `lscpu` or `psutil` useful.)"
      ]
    },
    {
      "cell_type": "code",
      "metadata": {
        "id": "MTHgf5wFEEDb",
        "colab_type": "code",
        "colab": {
          "base_uri": "https://localhost:8080/",
          "height": 353
        },
        "outputId": "7803aaeb-6dab-4152-b79c-b7e6428e03e7"
      },
      "source": [
        "!nvidia-smi"
      ],
      "execution_count": null,
      "outputs": [
        {
          "output_type": "stream",
          "text": [
            "Thu Sep 10 16:32:02 2020       \n",
            "+-----------------------------------------------------------------------------+\n",
            "| NVIDIA-SMI 450.66       Driver Version: 418.67       CUDA Version: 10.1     |\n",
            "|-------------------------------+----------------------+----------------------+\n",
            "| GPU  Name        Persistence-M| Bus-Id        Disp.A | Volatile Uncorr. ECC |\n",
            "| Fan  Temp  Perf  Pwr:Usage/Cap|         Memory-Usage | GPU-Util  Compute M. |\n",
            "|                               |                      |               MIG M. |\n",
            "|===============================+======================+======================|\n",
            "|   0  Tesla P100-PCIE...  Off  | 00000000:00:04.0 Off |                    0 |\n",
            "| N/A   60C    P0    46W / 250W |   4725MiB / 16280MiB |      0%      Default |\n",
            "|                               |                      |                 ERR! |\n",
            "+-------------------------------+----------------------+----------------------+\n",
            "                                                                               \n",
            "+-----------------------------------------------------------------------------+\n",
            "| Processes:                                                                  |\n",
            "|  GPU   GI   CI        PID   Type   Process name                  GPU Memory |\n",
            "|        ID   ID                                                   Usage      |\n",
            "|=============================================================================|\n",
            "|  No running processes found                                                 |\n",
            "+-----------------------------------------------------------------------------+\n"
          ],
          "name": "stdout"
        }
      ]
    },
    {
      "cell_type": "code",
      "metadata": {
        "id": "9pjhfG_Yv3oS",
        "colab_type": "code",
        "colab": {
          "base_uri": "https://localhost:8080/",
          "height": 440
        },
        "outputId": "4f989c3c-d46a-4514-f707-3798bc577054"
      },
      "source": [
        "!lscpu"
      ],
      "execution_count": null,
      "outputs": [
        {
          "output_type": "stream",
          "text": [
            "Architecture:        x86_64\n",
            "CPU op-mode(s):      32-bit, 64-bit\n",
            "Byte Order:          Little Endian\n",
            "CPU(s):              4\n",
            "On-line CPU(s) list: 0-3\n",
            "Thread(s) per core:  2\n",
            "Core(s) per socket:  2\n",
            "Socket(s):           1\n",
            "NUMA node(s):        1\n",
            "Vendor ID:           GenuineIntel\n",
            "CPU family:          6\n",
            "Model:               79\n",
            "Model name:          Intel(R) Xeon(R) CPU @ 2.20GHz\n",
            "Stepping:            0\n",
            "CPU MHz:             2200.000\n",
            "BogoMIPS:            4400.00\n",
            "Hypervisor vendor:   KVM\n",
            "Virtualization type: full\n",
            "L1d cache:           32K\n",
            "L1i cache:           32K\n",
            "L2 cache:            256K\n",
            "L3 cache:            56320K\n",
            "NUMA node0 CPU(s):   0-3\n",
            "Flags:               fpu vme de pse tsc msr pae mce cx8 apic sep mtrr pge mca cmov pat pse36 clflush mmx fxsr sse sse2 ss ht syscall nx pdpe1gb rdtscp lm constant_tsc rep_good nopl xtopology nonstop_tsc cpuid tsc_known_freq pni pclmulqdq ssse3 fma cx16 pcid sse4_1 sse4_2 x2apic movbe popcnt aes xsave avx f16c rdrand hypervisor lahf_lm abm 3dnowprefetch invpcid_single ssbd ibrs ibpb stibp fsgsbase tsc_adjust bmi1 hle avx2 smep bmi2 erms invpcid rtm rdseed adx smap xsaveopt arat md_clear arch_capabilities\n"
          ],
          "name": "stdout"
        }
      ]
    },
    {
      "cell_type": "markdown",
      "metadata": {
        "colab_type": "text",
        "id": "adN9Tq-6lyG-"
      },
      "source": [
        "#### Task 2.1.2 Train a \"shallow\" ConvNet\n",
        "\n",
        "Build a ConvNet with fewer than 10 layers. Train the network until it converges. You will use this network as a baseline for the later experiments. \n",
        "\n",
        "- Plot the training and validation history. \n",
        "- Report the testing accuracy. "
      ]
    },
    {
      "cell_type": "code",
      "metadata": {
        "id": "QL7CvhjVEGSB",
        "colab_type": "code",
        "colab": {
          "base_uri": "https://localhost:8080/",
          "height": 134
        },
        "outputId": "63c364b5-e3b2-496e-d347-67068c44d9bb"
      },
      "source": [
        "from keras.optimizers import SGD\n",
        "from keras.layers.convolutional import Conv2D, MaxPooling2D\n",
        "from keras.utils import np_utils as u\n",
        "from keras.datasets import cifar10\n",
        "from keras.applications import VGG19,ResNet50\n",
        "\n",
        "#Lets start by loading the Cifar10 data\n",
        "(x_train, y_train), (x_test, y_test) = cifar10.load_data()\n",
        "\n",
        "\n",
        "x_train, x_test = x_train.astype('float32')/255.0, x_test.astype('float32')/255.0\n",
        "y_train, y_test = u.to_categorical(y_train, 10), u.to_categorical(y_test, 10)\n",
        "\n",
        "\n",
        "model = Sequential()\n",
        "model.add(Conv2D(32, (3, 3), input_shape=(32, 32, 3), padding='same',\n",
        "                 activation='relu'))\n",
        "model.add(Dropout(0.2))\n",
        "model.add(Conv2D(32, (3, 3), activation='relu', padding='same'))\n",
        "model.add(MaxPooling2D(pool_size=(2, 2)))\n",
        "model.add(Conv2D(32, (3, 3), activation='relu', padding='same'))\n",
        "model.add(MaxPooling2D(pool_size=(2, 2)))\n",
        "model.add(Conv2D(32, (3, 3), activation='relu', padding='same'))\n",
        "model.add(MaxPooling2D(pool_size=(2, 2)))\n",
        "\n",
        "model.add(Conv2D(32, (3, 3), activation='relu', padding='same'))\n",
        "model.add(MaxPooling2D(pool_size=(2, 2)))\n",
        "model.add(Conv2D(32, (3, 3), activation='relu', padding='same'))\n",
        "model.add(MaxPooling2D(pool_size=(2, 2)))\n",
        "\n",
        "model.add(Flatten())\n",
        "model.add(Dense(512, activation='relu'))\n",
        "model.add(Dropout(0.3))\n",
        "model.add(Dense(10, activation='softmax'))\n",
        "model.compile(loss='categorical_crossentropy',\n",
        "              optimizer=SGD(momentum=0.5, decay=0.0004), metrics=['accuracy'])\n",
        "model.fit(x_train, y_train, validation_data=(x_test, y_test), epochs=2,\n",
        "          batch_size=512)\n"
      ],
      "execution_count": null,
      "outputs": [
        {
          "output_type": "stream",
          "text": [
            "Downloading data from https://www.cs.toronto.edu/~kriz/cifar-10-python.tar.gz\n",
            "170500096/170498071 [==============================] - 4s 0us/step\n",
            "Epoch 1/2\n",
            "98/98 [==============================] - 2s 24ms/step - loss: 2.3019 - accuracy: 0.1171 - val_loss: 2.3017 - val_accuracy: 0.1316\n",
            "Epoch 2/2\n",
            "98/98 [==============================] - 2s 19ms/step - loss: 2.3004 - accuracy: 0.1309 - val_loss: 2.3008 - val_accuracy: 0.1524\n"
          ],
          "name": "stdout"
        },
        {
          "output_type": "execute_result",
          "data": {
            "text/plain": [
              "<tensorflow.python.keras.callbacks.History at 0x7f41c5d1a5f8>"
            ]
          },
          "metadata": {
            "tags": []
          },
          "execution_count": 37
        }
      ]
    },
    {
      "cell_type": "markdown",
      "metadata": {
        "colab_type": "text",
        "id": "9NTjVIUkmv7S"
      },
      "source": [
        "#### Task 2.1.3 Train a ResNet\n",
        "\n",
        "Train a residual neural network (ResNet) on the CIFAR10 training data and report the test accuracy and the training time.\n",
        "\n",
        "The ResNet is a popular network architecture for image classification. You may find more information about how ResNet works by reading this [paper](https://arxiv.org/abs/1512.03385).\n",
        "\n",
        "\n",
        "*(You may implement a resnet model or use an existing implementation. In either case, you should not use pretrained network weights.)*"
      ]
    },
    {
      "cell_type": "code",
      "metadata": {
        "id": "gmSh7ncwEJFw",
        "colab_type": "code",
        "colab": {
          "base_uri": "https://localhost:8080/",
          "height": 151
        },
        "outputId": "4d4666af-6882-4177-cb0f-b970c466a331"
      },
      "source": [
        "(x_train,y_train),(x_test,y_test)=cifar10.load_data()\n",
        "x_train,x_val,y_train,y_val=train_test_split(x_train,y_train,test_size=.3)\n",
        "print((x_train.shape,y_train.shape))\n",
        "print((x_val.shape,y_val.shape))\n",
        "print((x_test.shape,y_test.shape))\n",
        "y_train=to_categorical(y_train)\n",
        "y_val=to_categorical(y_val)\n",
        "y_test=to_categorical(y_test)\n",
        "\n",
        "print((x_train.shape,y_train.shape))\n",
        "print((x_val.shape,y_val.shape))\n",
        "print((x_test.shape,y_test.shape))\n",
        "base_model_2 = ResNet50(include_top=False,weights='imagenet',input_shape=(32,32,3),classes=y_train.shape[1])"
      ],
      "execution_count": null,
      "outputs": [
        {
          "output_type": "stream",
          "text": [
            "((35000, 32, 32, 3), (35000, 1))\n",
            "((15000, 32, 32, 3), (15000, 1))\n",
            "((10000, 32, 32, 3), (10000, 1))\n",
            "((35000, 32, 32, 3), (35000, 10))\n",
            "((15000, 32, 32, 3), (15000, 10))\n",
            "((10000, 32, 32, 3), (10000, 10))\n",
            "Downloading data from https://storage.googleapis.com/tensorflow/keras-applications/resnet/resnet50_weights_tf_dim_ordering_tf_kernels_notop.h5\n",
            "94773248/94765736 [==============================] - 1s 0us/step\n"
          ],
          "name": "stdout"
        }
      ]
    },
    {
      "cell_type": "code",
      "metadata": {
        "id": "e3fJJAwiKNEr",
        "colab_type": "code",
        "colab": {}
      },
      "source": [
        "from keras.optimizers import SGD,Adam\n",
        "from keras.callbacks import ReduceLROnPlateau\n",
        "\n",
        "model_1= Sequential()\n",
        "model_1.add(base_model_2) #Adds the base model (in this case vgg19 to model_1)\n",
        "model_1.add(Flatten())\n",
        "#Add the Dense layers along with activation and batch normalization\n",
        "model_1.add(Dense(1024,activation=('relu'),input_dim=512))\n",
        "model_1.add(Dense(512,activation=('relu'))) \n",
        "model_1.add(Dense(256,activation=('relu'))) \n",
        "#model_1.add(Dropout(.3))#Adding a dropout layer that will randomly drop 30% of the weights\n",
        "model_1.add(Dense(128,activation=('relu')))\n",
        "#model_1.add(Dropout(.2))\n",
        "model_1.add(Dense(10,activation=('softmax'))) #This is the classification layer\n",
        "learn_rate=.001\n",
        "\n",
        "sgd=SGD(lr=learn_rate,momentum=.9,nesterov=False)\n",
        "model_1.compile(optimizer=sgd,loss='categorical_crossentropy',metrics=['accuracy'])"
      ],
      "execution_count": null,
      "outputs": []
    },
    {
      "cell_type": "code",
      "metadata": {
        "id": "yX_XO1rFODhQ",
        "colab_type": "code",
        "colab": {
          "base_uri": "https://localhost:8080/",
          "height": 34
        },
        "outputId": "d650a25a-c1e8-437f-bd4b-eac70779722f"
      },
      "source": [
        "history = model_1.fit(x_train,\n",
        "                       y_train,\n",
        "                         epochs=1,\n",
        "                         )"
      ],
      "execution_count": null,
      "outputs": [
        {
          "output_type": "stream",
          "text": [
            "1094/1094 [==============================] - 38s 35ms/step - loss: 1.3485 - accuracy: 0.5276\n"
          ],
          "name": "stdout"
        }
      ]
    },
    {
      "cell_type": "markdown",
      "metadata": {
        "colab_type": "text",
        "id": "AH6ZBiECzS75"
      },
      "source": [
        "### Task 2.2 Fast training of ResNet\n",
        "\n",
        "\n",
        "In this task, you will experiment with different ways to reduce the time for training your ResNet on CIFAR10. There are different ways to speed up neural network training; below are two ideas. Please select at least one idea to implement. Explain the experiment steps and report the final performance and training time.\n",
        "\n",
        "#### Option 1. Learning rate schedule\n",
        "\n",
        "Use a learning rate schedule for the training. Some popular learning rate schedules include \n",
        "\n",
        "- the Step Decay learning rate (e.g., see [here](https://github.com/kuangliu/pytorch-cifar))\n",
        "- [Cyclical learning rates](https://arxiv.org/abs/1506.01186)\n",
        "- [The exponential learning rate](https://openreview.net/forum?id=rJg8TeSFDH) \n",
        "\n",
        "Also Keras provides [some convenient functions](https://www.tensorflow.org/api_docs/python/tf/keras/optimizers/schedules) that you can use.\n",
        "\n",
        "\n",
        "#### Option 2. Look ahead optimiser\n",
        "\n",
        "Read [this paper](https://arxiv.org/abs/1907.08610) and implement the Lookahead optimiser."
      ]
    },
    {
      "cell_type": "code",
      "metadata": {
        "id": "1uaNtANSEKkl",
        "colab_type": "code",
        "colab": {
          "base_uri": "https://localhost:8080/",
          "height": 134
        },
        "outputId": "38f67754-dcd8-4112-dba7-4467d246734f"
      },
      "source": [
        "#Option 1\n",
        "!git clone https://github.com/bckenstler/CLR.git\n",
        "#adam=Adam(lr=learn_rate, beta_1=0.9, beta_2=0.999, epsilon=None, decay=0.0, amsgrad=False)"
      ],
      "execution_count": null,
      "outputs": [
        {
          "output_type": "stream",
          "text": [
            "Cloning into 'CLR'...\n",
            "remote: Enumerating objects: 8, done.\u001b[K\n",
            "remote: Counting objects: 100% (8/8), done.\u001b[K\n",
            "remote: Compressing objects: 100% (7/7), done.\u001b[K\n",
            "remote: Total 252 (delta 1), reused 4 (delta 0), pack-reused 244\u001b[K\n",
            "Receiving objects: 100% (252/252), 2.06 MiB | 28.11 MiB/s, done.\n",
            "Resolving deltas: 100% (87/87), done.\n"
          ],
          "name": "stdout"
        }
      ]
    },
    {
      "cell_type": "code",
      "metadata": {
        "id": "wPMKCdvrOmLI",
        "colab_type": "code",
        "colab": {
          "base_uri": "https://localhost:8080/",
          "height": 34
        },
        "outputId": "78cb19e4-2960-4fd6-e6fc-7e6ad8408fb8"
      },
      "source": [
        "cd /content/CLR \n"
      ],
      "execution_count": null,
      "outputs": [
        {
          "output_type": "stream",
          "text": [
            "/content/CLR\n"
          ],
          "name": "stdout"
        }
      ]
    },
    {
      "cell_type": "code",
      "metadata": {
        "id": "ZJc3-nXbOfoY",
        "colab_type": "code",
        "colab": {}
      },
      "source": [
        "from keras.callbacks import *\n",
        "from clr_callback import *\n",
        "from keras.optimizers import Adam\n",
        "import math\n",
        "\n",
        "#Exponential Decay\n",
        "def exp_decay(t):\n",
        "   initial_lrate = 0.1\n",
        "   k = 0.1\n",
        "   lrate = initial_lrate * math.exp(-k*t)\n",
        "   return lrate\n",
        "lrate = LearningRateScheduler(exp_decay)\n",
        "\n",
        "\n",
        "#Exponential Learning Rate\n",
        "def scheduler(epoch, lr):\n",
        "     if epoch < 10:\n",
        "       return lr\n",
        "     else:\n",
        "       return lr * math.exp(-0.1)\n",
        "\n",
        "\n",
        "#Cyclic Learning Rates\n",
        "clr_triangular = CyclicLR(mode='triangular')\n"
      ],
      "execution_count": null,
      "outputs": []
    },
    {
      "cell_type": "code",
      "metadata": {
        "id": "3iKL-gJY6rm_",
        "colab_type": "code",
        "colab": {}
      },
      "source": [
        "callback = tf.keras.callbacks.LearningRateScheduler(scheduler)\n",
        "sgd=SGD(lr=learn_rate,momentum=.9,nesterov=False)\n",
        "model_1.compile(optimizer=sgd,loss='categorical_crossentropy',metrics=['accuracy'])\n"
      ],
      "execution_count": null,
      "outputs": []
    },
    {
      "cell_type": "code",
      "metadata": {
        "id": "fzP2VhY_6ihN",
        "colab_type": "code",
        "colab": {
          "base_uri": "https://localhost:8080/",
          "height": 34
        },
        "outputId": "8c9b3097-b669-4d0d-9980-69b403745b62"
      },
      "source": [
        "history = model_1.fit(x_train,\n",
        "                       y_train,\n",
        "                         epochs=1,\n",
        "                      callbacks=[clr_triangular,callback,lrate],\n",
        "                    \n",
        "                         )"
      ],
      "execution_count": null,
      "outputs": [
        {
          "output_type": "stream",
          "text": [
            "1094/1094 [==============================] - 39s 35ms/step - loss: 1.2770 - accuracy: 0.5745\n"
          ],
          "name": "stdout"
        }
      ]
    },
    {
      "cell_type": "code",
      "metadata": {
        "id": "Ir1tcLKaD90L",
        "colab_type": "code",
        "colab": {
          "base_uri": "https://localhost:8080/",
          "height": 34
        },
        "outputId": "7cb475b0-3950-4195-c9d8-20f8269f435c"
      },
      "source": [
        "cd .."
      ],
      "execution_count": null,
      "outputs": [
        {
          "output_type": "stream",
          "text": [
            "/content\n"
          ],
          "name": "stdout"
        }
      ]
    },
    {
      "cell_type": "code",
      "metadata": {
        "id": "YTAgpBtI_jBR",
        "colab_type": "code",
        "colab": {}
      },
      "source": [
        "#Option 2 lookahed optimizer\n"
      ],
      "execution_count": null,
      "outputs": []
    },
    {
      "cell_type": "code",
      "metadata": {
        "id": "sL77x9ckHpaC",
        "colab_type": "code",
        "colab": {}
      },
      "source": [
        "import tensorflow_addons as tfa\n",
        "opt = tf.keras.optimizers.SGD(lr=0.001)\n",
        "opt = tfa.optimizers.Lookahead(opt)\n",
        "model_1.compile(optimizer=opt,loss='categorical_crossentropy',metrics=['accuracy'])\n"
      ],
      "execution_count": null,
      "outputs": []
    },
    {
      "cell_type": "code",
      "metadata": {
        "id": "MFLUUXuWJXEm",
        "colab_type": "code",
        "colab": {
          "base_uri": "https://localhost:8080/",
          "height": 34
        },
        "outputId": "ff4ca24e-c507-4e12-9f98-ead30bde7a2a"
      },
      "source": [
        "history = model_1.fit(x_train,\n",
        "                       y_train,\n",
        "                         epochs=1)"
      ],
      "execution_count": null,
      "outputs": [
        {
          "output_type": "stream",
          "text": [
            "1094/1094 [==============================] - 69s 63ms/step - loss: 0.8018 - accuracy: 0.7334\n"
          ],
          "name": "stdout"
        }
      ]
    },
    {
      "cell_type": "markdown",
      "metadata": {
        "colab_type": "text",
        "id": "C8cKfAOjpn7c"
      },
      "source": [
        "### Task 2.3 Performance comparison\n",
        "\n",
        "\n",
        "Based on the above experiments, which method or which combination of methods result in the best accuracy with the same training time."
      ]
    },
    {
      "cell_type": "code",
      "metadata": {
        "id": "GEDDk2QfEL7V",
        "colab_type": "code",
        "colab": {}
      },
      "source": [
        ""
      ],
      "execution_count": null,
      "outputs": []
    },
    {
      "cell_type": "markdown",
      "metadata": {
        "id": "V4fYdj1bwQT2",
        "colab_type": "text"
      },
      "source": [
        "## Task 3 Design a novel deep neural network model \n",
        "Here, you have to show your critical idea to design a new neural network model. We will evaluate your results based on the novelty of the model and performance of the model. "
      ]
    },
    {
      "cell_type": "markdown",
      "metadata": {
        "id": "6UixQS84wQT3",
        "colab_type": "text"
      },
      "source": [
        "### Task 3.1: The key idea to design a novel deep neural networks for CIFAR10\n",
        "\n",
        "\n",
        "In this task, you will design a novel deep neural networks on the [CIFAR10 dataset](https://www.cs.toronto.edu/~kriz/cifar.html). CIFAR10 represents a relatively larger multi-class classification problem and presents a great opportunity for you to solve a \"harder\" problem. Different from Task 2, in this task you are required to design a novel neural network and optimize the performance in classification. In your answer, you have to clearly present what the key difference between your model and the classic ones, what the benefits in your design model."
      ]
    },
    {
      "cell_type": "code",
      "metadata": {
        "id": "QM6eAqmcENu8",
        "colab_type": "code",
        "colab": {}
      },
      "source": [
        ""
      ],
      "execution_count": null,
      "outputs": []
    },
    {
      "cell_type": "code",
      "metadata": {
        "id": "5Hk2ERU9k2Ub",
        "colab_type": "code",
        "colab": {}
      },
      "source": [
        ""
      ],
      "execution_count": null,
      "outputs": []
    },
    {
      "cell_type": "code",
      "metadata": {
        "id": "GYsLJGTDkuu2",
        "colab_type": "code",
        "colab": {}
      },
      "source": [
        ""
      ],
      "execution_count": null,
      "outputs": []
    },
    {
      "cell_type": "markdown",
      "metadata": {
        "id": "DE4JZr5nwQT4",
        "colab_type": "text"
      },
      "source": [
        "### Task 3.2: The implementation of the novel deep neural networks for CIFAR10\n",
        "\n",
        "\n",
        "\n",
        "In this task, it requires you to write the codes for model implementation and report the performance. In your results, you have to demonstrate the compared performance of your new model and the state-of-the-art models."
      ]
    },
    {
      "cell_type": "code",
      "metadata": {
        "id": "jrbodkvhEOma",
        "colab_type": "code",
        "colab": {}
      },
      "source": [
        "\n",
        "(x_train,y_train),(x_test,y_test)=cifar10.load_data()\n",
        "\n",
        "\n",
        "x_train,x_val,y_train,y_val=train_test_split(x_train,y_train,test_size=.3)\n",
        "\n",
        "y_train=to_categorical(y_train)\n",
        "y_val=to_categorical(y_val)\n",
        "y_test=to_categorical(y_test)\n",
        "\n",
        "\n",
        "model = Sequential()\n",
        "model.add(Flatten(input_shape = x_train.shape[1:]))\n",
        "model.add(Dense(256,activation = 'relu'))\n",
        "model.add(Dropout(0.5))\n",
        "model.add(Dense(10,activation = 'softmax'))\n",
        "\n",
        "# compile it - categorical crossentropy is for multiple choice classification\n",
        "model.compile(optimizer='rmsprop',\n",
        "              loss='categorical_crossentropy',\n",
        "              metrics=['accuracy'])"
      ],
      "execution_count": null,
      "outputs": []
    },
    {
      "cell_type": "code",
      "metadata": {
        "id": "xrV3XHI8npaQ",
        "colab_type": "code",
        "colab": {
          "base_uri": "https://localhost:8080/",
          "height": 487
        },
        "outputId": "c7877654-d04a-4ffd-b696-15aa8c6c7475"
      },
      "source": [
        "# train the model!\n",
        "result=model.fit(x_train,\n",
        "          y_train,\n",
        "          epochs = 14,\n",
        "          batch_size = 32,\n",
        "          validation_data = (x_val,y_val))\n"
      ],
      "execution_count": null,
      "outputs": [
        {
          "output_type": "stream",
          "text": [
            "Epoch 1/14\n",
            "1094/1094 [==============================] - 4s 4ms/step - loss: 2.3221 - accuracy: 0.0983 - val_loss: 2.3026 - val_accuracy: 0.0990\n",
            "Epoch 2/14\n",
            "1094/1094 [==============================] - 5s 5ms/step - loss: 2.3351 - accuracy: 0.0979 - val_loss: 2.3026 - val_accuracy: 0.0973\n",
            "Epoch 3/14\n",
            "1094/1094 [==============================] - 5s 5ms/step - loss: 2.3447 - accuracy: 0.1011 - val_loss: 2.3027 - val_accuracy: 0.0973\n",
            "Epoch 4/14\n",
            "1094/1094 [==============================] - 4s 4ms/step - loss: 2.3342 - accuracy: 0.1008 - val_loss: 2.3027 - val_accuracy: 0.0973\n",
            "Epoch 5/14\n",
            "1094/1094 [==============================] - 4s 4ms/step - loss: 2.3329 - accuracy: 0.0996 - val_loss: 2.3027 - val_accuracy: 0.0973\n",
            "Epoch 6/14\n",
            "1094/1094 [==============================] - 4s 4ms/step - loss: 2.3248 - accuracy: 0.0987 - val_loss: 2.3026 - val_accuracy: 0.1000\n",
            "Epoch 7/14\n",
            "1094/1094 [==============================] - 4s 4ms/step - loss: 2.3383 - accuracy: 0.1003 - val_loss: 2.3026 - val_accuracy: 0.0973\n",
            "Epoch 8/14\n",
            "1094/1094 [==============================] - 4s 4ms/step - loss: 2.3273 - accuracy: 0.0998 - val_loss: 2.3027 - val_accuracy: 0.0973\n",
            "Epoch 9/14\n",
            "1094/1094 [==============================] - 4s 4ms/step - loss: 2.3028 - accuracy: 0.0989 - val_loss: 2.3027 - val_accuracy: 0.0973\n",
            "Epoch 10/14\n",
            "1094/1094 [==============================] - 4s 4ms/step - loss: 2.3281 - accuracy: 0.1003 - val_loss: 2.3026 - val_accuracy: 0.0973\n",
            "Epoch 11/14\n",
            "1094/1094 [==============================] - 4s 4ms/step - loss: 2.3323 - accuracy: 0.0994 - val_loss: 2.3026 - val_accuracy: 0.0994\n",
            "Epoch 12/14\n",
            "1094/1094 [==============================] - 4s 4ms/step - loss: 2.3074 - accuracy: 0.1006 - val_loss: 2.3028 - val_accuracy: 0.0973\n",
            "Epoch 13/14\n",
            "1094/1094 [==============================] - 4s 4ms/step - loss: 2.3037 - accuracy: 0.0978 - val_loss: 2.3027 - val_accuracy: 0.0973\n",
            "Epoch 14/14\n",
            "1094/1094 [==============================] - 4s 4ms/step - loss: 2.3030 - accuracy: 0.0983 - val_loss: 2.3026 - val_accuracy: 0.0990\n"
          ],
          "name": "stdout"
        }
      ]
    },
    {
      "cell_type": "code",
      "metadata": {
        "id": "c4GNx9Vc4kV2",
        "colab_type": "code",
        "colab": {
          "base_uri": "https://localhost:8080/",
          "height": 545
        },
        "outputId": "6869be26-d2ae-4d80-f2c5-bacfaff1c8c2"
      },
      "source": [
        "acc = result.history['accuracy']\n",
        "val_acc = result.history['val_accuracy']\n",
        "loss = result.history['loss']\n",
        "val_loss = result.history['val_loss']\n",
        "epochs = range(1, len(acc) + 1)\n",
        "\n",
        "plt.title('Training and validation accuracy')\n",
        "plt.plot(epochs, acc, 'green', label='Training acc')\n",
        "plt.plot(epochs, val_acc, 'blue', label='Validation acc')\n",
        "plt.legend()\n",
        "\n",
        "plt.figure()\n",
        "plt.title('Training and validation loss')\n",
        "plt.plot(epochs, loss, 'green', label='Training loss')\n",
        "plt.plot(epochs, val_loss, 'blue', label='Validation loss')\n",
        "\n",
        "plt.legend()\n",
        "\n",
        "plt.show()"
      ],
      "execution_count": null,
      "outputs": [
        {
          "output_type": "display_data",
          "data": {
            "image/png": "[encoded data removed]",
            "text/plain": [
              "<Figure size 432x288 with 1 Axes>"
            ]
          },
          "metadata": {
            "tags": [],
            "needs_background": "light"
          }
        },
        {
          "output_type": "display_data",
          "data": {
            "image/png": "[encoded data removed]",
            "text/plain": [
              "<Figure size 432x288 with 1 Axes>"
            ]
          },
          "metadata": {
            "tags": [],
            "needs_background": "light"
          }
        }
      ]
    },
    {
      "cell_type": "markdown",
      "metadata": {
        "colab_type": "text",
        "id": "hUV0wuZ01DNA"
      },
      "source": [
        "---\n",
        "**END OF PART TWO**"
      ]
    }
  ]
}